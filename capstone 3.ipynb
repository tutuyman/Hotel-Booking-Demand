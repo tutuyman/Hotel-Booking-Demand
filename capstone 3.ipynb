{
 "cells": [
  {
   "cell_type": "markdown",
   "metadata": {},
   "source": [
    "# Hotel Booking Demand\n",
    "\n",
    "### Andri Rifky,JCDS 1804 Jakarta\n",
    "\n"
   ]
  },
  {
   "cell_type": "markdown",
   "metadata": {},
   "source": [
    "## Business Problem Understanding"
   ]
  },
  {
   "cell_type": "markdown",
   "metadata": {},
   "source": [
    "**Context**  \n",
    "Sebuah hotel ingin menyiapkan kamar untuk calon pelanggannya. dari catatan yang ada, hotel ingin mengetahui pelanggan mana yang akan benar - benar menginap dan mana yang tidak.\n",
    "\n",
    "\n",
    "Target :\n",
    "\n",
    "0 : Tidak membatalkan booking\n",
    "\n",
    "1 : Membatalkan Booking"
   ]
  },
  {
   "cell_type": "markdown",
   "metadata": {},
   "source": [
    "**Problem Statement :**\n",
    "\n",
    "Proses penyiapan fasilitas seperti kamar pada hotel memakan waktu dan sumber daya. Jika hotel menyiapkan semua fasilitas tetapi tidak digunakan maka akan sia - sia dan hotel dapat merugi.Sedangkan beberapa fasilitas hotel kualitasnya akan menurun tiap waktu (contoh: makanan pada restaurant), sehingga fasilitas harus disiapkan disaat diminta.\n",
    "\n",
    "**Goals :**\n",
    "\n",
    "Maka berdasarkan permasalahan tersebut, hotel ingin memiliki kemampuan untuk memprediksi faktor - faktor apa saja yang membuat pelanggan membatalkan booking, sehingga dapat memfokuskan penyiapan fasilitas pada pelanggan yang akan menginap dihotel tersebut. \n",
    "\n",
    "Dan juga, jika hotel memiliki pelanngan dalam waiting list , mereka dapat memprioritaskan pelanggan yang tidak dalam kriteria pelanggan yang mebatalkan booking.\n",
    "\n",
    "\n",
    "**Analytic Approach :**\n",
    "\n",
    "Jadi yang akan kita lakukan adalah menganalisis data untuk menemukan pola yang membedakan pengunjung yang jadi menginap di hotel dan yang tidak jadi(batal).\n",
    "\n",
    "Kemudian kita akan membangun model klasifikasi yang akan membantu hotel untuk dapat memprediksi probabilitas pengunjung yang akan menginap atau tidak."
   ]
  },
  {
   "cell_type": "markdown",
   "metadata": {},
   "source": [
    "![title](picture.jpg)"
   ]
  },
  {
   "cell_type": "markdown",
   "metadata": {},
   "source": [
    "Type 1 error : False Positive  \n",
    "Konsekuensi: Kehilangan pengunjung, menurunkan reputasi hotel\n",
    "\n",
    "Type 2 error : False Negative  \n",
    "Konsekuensi: Sia-sia sumber daya untuk persiapan fasilitas"
   ]
  },
  {
   "cell_type": "code",
   "execution_count": 1,
   "metadata": {},
   "outputs": [],
   "source": [
    "import pandas as pd\n",
    "import numpy as np\n",
    "\n",
    "import seaborn as snis\n",
    "import matplotlib.pyplot as mpl"
   ]
  },
  {
   "cell_type": "code",
   "execution_count": 2,
   "metadata": {},
   "outputs": [
    {
     "data": {
      "text/html": [
       "<div>\n",
       "<style scoped>\n",
       "    .dataframe tbody tr th:only-of-type {\n",
       "        vertical-align: middle;\n",
       "    }\n",
       "\n",
       "    .dataframe tbody tr th {\n",
       "        vertical-align: top;\n",
       "    }\n",
       "\n",
       "    .dataframe thead th {\n",
       "        text-align: right;\n",
       "    }\n",
       "</style>\n",
       "<table border=\"1\" class=\"dataframe\">\n",
       "  <thead>\n",
       "    <tr style=\"text-align: right;\">\n",
       "      <th></th>\n",
       "      <th>country</th>\n",
       "      <th>market_segment</th>\n",
       "      <th>previous_cancellations</th>\n",
       "      <th>booking_changes</th>\n",
       "      <th>deposit_type</th>\n",
       "      <th>days_in_waiting_list</th>\n",
       "      <th>customer_type</th>\n",
       "      <th>reserved_room_type</th>\n",
       "      <th>required_car_parking_spaces</th>\n",
       "      <th>total_of_special_requests</th>\n",
       "      <th>is_canceled</th>\n",
       "    </tr>\n",
       "  </thead>\n",
       "  <tbody>\n",
       "    <tr>\n",
       "      <th>0</th>\n",
       "      <td>IRL</td>\n",
       "      <td>Offline TA/TO</td>\n",
       "      <td>0</td>\n",
       "      <td>0</td>\n",
       "      <td>No Deposit</td>\n",
       "      <td>0</td>\n",
       "      <td>Transient-Party</td>\n",
       "      <td>A</td>\n",
       "      <td>0</td>\n",
       "      <td>0</td>\n",
       "      <td>0</td>\n",
       "    </tr>\n",
       "    <tr>\n",
       "      <th>1</th>\n",
       "      <td>FRA</td>\n",
       "      <td>Online TA</td>\n",
       "      <td>0</td>\n",
       "      <td>0</td>\n",
       "      <td>No Deposit</td>\n",
       "      <td>0</td>\n",
       "      <td>Transient</td>\n",
       "      <td>A</td>\n",
       "      <td>0</td>\n",
       "      <td>2</td>\n",
       "      <td>0</td>\n",
       "    </tr>\n",
       "    <tr>\n",
       "      <th>2</th>\n",
       "      <td>PRT</td>\n",
       "      <td>Online TA</td>\n",
       "      <td>0</td>\n",
       "      <td>1</td>\n",
       "      <td>No Deposit</td>\n",
       "      <td>0</td>\n",
       "      <td>Transient</td>\n",
       "      <td>A</td>\n",
       "      <td>0</td>\n",
       "      <td>2</td>\n",
       "      <td>0</td>\n",
       "    </tr>\n",
       "    <tr>\n",
       "      <th>3</th>\n",
       "      <td>NLD</td>\n",
       "      <td>Online TA</td>\n",
       "      <td>0</td>\n",
       "      <td>0</td>\n",
       "      <td>No Deposit</td>\n",
       "      <td>0</td>\n",
       "      <td>Transient</td>\n",
       "      <td>A</td>\n",
       "      <td>0</td>\n",
       "      <td>1</td>\n",
       "      <td>1</td>\n",
       "    </tr>\n",
       "    <tr>\n",
       "      <th>4</th>\n",
       "      <td>PRT</td>\n",
       "      <td>Online TA</td>\n",
       "      <td>0</td>\n",
       "      <td>2</td>\n",
       "      <td>No Deposit</td>\n",
       "      <td>0</td>\n",
       "      <td>Transient</td>\n",
       "      <td>A</td>\n",
       "      <td>0</td>\n",
       "      <td>2</td>\n",
       "      <td>0</td>\n",
       "    </tr>\n",
       "    <tr>\n",
       "      <th>...</th>\n",
       "      <td>...</td>\n",
       "      <td>...</td>\n",
       "      <td>...</td>\n",
       "      <td>...</td>\n",
       "      <td>...</td>\n",
       "      <td>...</td>\n",
       "      <td>...</td>\n",
       "      <td>...</td>\n",
       "      <td>...</td>\n",
       "      <td>...</td>\n",
       "      <td>...</td>\n",
       "    </tr>\n",
       "    <tr>\n",
       "      <th>83568</th>\n",
       "      <td>PRT</td>\n",
       "      <td>Online TA</td>\n",
       "      <td>0</td>\n",
       "      <td>0</td>\n",
       "      <td>No Deposit</td>\n",
       "      <td>0</td>\n",
       "      <td>Contract</td>\n",
       "      <td>A</td>\n",
       "      <td>0</td>\n",
       "      <td>3</td>\n",
       "      <td>1</td>\n",
       "    </tr>\n",
       "    <tr>\n",
       "      <th>83569</th>\n",
       "      <td>FRA</td>\n",
       "      <td>Online TA</td>\n",
       "      <td>0</td>\n",
       "      <td>0</td>\n",
       "      <td>No Deposit</td>\n",
       "      <td>0</td>\n",
       "      <td>Transient</td>\n",
       "      <td>D</td>\n",
       "      <td>0</td>\n",
       "      <td>2</td>\n",
       "      <td>0</td>\n",
       "    </tr>\n",
       "    <tr>\n",
       "      <th>83570</th>\n",
       "      <td>PRT</td>\n",
       "      <td>Online TA</td>\n",
       "      <td>0</td>\n",
       "      <td>1</td>\n",
       "      <td>No Deposit</td>\n",
       "      <td>0</td>\n",
       "      <td>Transient</td>\n",
       "      <td>D</td>\n",
       "      <td>0</td>\n",
       "      <td>3</td>\n",
       "      <td>0</td>\n",
       "    </tr>\n",
       "    <tr>\n",
       "      <th>83571</th>\n",
       "      <td>CN</td>\n",
       "      <td>Offline TA/TO</td>\n",
       "      <td>0</td>\n",
       "      <td>0</td>\n",
       "      <td>No Deposit</td>\n",
       "      <td>0</td>\n",
       "      <td>Transient-Party</td>\n",
       "      <td>A</td>\n",
       "      <td>0</td>\n",
       "      <td>0</td>\n",
       "      <td>0</td>\n",
       "    </tr>\n",
       "    <tr>\n",
       "      <th>83572</th>\n",
       "      <td>PRT</td>\n",
       "      <td>Groups</td>\n",
       "      <td>0</td>\n",
       "      <td>0</td>\n",
       "      <td>Non Refund</td>\n",
       "      <td>0</td>\n",
       "      <td>Transient</td>\n",
       "      <td>A</td>\n",
       "      <td>0</td>\n",
       "      <td>0</td>\n",
       "      <td>1</td>\n",
       "    </tr>\n",
       "  </tbody>\n",
       "</table>\n",
       "<p>83573 rows × 11 columns</p>\n",
       "</div>"
      ],
      "text/plain": [
       "      country market_segment  previous_cancellations  booking_changes  \\\n",
       "0         IRL  Offline TA/TO                       0                0   \n",
       "1         FRA      Online TA                       0                0   \n",
       "2         PRT      Online TA                       0                1   \n",
       "3         NLD      Online TA                       0                0   \n",
       "4         PRT      Online TA                       0                2   \n",
       "...       ...            ...                     ...              ...   \n",
       "83568     PRT      Online TA                       0                0   \n",
       "83569     FRA      Online TA                       0                0   \n",
       "83570     PRT      Online TA                       0                1   \n",
       "83571      CN  Offline TA/TO                       0                0   \n",
       "83572     PRT         Groups                       0                0   \n",
       "\n",
       "      deposit_type  days_in_waiting_list    customer_type reserved_room_type  \\\n",
       "0       No Deposit                     0  Transient-Party                  A   \n",
       "1       No Deposit                     0        Transient                  A   \n",
       "2       No Deposit                     0        Transient                  A   \n",
       "3       No Deposit                     0        Transient                  A   \n",
       "4       No Deposit                     0        Transient                  A   \n",
       "...            ...                   ...              ...                ...   \n",
       "83568   No Deposit                     0         Contract                  A   \n",
       "83569   No Deposit                     0        Transient                  D   \n",
       "83570   No Deposit                     0        Transient                  D   \n",
       "83571   No Deposit                     0  Transient-Party                  A   \n",
       "83572   Non Refund                     0        Transient                  A   \n",
       "\n",
       "       required_car_parking_spaces  total_of_special_requests  is_canceled  \n",
       "0                                0                          0            0  \n",
       "1                                0                          2            0  \n",
       "2                                0                          2            0  \n",
       "3                                0                          1            1  \n",
       "4                                0                          2            0  \n",
       "...                            ...                        ...          ...  \n",
       "83568                            0                          3            1  \n",
       "83569                            0                          2            0  \n",
       "83570                            0                          3            0  \n",
       "83571                            0                          0            0  \n",
       "83572                            0                          0            1  \n",
       "\n",
       "[83573 rows x 11 columns]"
      ]
     },
     "execution_count": 2,
     "metadata": {},
     "output_type": "execute_result"
    }
   ],
   "source": [
    "df=pd.read_csv('data_hotel_booking_demand.csv')\n",
    "df"
   ]
  },
  {
   "cell_type": "markdown",
   "metadata": {},
   "source": [
    "# Data reading"
   ]
  },
  {
   "cell_type": "markdown",
   "metadata": {},
   "source": [
    "cek unique"
   ]
  },
  {
   "cell_type": "code",
   "execution_count": 3,
   "metadata": {},
   "outputs": [
    {
     "data": {
      "text/plain": [
       "array(['IRL', 'FRA', 'PRT', 'NLD', 'ESP', 'UMI', 'CN', 'LUX', 'BRA',\n",
       "       'BEL', 'JPN', 'DEU', 'ITA', 'CHE', 'GBR', 'AGO', 'SRB', 'COL',\n",
       "       'CHN', 'SWE', 'AUT', 'CIV', 'CZE', 'POL', 'USA', 'SGP', 'RUS',\n",
       "       'ROU', 'DNK', 'IND', 'MAR', 'PHL', 'ARG', 'ISL', 'ZAF', 'LBN',\n",
       "       'MOZ', 'TUR', 'BGD', 'MEX', 'CAF', 'NOR', 'FIN', 'UKR', 'EGY',\n",
       "       'ISR', nan, 'KOR', 'AZE', 'HUN', 'AUS', 'EST', 'CHL', 'SVN', 'PRY',\n",
       "       'ABW', 'ALB', 'LTU', 'ARE', 'HRV', 'SAU', 'NZL', 'LVA', 'ATA',\n",
       "       'KAZ', 'DZA', 'TWN', 'CRI', 'BIH', 'BGR', 'IRQ', 'OMN', 'VEN',\n",
       "       'IDN', 'GEO', 'MLT', 'IRN', 'BLR', 'URY', 'LBY', 'TUN', 'BEN',\n",
       "       'MYS', 'MWI', 'GRC', 'CYP', 'CPV', 'HKG', 'PRI', 'MKD', 'MUS',\n",
       "       'IMN', 'PAN', 'NGA', 'GLP', 'KHM', 'PER', 'QAT', 'SEN', 'MAC',\n",
       "       'SVK', 'BHR', 'ECU', 'SYC', 'BOL', 'TJK', 'LCA', 'MDV', 'SYR',\n",
       "       'ZMB', 'LIE', 'THA', 'MNE', 'BRB', 'CMR', 'JEY', 'GTM', 'LKA',\n",
       "       'JOR', 'TZA', 'AND', 'ARM', 'GIB', 'VNM', 'PAK', 'JAM', 'DOM',\n",
       "       'KWT', 'LAO', 'RWA', 'FRO', 'GAB', 'ETH', 'CUB', 'COM', 'GNB',\n",
       "       'GGY', 'NIC', 'TGO', 'TMP', 'CYM', 'GHA', 'SLE', 'BWA', 'NCL',\n",
       "       'UZB', 'SUR', 'SDN', 'PLW', 'MLI', 'MMR', 'BFA', 'SLV', 'BDI',\n",
       "       'ZWE', 'UGA', 'DMA', 'VGB', 'KIR', 'KEN', 'MYT', 'KNA', 'AIA'],\n",
       "      dtype=object)"
      ]
     },
     "execution_count": 3,
     "metadata": {},
     "output_type": "execute_result"
    }
   ],
   "source": [
    "df['country'].unique()"
   ]
  },
  {
   "cell_type": "code",
   "execution_count": 4,
   "metadata": {},
   "outputs": [
    {
     "data": {
      "text/plain": [
       "array(['A', 'E', 'D', 'F', 'B', 'G', 'C', 'H', 'L', 'P'], dtype=object)"
      ]
     },
     "execution_count": 4,
     "metadata": {},
     "output_type": "execute_result"
    }
   ],
   "source": [
    "df['reserved_room_type'].unique()"
   ]
  },
  {
   "cell_type": "code",
   "execution_count": 5,
   "metadata": {},
   "outputs": [
    {
     "data": {
      "text/plain": [
       "array(['Transient-Party', 'Transient', 'Contract', 'Group'], dtype=object)"
      ]
     },
     "execution_count": 5,
     "metadata": {},
     "output_type": "execute_result"
    }
   ],
   "source": [
    "df['customer_type'].unique()"
   ]
  },
  {
   "cell_type": "code",
   "execution_count": 6,
   "metadata": {},
   "outputs": [
    {
     "data": {
      "text/plain": [
       "array([0, 1], dtype=int64)"
      ]
     },
     "execution_count": 6,
     "metadata": {},
     "output_type": "execute_result"
    }
   ],
   "source": [
    "df['is_canceled'].unique()"
   ]
  },
  {
   "cell_type": "code",
   "execution_count": 7,
   "metadata": {},
   "outputs": [
    {
     "data": {
      "text/html": [
       "<div>\n",
       "<style scoped>\n",
       "    .dataframe tbody tr th:only-of-type {\n",
       "        vertical-align: middle;\n",
       "    }\n",
       "\n",
       "    .dataframe tbody tr th {\n",
       "        vertical-align: top;\n",
       "    }\n",
       "\n",
       "    .dataframe thead th {\n",
       "        text-align: right;\n",
       "    }\n",
       "</style>\n",
       "<table border=\"1\" class=\"dataframe\">\n",
       "  <thead>\n",
       "    <tr style=\"text-align: right;\">\n",
       "      <th></th>\n",
       "      <th>dataFeatures</th>\n",
       "      <th>dataType</th>\n",
       "      <th>null</th>\n",
       "      <th>nullPct</th>\n",
       "      <th>unique</th>\n",
       "      <th>uniqueSample</th>\n",
       "    </tr>\n",
       "  </thead>\n",
       "  <tbody>\n",
       "    <tr>\n",
       "      <th>0</th>\n",
       "      <td>country</td>\n",
       "      <td>object</td>\n",
       "      <td>351</td>\n",
       "      <td>0.42</td>\n",
       "      <td>162</td>\n",
       "      <td>[NLD, DMA]</td>\n",
       "    </tr>\n",
       "    <tr>\n",
       "      <th>1</th>\n",
       "      <td>market_segment</td>\n",
       "      <td>object</td>\n",
       "      <td>0</td>\n",
       "      <td>0.00</td>\n",
       "      <td>8</td>\n",
       "      <td>[Direct, Aviation]</td>\n",
       "    </tr>\n",
       "    <tr>\n",
       "      <th>2</th>\n",
       "      <td>previous_cancellations</td>\n",
       "      <td>int64</td>\n",
       "      <td>0</td>\n",
       "      <td>0.00</td>\n",
       "      <td>15</td>\n",
       "      <td>[19, 25]</td>\n",
       "    </tr>\n",
       "    <tr>\n",
       "      <th>3</th>\n",
       "      <td>booking_changes</td>\n",
       "      <td>int64</td>\n",
       "      <td>0</td>\n",
       "      <td>0.00</td>\n",
       "      <td>19</td>\n",
       "      <td>[7, 17]</td>\n",
       "    </tr>\n",
       "    <tr>\n",
       "      <th>4</th>\n",
       "      <td>deposit_type</td>\n",
       "      <td>object</td>\n",
       "      <td>0</td>\n",
       "      <td>0.00</td>\n",
       "      <td>3</td>\n",
       "      <td>[No Deposit, Non Refund]</td>\n",
       "    </tr>\n",
       "    <tr>\n",
       "      <th>5</th>\n",
       "      <td>days_in_waiting_list</td>\n",
       "      <td>int64</td>\n",
       "      <td>0</td>\n",
       "      <td>0.00</td>\n",
       "      <td>115</td>\n",
       "      <td>[122, 64]</td>\n",
       "    </tr>\n",
       "    <tr>\n",
       "      <th>6</th>\n",
       "      <td>customer_type</td>\n",
       "      <td>object</td>\n",
       "      <td>0</td>\n",
       "      <td>0.00</td>\n",
       "      <td>4</td>\n",
       "      <td>[Transient, Contract]</td>\n",
       "    </tr>\n",
       "    <tr>\n",
       "      <th>7</th>\n",
       "      <td>reserved_room_type</td>\n",
       "      <td>object</td>\n",
       "      <td>0</td>\n",
       "      <td>0.00</td>\n",
       "      <td>10</td>\n",
       "      <td>[B, C]</td>\n",
       "    </tr>\n",
       "    <tr>\n",
       "      <th>8</th>\n",
       "      <td>required_car_parking_spaces</td>\n",
       "      <td>int64</td>\n",
       "      <td>0</td>\n",
       "      <td>0.00</td>\n",
       "      <td>5</td>\n",
       "      <td>[0, 3]</td>\n",
       "    </tr>\n",
       "    <tr>\n",
       "      <th>9</th>\n",
       "      <td>total_of_special_requests</td>\n",
       "      <td>int64</td>\n",
       "      <td>0</td>\n",
       "      <td>0.00</td>\n",
       "      <td>6</td>\n",
       "      <td>[4, 1]</td>\n",
       "    </tr>\n",
       "    <tr>\n",
       "      <th>10</th>\n",
       "      <td>is_canceled</td>\n",
       "      <td>int64</td>\n",
       "      <td>0</td>\n",
       "      <td>0.00</td>\n",
       "      <td>2</td>\n",
       "      <td>[1, 0]</td>\n",
       "    </tr>\n",
       "  </tbody>\n",
       "</table>\n",
       "</div>"
      ],
      "text/plain": [
       "                   dataFeatures dataType  null  nullPct  unique  \\\n",
       "0                       country   object   351     0.42     162   \n",
       "1                market_segment   object     0     0.00       8   \n",
       "2        previous_cancellations    int64     0     0.00      15   \n",
       "3               booking_changes    int64     0     0.00      19   \n",
       "4                  deposit_type   object     0     0.00       3   \n",
       "5          days_in_waiting_list    int64     0     0.00     115   \n",
       "6                 customer_type   object     0     0.00       4   \n",
       "7            reserved_room_type   object     0     0.00      10   \n",
       "8   required_car_parking_spaces    int64     0     0.00       5   \n",
       "9     total_of_special_requests    int64     0     0.00       6   \n",
       "10                  is_canceled    int64     0     0.00       2   \n",
       "\n",
       "                uniqueSample  \n",
       "0                 [NLD, DMA]  \n",
       "1         [Direct, Aviation]  \n",
       "2                   [19, 25]  \n",
       "3                    [7, 17]  \n",
       "4   [No Deposit, Non Refund]  \n",
       "5                  [122, 64]  \n",
       "6      [Transient, Contract]  \n",
       "7                     [B, C]  \n",
       "8                     [0, 3]  \n",
       "9                     [4, 1]  \n",
       "10                    [1, 0]  "
      ]
     },
     "execution_count": 7,
     "metadata": {},
     "output_type": "execute_result"
    }
   ],
   "source": [
    "listItem = []\n",
    "for col in df.columns :\n",
    "    listItem.append([col, df[col].dtype, df[col].isna().sum(), round((df[col].isna().sum()/len(df[col])) * 100,2),\n",
    "                    df[col].nunique(), list(df[col].drop_duplicates().sample(2).values)])\n",
    "\n",
    "dfDesc = pd.DataFrame(columns=['dataFeatures', 'dataType', 'null', 'nullPct', 'unique', 'uniqueSample'],\n",
    "                     data=listItem)\n",
    "dfDesc"
   ]
  },
  {
   "cell_type": "code",
   "execution_count": 8,
   "metadata": {},
   "outputs": [
    {
     "data": {
      "text/html": [
       "<div>\n",
       "<style scoped>\n",
       "    .dataframe tbody tr th:only-of-type {\n",
       "        vertical-align: middle;\n",
       "    }\n",
       "\n",
       "    .dataframe tbody tr th {\n",
       "        vertical-align: top;\n",
       "    }\n",
       "\n",
       "    .dataframe thead th {\n",
       "        text-align: right;\n",
       "    }\n",
       "</style>\n",
       "<table border=\"1\" class=\"dataframe\">\n",
       "  <thead>\n",
       "    <tr style=\"text-align: right;\">\n",
       "      <th></th>\n",
       "      <th>previous_cancellations</th>\n",
       "      <th>booking_changes</th>\n",
       "      <th>days_in_waiting_list</th>\n",
       "      <th>required_car_parking_spaces</th>\n",
       "      <th>total_of_special_requests</th>\n",
       "      <th>is_canceled</th>\n",
       "    </tr>\n",
       "  </thead>\n",
       "  <tbody>\n",
       "    <tr>\n",
       "      <th>count</th>\n",
       "      <td>83573.000000</td>\n",
       "      <td>83573.000000</td>\n",
       "      <td>83573.000000</td>\n",
       "      <td>83573.000000</td>\n",
       "      <td>83573.000000</td>\n",
       "      <td>83573.000000</td>\n",
       "    </tr>\n",
       "    <tr>\n",
       "      <th>mean</th>\n",
       "      <td>0.086798</td>\n",
       "      <td>0.220897</td>\n",
       "      <td>2.330561</td>\n",
       "      <td>0.062999</td>\n",
       "      <td>0.573211</td>\n",
       "      <td>0.368277</td>\n",
       "    </tr>\n",
       "    <tr>\n",
       "      <th>std</th>\n",
       "      <td>0.841011</td>\n",
       "      <td>0.648635</td>\n",
       "      <td>17.673051</td>\n",
       "      <td>0.246919</td>\n",
       "      <td>0.795163</td>\n",
       "      <td>0.482340</td>\n",
       "    </tr>\n",
       "    <tr>\n",
       "      <th>min</th>\n",
       "      <td>0.000000</td>\n",
       "      <td>0.000000</td>\n",
       "      <td>0.000000</td>\n",
       "      <td>0.000000</td>\n",
       "      <td>0.000000</td>\n",
       "      <td>0.000000</td>\n",
       "    </tr>\n",
       "    <tr>\n",
       "      <th>25%</th>\n",
       "      <td>0.000000</td>\n",
       "      <td>0.000000</td>\n",
       "      <td>0.000000</td>\n",
       "      <td>0.000000</td>\n",
       "      <td>0.000000</td>\n",
       "      <td>0.000000</td>\n",
       "    </tr>\n",
       "    <tr>\n",
       "      <th>50%</th>\n",
       "      <td>0.000000</td>\n",
       "      <td>0.000000</td>\n",
       "      <td>0.000000</td>\n",
       "      <td>0.000000</td>\n",
       "      <td>0.000000</td>\n",
       "      <td>0.000000</td>\n",
       "    </tr>\n",
       "    <tr>\n",
       "      <th>75%</th>\n",
       "      <td>0.000000</td>\n",
       "      <td>0.000000</td>\n",
       "      <td>0.000000</td>\n",
       "      <td>0.000000</td>\n",
       "      <td>1.000000</td>\n",
       "      <td>1.000000</td>\n",
       "    </tr>\n",
       "    <tr>\n",
       "      <th>max</th>\n",
       "      <td>26.000000</td>\n",
       "      <td>21.000000</td>\n",
       "      <td>391.000000</td>\n",
       "      <td>8.000000</td>\n",
       "      <td>5.000000</td>\n",
       "      <td>1.000000</td>\n",
       "    </tr>\n",
       "  </tbody>\n",
       "</table>\n",
       "</div>"
      ],
      "text/plain": [
       "       previous_cancellations  booking_changes  days_in_waiting_list  \\\n",
       "count            83573.000000     83573.000000          83573.000000   \n",
       "mean                 0.086798         0.220897              2.330561   \n",
       "std                  0.841011         0.648635             17.673051   \n",
       "min                  0.000000         0.000000              0.000000   \n",
       "25%                  0.000000         0.000000              0.000000   \n",
       "50%                  0.000000         0.000000              0.000000   \n",
       "75%                  0.000000         0.000000              0.000000   \n",
       "max                 26.000000        21.000000            391.000000   \n",
       "\n",
       "       required_car_parking_spaces  total_of_special_requests   is_canceled  \n",
       "count                 83573.000000               83573.000000  83573.000000  \n",
       "mean                      0.062999                   0.573211      0.368277  \n",
       "std                       0.246919                   0.795163      0.482340  \n",
       "min                       0.000000                   0.000000      0.000000  \n",
       "25%                       0.000000                   0.000000      0.000000  \n",
       "50%                       0.000000                   0.000000      0.000000  \n",
       "75%                       0.000000                   1.000000      1.000000  \n",
       "max                       8.000000                   5.000000      1.000000  "
      ]
     },
     "execution_count": 8,
     "metadata": {},
     "output_type": "execute_result"
    }
   ],
   "source": [
    "# summary\n",
    "df.describe()"
   ]
  },
  {
   "cell_type": "code",
   "execution_count": 9,
   "metadata": {},
   "outputs": [
    {
     "data": {
      "image/png": "[encoded data removed]",
      "text/plain": [
       "<Figure size 640x480 with 2 Axes>"
      ]
     },
     "metadata": {},
     "output_type": "display_data"
    }
   ],
   "source": [
    "# heatmap for the corelation matrix\n",
    "snis.heatmap(df.corr(),cmap='YlGnBu')\n",
    "mpl.show()"
   ]
  },
  {
   "cell_type": "code",
   "execution_count": 10,
   "metadata": {},
   "outputs": [
    {
     "data": {
      "text/plain": [
       "country    351\n",
       "dtype: int64"
      ]
     },
     "execution_count": 10,
     "metadata": {},
     "output_type": "execute_result"
    }
   ],
   "source": [
    "# Checking for missing values\n",
    "df.isnull().sum()[df.isnull().sum()>0]\n",
    "# Data has missing values"
   ]
  },
  {
   "cell_type": "code",
   "execution_count": 11,
   "metadata": {},
   "outputs": [
    {
     "data": {
      "text/plain": [
       "0    52795\n",
       "1    30778\n",
       "Name: is_canceled, dtype: int64"
      ]
     },
     "execution_count": 11,
     "metadata": {},
     "output_type": "execute_result"
    }
   ],
   "source": [
    "# Checking for class imbalance in the target variable\n",
    "df.is_canceled.value_counts()\n"
   ]
  },
  {
   "cell_type": "code",
   "execution_count": 12,
   "metadata": {},
   "outputs": [
    {
     "data": {
      "text/plain": [
       "0    63.172316\n",
       "1    36.827684\n",
       "Name: is_canceled, dtype: float64"
      ]
     },
     "execution_count": 12,
     "metadata": {},
     "output_type": "execute_result"
    }
   ],
   "source": [
    "(df['is_canceled'].value_counts()/len(df))*100"
   ]
  },
  {
   "cell_type": "markdown",
   "metadata": {},
   "source": [
    "# Data cleaning"
   ]
  },
  {
   "cell_type": "code",
   "execution_count": 13,
   "metadata": {},
   "outputs": [],
   "source": [
    "# Format Kolom agar sedikit rapih\n",
    "df.columns = [s.strip().replace('_',' ') for s in df.columns]"
   ]
  },
  {
   "cell_type": "code",
   "execution_count": 14,
   "metadata": {},
   "outputs": [
    {
     "data": {
      "text/plain": [
       "country                        351\n",
       "market segment                   0\n",
       "previous cancellations           0\n",
       "booking changes                  0\n",
       "deposit type                     0\n",
       "days in waiting list             0\n",
       "customer type                    0\n",
       "reserved room type               0\n",
       "required car parking spaces      0\n",
       "total of special requests        0\n",
       "is canceled                      0\n",
       "dtype: int64"
      ]
     },
     "execution_count": 14,
     "metadata": {},
     "output_type": "execute_result"
    }
   ],
   "source": [
    "# cek missing value\n",
    "df.isna().sum()"
   ]
  },
  {
   "cell_type": "code",
   "execution_count": 15,
   "metadata": {},
   "outputs": [
    {
     "data": {
      "text/plain": [
       "0.4199921027125986"
      ]
     },
     "execution_count": 15,
     "metadata": {},
     "output_type": "execute_result"
    }
   ],
   "source": [
    "df['country'].isna().sum()/len(df)*100\n",
    "# jumlah nan hanya sekita 0,4% dari keseluruhan data"
   ]
  },
  {
   "cell_type": "markdown",
   "metadata": {},
   "source": [
    "terdapat missing value sebanyak 351 pada kolom country. karena tidak bisa melakukan dari kolom lain, maka akan di drop\n",
    "karena jumlah data dibawah 1% maka di drop saja."
   ]
  },
  {
   "cell_type": "code",
   "execution_count": 16,
   "metadata": {},
   "outputs": [],
   "source": [
    "df=df.dropna()"
   ]
  },
  {
   "cell_type": "code",
   "execution_count": 17,
   "metadata": {},
   "outputs": [
    {
     "data": {
      "text/plain": [
       "country                        0\n",
       "market segment                 0\n",
       "previous cancellations         0\n",
       "booking changes                0\n",
       "deposit type                   0\n",
       "days in waiting list           0\n",
       "customer type                  0\n",
       "reserved room type             0\n",
       "required car parking spaces    0\n",
       "total of special requests      0\n",
       "is canceled                    0\n",
       "dtype: int64"
      ]
     },
     "execution_count": 17,
     "metadata": {},
     "output_type": "execute_result"
    }
   ],
   "source": [
    "df.isna().sum()"
   ]
  },
  {
   "cell_type": "code",
   "execution_count": 18,
   "metadata": {},
   "outputs": [
    {
     "data": {
      "text/html": [
       "<div>\n",
       "<style scoped>\n",
       "    .dataframe tbody tr th:only-of-type {\n",
       "        vertical-align: middle;\n",
       "    }\n",
       "\n",
       "    .dataframe tbody tr th {\n",
       "        vertical-align: top;\n",
       "    }\n",
       "\n",
       "    .dataframe thead th {\n",
       "        text-align: right;\n",
       "    }\n",
       "</style>\n",
       "<table border=\"1\" class=\"dataframe\">\n",
       "  <thead>\n",
       "    <tr style=\"text-align: right;\">\n",
       "      <th></th>\n",
       "      <th>country</th>\n",
       "      <th>market segment</th>\n",
       "      <th>previous cancellations</th>\n",
       "      <th>booking changes</th>\n",
       "      <th>deposit type</th>\n",
       "      <th>days in waiting list</th>\n",
       "      <th>customer type</th>\n",
       "      <th>reserved room type</th>\n",
       "      <th>required car parking spaces</th>\n",
       "      <th>total of special requests</th>\n",
       "      <th>is canceled</th>\n",
       "    </tr>\n",
       "  </thead>\n",
       "  <tbody>\n",
       "    <tr>\n",
       "      <th>0</th>\n",
       "      <td>IRL</td>\n",
       "      <td>Offline TA/TO</td>\n",
       "      <td>0</td>\n",
       "      <td>0</td>\n",
       "      <td>No Deposit</td>\n",
       "      <td>0</td>\n",
       "      <td>Transient-Party</td>\n",
       "      <td>A</td>\n",
       "      <td>0</td>\n",
       "      <td>0</td>\n",
       "      <td>0</td>\n",
       "    </tr>\n",
       "    <tr>\n",
       "      <th>1</th>\n",
       "      <td>FRA</td>\n",
       "      <td>Online TA</td>\n",
       "      <td>0</td>\n",
       "      <td>0</td>\n",
       "      <td>No Deposit</td>\n",
       "      <td>0</td>\n",
       "      <td>Transient</td>\n",
       "      <td>A</td>\n",
       "      <td>0</td>\n",
       "      <td>2</td>\n",
       "      <td>0</td>\n",
       "    </tr>\n",
       "    <tr>\n",
       "      <th>2</th>\n",
       "      <td>PRT</td>\n",
       "      <td>Online TA</td>\n",
       "      <td>0</td>\n",
       "      <td>1</td>\n",
       "      <td>No Deposit</td>\n",
       "      <td>0</td>\n",
       "      <td>Transient</td>\n",
       "      <td>A</td>\n",
       "      <td>0</td>\n",
       "      <td>2</td>\n",
       "      <td>0</td>\n",
       "    </tr>\n",
       "    <tr>\n",
       "      <th>3</th>\n",
       "      <td>NLD</td>\n",
       "      <td>Online TA</td>\n",
       "      <td>0</td>\n",
       "      <td>0</td>\n",
       "      <td>No Deposit</td>\n",
       "      <td>0</td>\n",
       "      <td>Transient</td>\n",
       "      <td>A</td>\n",
       "      <td>0</td>\n",
       "      <td>1</td>\n",
       "      <td>1</td>\n",
       "    </tr>\n",
       "    <tr>\n",
       "      <th>4</th>\n",
       "      <td>PRT</td>\n",
       "      <td>Online TA</td>\n",
       "      <td>0</td>\n",
       "      <td>2</td>\n",
       "      <td>No Deposit</td>\n",
       "      <td>0</td>\n",
       "      <td>Transient</td>\n",
       "      <td>A</td>\n",
       "      <td>0</td>\n",
       "      <td>2</td>\n",
       "      <td>0</td>\n",
       "    </tr>\n",
       "    <tr>\n",
       "      <th>...</th>\n",
       "      <td>...</td>\n",
       "      <td>...</td>\n",
       "      <td>...</td>\n",
       "      <td>...</td>\n",
       "      <td>...</td>\n",
       "      <td>...</td>\n",
       "      <td>...</td>\n",
       "      <td>...</td>\n",
       "      <td>...</td>\n",
       "      <td>...</td>\n",
       "      <td>...</td>\n",
       "    </tr>\n",
       "    <tr>\n",
       "      <th>83568</th>\n",
       "      <td>PRT</td>\n",
       "      <td>Online TA</td>\n",
       "      <td>0</td>\n",
       "      <td>0</td>\n",
       "      <td>No Deposit</td>\n",
       "      <td>0</td>\n",
       "      <td>Contract</td>\n",
       "      <td>A</td>\n",
       "      <td>0</td>\n",
       "      <td>3</td>\n",
       "      <td>1</td>\n",
       "    </tr>\n",
       "    <tr>\n",
       "      <th>83569</th>\n",
       "      <td>FRA</td>\n",
       "      <td>Online TA</td>\n",
       "      <td>0</td>\n",
       "      <td>0</td>\n",
       "      <td>No Deposit</td>\n",
       "      <td>0</td>\n",
       "      <td>Transient</td>\n",
       "      <td>D</td>\n",
       "      <td>0</td>\n",
       "      <td>2</td>\n",
       "      <td>0</td>\n",
       "    </tr>\n",
       "    <tr>\n",
       "      <th>83570</th>\n",
       "      <td>PRT</td>\n",
       "      <td>Online TA</td>\n",
       "      <td>0</td>\n",
       "      <td>1</td>\n",
       "      <td>No Deposit</td>\n",
       "      <td>0</td>\n",
       "      <td>Transient</td>\n",
       "      <td>D</td>\n",
       "      <td>0</td>\n",
       "      <td>3</td>\n",
       "      <td>0</td>\n",
       "    </tr>\n",
       "    <tr>\n",
       "      <th>83571</th>\n",
       "      <td>CN</td>\n",
       "      <td>Offline TA/TO</td>\n",
       "      <td>0</td>\n",
       "      <td>0</td>\n",
       "      <td>No Deposit</td>\n",
       "      <td>0</td>\n",
       "      <td>Transient-Party</td>\n",
       "      <td>A</td>\n",
       "      <td>0</td>\n",
       "      <td>0</td>\n",
       "      <td>0</td>\n",
       "    </tr>\n",
       "    <tr>\n",
       "      <th>83572</th>\n",
       "      <td>PRT</td>\n",
       "      <td>Groups</td>\n",
       "      <td>0</td>\n",
       "      <td>0</td>\n",
       "      <td>Non Refund</td>\n",
       "      <td>0</td>\n",
       "      <td>Transient</td>\n",
       "      <td>A</td>\n",
       "      <td>0</td>\n",
       "      <td>0</td>\n",
       "      <td>1</td>\n",
       "    </tr>\n",
       "  </tbody>\n",
       "</table>\n",
       "<p>83222 rows × 11 columns</p>\n",
       "</div>"
      ],
      "text/plain": [
       "      country market segment  previous cancellations  booking changes  \\\n",
       "0         IRL  Offline TA/TO                       0                0   \n",
       "1         FRA      Online TA                       0                0   \n",
       "2         PRT      Online TA                       0                1   \n",
       "3         NLD      Online TA                       0                0   \n",
       "4         PRT      Online TA                       0                2   \n",
       "...       ...            ...                     ...              ...   \n",
       "83568     PRT      Online TA                       0                0   \n",
       "83569     FRA      Online TA                       0                0   \n",
       "83570     PRT      Online TA                       0                1   \n",
       "83571      CN  Offline TA/TO                       0                0   \n",
       "83572     PRT         Groups                       0                0   \n",
       "\n",
       "      deposit type  days in waiting list    customer type reserved room type  \\\n",
       "0       No Deposit                     0  Transient-Party                  A   \n",
       "1       No Deposit                     0        Transient                  A   \n",
       "2       No Deposit                     0        Transient                  A   \n",
       "3       No Deposit                     0        Transient                  A   \n",
       "4       No Deposit                     0        Transient                  A   \n",
       "...            ...                   ...              ...                ...   \n",
       "83568   No Deposit                     0         Contract                  A   \n",
       "83569   No Deposit                     0        Transient                  D   \n",
       "83570   No Deposit                     0        Transient                  D   \n",
       "83571   No Deposit                     0  Transient-Party                  A   \n",
       "83572   Non Refund                     0        Transient                  A   \n",
       "\n",
       "       required car parking spaces  total of special requests  is canceled  \n",
       "0                                0                          0            0  \n",
       "1                                0                          2            0  \n",
       "2                                0                          2            0  \n",
       "3                                0                          1            1  \n",
       "4                                0                          2            0  \n",
       "...                            ...                        ...          ...  \n",
       "83568                            0                          3            1  \n",
       "83569                            0                          2            0  \n",
       "83570                            0                          3            0  \n",
       "83571                            0                          0            0  \n",
       "83572                            0                          0            1  \n",
       "\n",
       "[83222 rows x 11 columns]"
      ]
     },
     "execution_count": 18,
     "metadata": {},
     "output_type": "execute_result"
    }
   ],
   "source": [
    "df"
   ]
  },
  {
   "cell_type": "code",
   "execution_count": null,
   "metadata": {},
   "outputs": [],
   "source": []
  },
  {
   "cell_type": "markdown",
   "metadata": {},
   "source": [
    "## Data Preprocessing"
   ]
  },
  {
   "cell_type": "markdown",
   "metadata": {},
   "source": [
    "beberapa kolom akan di binning\n",
    "seperti:\n",
    "1. previous cancellations:  0: tidak pernah membatalkan pesanan\n",
    "                            1: pernah membatalkan\n",
    "1. booking changes: 0: tidak pernah merubah pesanan\n",
    "                    1: pernah merubah pesanan\n",
    "1. deposit type 0: tidak membayar uang muka(deposit)\n",
    "                1: membayar uang muka (deposit)\n",
    "1. days in waiting list:    0: tidak dalam waiting list\n",
    "                            1: dalam waiting list"
   ]
  },
  {
   "cell_type": "code",
   "execution_count": 19,
   "metadata": {},
   "outputs": [
    {
     "name": "stderr",
     "output_type": "stream",
     "text": [
      "C:\\Users\\Andri\\AppData\\Local\\Temp\\ipykernel_15072\\1284573064.py:2: SettingWithCopyWarning: \n",
      "A value is trying to be set on a copy of a slice from a DataFrame.\n",
      "Try using .loc[row_indexer,col_indexer] = value instead\n",
      "\n",
      "See the caveats in the documentation: https://pandas.pydata.org/pandas-docs/stable/user_guide/indexing.html#returning-a-view-versus-a-copy\n",
      "  df['previous cancellations'] = df['previous cancellations'].apply(lambda x: 0 if x == 0 else 1)\n",
      "C:\\Users\\Andri\\AppData\\Local\\Temp\\ipykernel_15072\\1284573064.py:3: SettingWithCopyWarning: \n",
      "A value is trying to be set on a copy of a slice from a DataFrame.\n",
      "Try using .loc[row_indexer,col_indexer] = value instead\n",
      "\n",
      "See the caveats in the documentation: https://pandas.pydata.org/pandas-docs/stable/user_guide/indexing.html#returning-a-view-versus-a-copy\n",
      "  df['booking changes'] = df['booking changes'].apply(lambda x: 0 if x == 0 else 1)\n",
      "C:\\Users\\Andri\\AppData\\Local\\Temp\\ipykernel_15072\\1284573064.py:4: SettingWithCopyWarning: \n",
      "A value is trying to be set on a copy of a slice from a DataFrame.\n",
      "Try using .loc[row_indexer,col_indexer] = value instead\n",
      "\n",
      "See the caveats in the documentation: https://pandas.pydata.org/pandas-docs/stable/user_guide/indexing.html#returning-a-view-versus-a-copy\n",
      "  df['deposit type'] = df['deposit type'].apply(lambda x: 0 if x == 'No Deposit' else 1)\n",
      "C:\\Users\\Andri\\AppData\\Local\\Temp\\ipykernel_15072\\1284573064.py:5: SettingWithCopyWarning: \n",
      "A value is trying to be set on a copy of a slice from a DataFrame.\n",
      "Try using .loc[row_indexer,col_indexer] = value instead\n",
      "\n",
      "See the caveats in the documentation: https://pandas.pydata.org/pandas-docs/stable/user_guide/indexing.html#returning-a-view-versus-a-copy\n",
      "  df['days in waiting list'] = df['days in waiting list'].apply(lambda x: 0 if x == 0 else 1)\n"
     ]
    }
   ],
   "source": [
    "# binning\n",
    "df['previous cancellations'] = df['previous cancellations'].apply(lambda x: 0 if x == 0 else 1)\n",
    "df['booking changes'] = df['booking changes'].apply(lambda x: 0 if x == 0 else 1)\n",
    "df['deposit type'] = df['deposit type'].apply(lambda x: 0 if x == 'No Deposit' else 1)\n",
    "df['days in waiting list'] = df['days in waiting list'].apply(lambda x: 0 if x == 0 else 1)"
   ]
  },
  {
   "cell_type": "code",
   "execution_count": 20,
   "metadata": {},
   "outputs": [
    {
     "name": "stderr",
     "output_type": "stream",
     "text": [
      "C:\\Users\\Andri\\AppData\\Local\\Temp\\ipykernel_15072\\3096130523.py:2: SettingWithCopyWarning: \n",
      "A value is trying to be set on a copy of a slice from a DataFrame\n",
      "\n",
      "See the caveats in the documentation: https://pandas.pydata.org/pandas-docs/stable/user_guide/indexing.html#returning-a-view-versus-a-copy\n",
      "  df.rename(columns={'deposit type': 'deposit','previous cancellations':'ever cancel','booking changes':'book change','days in waiting list':'waiting list'},inplace=True)\n"
     ]
    }
   ],
   "source": [
    "# Merubah beberapa nama kolom\n",
    "df.rename(columns={'deposit type': 'deposit','previous cancellations':'ever cancel','booking changes':'book change','days in waiting list':'waiting list'},inplace=True)"
   ]
  },
  {
   "cell_type": "code",
   "execution_count": 21,
   "metadata": {},
   "outputs": [
    {
     "data": {
      "text/html": [
       "<div>\n",
       "<style scoped>\n",
       "    .dataframe tbody tr th:only-of-type {\n",
       "        vertical-align: middle;\n",
       "    }\n",
       "\n",
       "    .dataframe tbody tr th {\n",
       "        vertical-align: top;\n",
       "    }\n",
       "\n",
       "    .dataframe thead th {\n",
       "        text-align: right;\n",
       "    }\n",
       "</style>\n",
       "<table border=\"1\" class=\"dataframe\">\n",
       "  <thead>\n",
       "    <tr style=\"text-align: right;\">\n",
       "      <th></th>\n",
       "      <th>ever cancel</th>\n",
       "      <th>book change</th>\n",
       "      <th>deposit</th>\n",
       "      <th>waiting list</th>\n",
       "      <th>required car parking spaces</th>\n",
       "      <th>total of special requests</th>\n",
       "      <th>is canceled</th>\n",
       "    </tr>\n",
       "  </thead>\n",
       "  <tbody>\n",
       "    <tr>\n",
       "      <th>ever cancel</th>\n",
       "      <td>1.000000</td>\n",
       "      <td>-0.073233</td>\n",
       "      <td>0.320530</td>\n",
       "      <td>0.122795</td>\n",
       "      <td>-0.042837</td>\n",
       "      <td>-0.111079</td>\n",
       "      <td>0.270440</td>\n",
       "    </tr>\n",
       "    <tr>\n",
       "      <th>book change</th>\n",
       "      <td>-0.073233</td>\n",
       "      <td>1.000000</td>\n",
       "      <td>-0.141561</td>\n",
       "      <td>-0.016941</td>\n",
       "      <td>0.077560</td>\n",
       "      <td>0.050778</td>\n",
       "      <td>-0.187051</td>\n",
       "    </tr>\n",
       "    <tr>\n",
       "      <th>deposit</th>\n",
       "      <td>0.320530</td>\n",
       "      <td>-0.141561</td>\n",
       "      <td>1.000000</td>\n",
       "      <td>0.234104</td>\n",
       "      <td>-0.093524</td>\n",
       "      <td>-0.268821</td>\n",
       "      <td>0.477335</td>\n",
       "    </tr>\n",
       "    <tr>\n",
       "      <th>waiting list</th>\n",
       "      <td>0.122795</td>\n",
       "      <td>-0.016941</td>\n",
       "      <td>0.234104</td>\n",
       "      <td>1.000000</td>\n",
       "      <td>-0.041194</td>\n",
       "      <td>-0.114276</td>\n",
       "      <td>0.101384</td>\n",
       "    </tr>\n",
       "    <tr>\n",
       "      <th>required car parking spaces</th>\n",
       "      <td>-0.042837</td>\n",
       "      <td>0.077560</td>\n",
       "      <td>-0.093524</td>\n",
       "      <td>-0.041194</td>\n",
       "      <td>1.000000</td>\n",
       "      <td>0.084088</td>\n",
       "      <td>-0.194110</td>\n",
       "    </tr>\n",
       "    <tr>\n",
       "      <th>total of special requests</th>\n",
       "      <td>-0.111079</td>\n",
       "      <td>0.050778</td>\n",
       "      <td>-0.268821</td>\n",
       "      <td>-0.114276</td>\n",
       "      <td>0.084088</td>\n",
       "      <td>1.000000</td>\n",
       "      <td>-0.237001</td>\n",
       "    </tr>\n",
       "    <tr>\n",
       "      <th>is canceled</th>\n",
       "      <td>0.270440</td>\n",
       "      <td>-0.187051</td>\n",
       "      <td>0.477335</td>\n",
       "      <td>0.101384</td>\n",
       "      <td>-0.194110</td>\n",
       "      <td>-0.237001</td>\n",
       "      <td>1.000000</td>\n",
       "    </tr>\n",
       "  </tbody>\n",
       "</table>\n",
       "</div>"
      ],
      "text/plain": [
       "                             ever cancel  book change   deposit  waiting list  \\\n",
       "ever cancel                     1.000000    -0.073233  0.320530      0.122795   \n",
       "book change                    -0.073233     1.000000 -0.141561     -0.016941   \n",
       "deposit                         0.320530    -0.141561  1.000000      0.234104   \n",
       "waiting list                    0.122795    -0.016941  0.234104      1.000000   \n",
       "required car parking spaces    -0.042837     0.077560 -0.093524     -0.041194   \n",
       "total of special requests      -0.111079     0.050778 -0.268821     -0.114276   \n",
       "is canceled                     0.270440    -0.187051  0.477335      0.101384   \n",
       "\n",
       "                             required car parking spaces  \\\n",
       "ever cancel                                    -0.042837   \n",
       "book change                                     0.077560   \n",
       "deposit                                        -0.093524   \n",
       "waiting list                                   -0.041194   \n",
       "required car parking spaces                     1.000000   \n",
       "total of special requests                       0.084088   \n",
       "is canceled                                    -0.194110   \n",
       "\n",
       "                             total of special requests  is canceled  \n",
       "ever cancel                                  -0.111079     0.270440  \n",
       "book change                                   0.050778    -0.187051  \n",
       "deposit                                      -0.268821     0.477335  \n",
       "waiting list                                 -0.114276     0.101384  \n",
       "required car parking spaces                   0.084088    -0.194110  \n",
       "total of special requests                     1.000000    -0.237001  \n",
       "is canceled                                  -0.237001     1.000000  "
      ]
     },
     "execution_count": 21,
     "metadata": {},
     "output_type": "execute_result"
    }
   ],
   "source": [
    "# Corelation matrix\n",
    "df.corr()"
   ]
  },
  {
   "cell_type": "code",
   "execution_count": 171,
   "metadata": {},
   "outputs": [
    {
     "data": {
      "image/png": "[encoded data removed]",
      "text/plain": [
       "<Figure size 640x480 with 1 Axes>"
      ]
     },
     "metadata": {},
     "output_type": "display_data"
    }
   ],
   "source": [
    "df['is canceled'].value_counts().plot.bar()\n",
    "mpl.show()"
   ]
  },
  {
   "cell_type": "code",
   "execution_count": 23,
   "metadata": {},
   "outputs": [
    {
     "data": {
      "text/html": [
       "<div>\n",
       "<style scoped>\n",
       "    .dataframe tbody tr th:only-of-type {\n",
       "        vertical-align: middle;\n",
       "    }\n",
       "\n",
       "    .dataframe tbody tr th {\n",
       "        vertical-align: top;\n",
       "    }\n",
       "\n",
       "    .dataframe thead th {\n",
       "        text-align: right;\n",
       "    }\n",
       "</style>\n",
       "<table border=\"1\" class=\"dataframe\">\n",
       "  <thead>\n",
       "    <tr style=\"text-align: right;\">\n",
       "      <th></th>\n",
       "      <th>country</th>\n",
       "      <th>market segment</th>\n",
       "      <th>ever cancel</th>\n",
       "      <th>book change</th>\n",
       "      <th>deposit</th>\n",
       "      <th>waiting list</th>\n",
       "      <th>customer type</th>\n",
       "      <th>reserved room type</th>\n",
       "      <th>required car parking spaces</th>\n",
       "      <th>total of special requests</th>\n",
       "      <th>is canceled</th>\n",
       "    </tr>\n",
       "  </thead>\n",
       "  <tbody>\n",
       "    <tr>\n",
       "      <th>0</th>\n",
       "      <td>IRL</td>\n",
       "      <td>Offline TA/TO</td>\n",
       "      <td>0</td>\n",
       "      <td>0</td>\n",
       "      <td>0</td>\n",
       "      <td>0</td>\n",
       "      <td>Transient-Party</td>\n",
       "      <td>A</td>\n",
       "      <td>0</td>\n",
       "      <td>0</td>\n",
       "      <td>0</td>\n",
       "    </tr>\n",
       "    <tr>\n",
       "      <th>1</th>\n",
       "      <td>FRA</td>\n",
       "      <td>Online TA</td>\n",
       "      <td>0</td>\n",
       "      <td>0</td>\n",
       "      <td>0</td>\n",
       "      <td>0</td>\n",
       "      <td>Transient</td>\n",
       "      <td>A</td>\n",
       "      <td>0</td>\n",
       "      <td>2</td>\n",
       "      <td>0</td>\n",
       "    </tr>\n",
       "    <tr>\n",
       "      <th>2</th>\n",
       "      <td>PRT</td>\n",
       "      <td>Online TA</td>\n",
       "      <td>0</td>\n",
       "      <td>1</td>\n",
       "      <td>0</td>\n",
       "      <td>0</td>\n",
       "      <td>Transient</td>\n",
       "      <td>A</td>\n",
       "      <td>0</td>\n",
       "      <td>2</td>\n",
       "      <td>0</td>\n",
       "    </tr>\n",
       "    <tr>\n",
       "      <th>3</th>\n",
       "      <td>NLD</td>\n",
       "      <td>Online TA</td>\n",
       "      <td>0</td>\n",
       "      <td>0</td>\n",
       "      <td>0</td>\n",
       "      <td>0</td>\n",
       "      <td>Transient</td>\n",
       "      <td>A</td>\n",
       "      <td>0</td>\n",
       "      <td>1</td>\n",
       "      <td>1</td>\n",
       "    </tr>\n",
       "    <tr>\n",
       "      <th>4</th>\n",
       "      <td>PRT</td>\n",
       "      <td>Online TA</td>\n",
       "      <td>0</td>\n",
       "      <td>1</td>\n",
       "      <td>0</td>\n",
       "      <td>0</td>\n",
       "      <td>Transient</td>\n",
       "      <td>A</td>\n",
       "      <td>0</td>\n",
       "      <td>2</td>\n",
       "      <td>0</td>\n",
       "    </tr>\n",
       "    <tr>\n",
       "      <th>...</th>\n",
       "      <td>...</td>\n",
       "      <td>...</td>\n",
       "      <td>...</td>\n",
       "      <td>...</td>\n",
       "      <td>...</td>\n",
       "      <td>...</td>\n",
       "      <td>...</td>\n",
       "      <td>...</td>\n",
       "      <td>...</td>\n",
       "      <td>...</td>\n",
       "      <td>...</td>\n",
       "    </tr>\n",
       "    <tr>\n",
       "      <th>83568</th>\n",
       "      <td>PRT</td>\n",
       "      <td>Online TA</td>\n",
       "      <td>0</td>\n",
       "      <td>0</td>\n",
       "      <td>0</td>\n",
       "      <td>0</td>\n",
       "      <td>Contract</td>\n",
       "      <td>A</td>\n",
       "      <td>0</td>\n",
       "      <td>3</td>\n",
       "      <td>1</td>\n",
       "    </tr>\n",
       "    <tr>\n",
       "      <th>83569</th>\n",
       "      <td>FRA</td>\n",
       "      <td>Online TA</td>\n",
       "      <td>0</td>\n",
       "      <td>0</td>\n",
       "      <td>0</td>\n",
       "      <td>0</td>\n",
       "      <td>Transient</td>\n",
       "      <td>D</td>\n",
       "      <td>0</td>\n",
       "      <td>2</td>\n",
       "      <td>0</td>\n",
       "    </tr>\n",
       "    <tr>\n",
       "      <th>83570</th>\n",
       "      <td>PRT</td>\n",
       "      <td>Online TA</td>\n",
       "      <td>0</td>\n",
       "      <td>1</td>\n",
       "      <td>0</td>\n",
       "      <td>0</td>\n",
       "      <td>Transient</td>\n",
       "      <td>D</td>\n",
       "      <td>0</td>\n",
       "      <td>3</td>\n",
       "      <td>0</td>\n",
       "    </tr>\n",
       "    <tr>\n",
       "      <th>83571</th>\n",
       "      <td>CN</td>\n",
       "      <td>Offline TA/TO</td>\n",
       "      <td>0</td>\n",
       "      <td>0</td>\n",
       "      <td>0</td>\n",
       "      <td>0</td>\n",
       "      <td>Transient-Party</td>\n",
       "      <td>A</td>\n",
       "      <td>0</td>\n",
       "      <td>0</td>\n",
       "      <td>0</td>\n",
       "    </tr>\n",
       "    <tr>\n",
       "      <th>83572</th>\n",
       "      <td>PRT</td>\n",
       "      <td>Groups</td>\n",
       "      <td>0</td>\n",
       "      <td>0</td>\n",
       "      <td>1</td>\n",
       "      <td>0</td>\n",
       "      <td>Transient</td>\n",
       "      <td>A</td>\n",
       "      <td>0</td>\n",
       "      <td>0</td>\n",
       "      <td>1</td>\n",
       "    </tr>\n",
       "  </tbody>\n",
       "</table>\n",
       "<p>83222 rows × 11 columns</p>\n",
       "</div>"
      ],
      "text/plain": [
       "      country market segment  ever cancel  book change  deposit  waiting list  \\\n",
       "0         IRL  Offline TA/TO            0            0        0             0   \n",
       "1         FRA      Online TA            0            0        0             0   \n",
       "2         PRT      Online TA            0            1        0             0   \n",
       "3         NLD      Online TA            0            0        0             0   \n",
       "4         PRT      Online TA            0            1        0             0   \n",
       "...       ...            ...          ...          ...      ...           ...   \n",
       "83568     PRT      Online TA            0            0        0             0   \n",
       "83569     FRA      Online TA            0            0        0             0   \n",
       "83570     PRT      Online TA            0            1        0             0   \n",
       "83571      CN  Offline TA/TO            0            0        0             0   \n",
       "83572     PRT         Groups            0            0        1             0   \n",
       "\n",
       "         customer type reserved room type  required car parking spaces  \\\n",
       "0      Transient-Party                  A                            0   \n",
       "1            Transient                  A                            0   \n",
       "2            Transient                  A                            0   \n",
       "3            Transient                  A                            0   \n",
       "4            Transient                  A                            0   \n",
       "...                ...                ...                          ...   \n",
       "83568         Contract                  A                            0   \n",
       "83569        Transient                  D                            0   \n",
       "83570        Transient                  D                            0   \n",
       "83571  Transient-Party                  A                            0   \n",
       "83572        Transient                  A                            0   \n",
       "\n",
       "       total of special requests  is canceled  \n",
       "0                              0            0  \n",
       "1                              2            0  \n",
       "2                              2            0  \n",
       "3                              1            1  \n",
       "4                              2            0  \n",
       "...                          ...          ...  \n",
       "83568                          3            1  \n",
       "83569                          2            0  \n",
       "83570                          3            0  \n",
       "83571                          0            0  \n",
       "83572                          0            1  \n",
       "\n",
       "[83222 rows x 11 columns]"
      ]
     },
     "execution_count": 23,
     "metadata": {},
     "output_type": "execute_result"
    }
   ],
   "source": [
    "df"
   ]
  },
  {
   "cell_type": "markdown",
   "metadata": {},
   "source": [
    "## EDA"
   ]
  },
  {
   "cell_type": "code",
   "execution_count": 24,
   "metadata": {},
   "outputs": [],
   "source": [
    "from sklearn.preprocessing import OneHotEncoder\n",
    "from sklearn.compose import ColumnTransformer\n",
    "import category_encoders as ce\n",
    "from sklearn.impute import SimpleImputer\n",
    "from sklearn.pipeline import Pipeline\n",
    "from sklearn.model_selection import train_test_split\n"
   ]
  },
  {
   "cell_type": "code",
   "execution_count": 25,
   "metadata": {},
   "outputs": [],
   "source": [
    "#encoding\n",
    "transformer=ColumnTransformer([\n",
    "    ('onehot',OneHotEncoder(drop='first'),['customer type']),\n",
    "    ('binary',ce.BinaryEncoder(),['country','reserved room type','market segment'])\n",
    "],remainder='passthrough')"
   ]
  },
  {
   "cell_type": "code",
   "execution_count": 26,
   "metadata": {},
   "outputs": [],
   "source": [
    "x=df.drop(columns='is canceled')\n",
    "y=df['is canceled']"
   ]
  },
  {
   "cell_type": "code",
   "execution_count": 27,
   "metadata": {},
   "outputs": [],
   "source": [
    "x_train,x_test,y_train,y_test=train_test_split(x,y,stratify=y,random_state=2020)"
   ]
  },
  {
   "cell_type": "code",
   "execution_count": 28,
   "metadata": {},
   "outputs": [
    {
     "data": {
      "text/plain": [
       "array([[0., 0., 1., ..., 0., 0., 0.],\n",
       "       [0., 1., 0., ..., 0., 0., 2.],\n",
       "       [0., 1., 0., ..., 0., 0., 2.],\n",
       "       ...,\n",
       "       [0., 1., 0., ..., 0., 0., 3.],\n",
       "       [0., 0., 1., ..., 0., 0., 0.],\n",
       "       [0., 1., 0., ..., 0., 0., 0.]])"
      ]
     },
     "execution_count": 28,
     "metadata": {},
     "output_type": "execute_result"
    }
   ],
   "source": [
    "transformer.fit_transform(x)"
   ]
  },
  {
   "cell_type": "markdown",
   "metadata": {},
   "source": [
    "# Modelling"
   ]
  },
  {
   "cell_type": "code",
   "execution_count": 29,
   "metadata": {},
   "outputs": [],
   "source": [
    "from sklearn.linear_model import LogisticRegression\n",
    "from sklearn.tree import DecisionTreeClassifier\n",
    "from sklearn.neighbors import KNeighborsClassifier\n",
    "from sklearn.ensemble import RandomForestClassifier,AdaBoostClassifier,GradientBoostingClassifier\n",
    "from xgboost import XGBClassifier"
   ]
  },
  {
   "cell_type": "code",
   "execution_count": 30,
   "metadata": {},
   "outputs": [],
   "source": [
    "logreg=LogisticRegression(max_iter=150,random_state=2020)\n",
    "tree=DecisionTreeClassifier(max_depth=4,random_state=2020)\n",
    "knn=KNeighborsClassifier(n_neighbors=4)\n",
    "forest=RandomForestClassifier(max_depth=4,random_state=2020)\n",
    "ada=AdaBoostClassifier(tree,n_estimators=150,learning_rate=0.1,random_state=2020)\n",
    "gbc=GradientBoostingClassifier(n_estimators=150,learning_rate=0.1,max_depth=4,random_state=2020)\n",
    "xgb=XGBClassifier(n_estimators=150,learning_rate=0.1,max_depth=4,random_State=2020)"
   ]
  },
  {
   "cell_type": "markdown",
   "metadata": {},
   "source": [
    "# Model selection"
   ]
  },
  {
   "cell_type": "code",
   "execution_count": 31,
   "metadata": {},
   "outputs": [],
   "source": [
    "from sklearn.model_selection import StratifiedKFold\n",
    "from sklearn.model_selection import cross_val_score"
   ]
  },
  {
   "cell_type": "code",
   "execution_count": 32,
   "metadata": {},
   "outputs": [
    {
     "name": "stderr",
     "output_type": "stream",
     "text": [
      "d:\\Dev\\Python\\lib\\site-packages\\sklearn\\linear_model\\_logistic.py:444: ConvergenceWarning: lbfgs failed to converge (status=1):\n",
      "STOP: TOTAL NO. of ITERATIONS REACHED LIMIT.\n",
      "\n",
      "Increase the number of iterations (max_iter) or scale the data as shown in:\n",
      "    https://scikit-learn.org/stable/modules/preprocessing.html\n",
      "Please also refer to the documentation for alternative solver options:\n",
      "    https://scikit-learn.org/stable/modules/linear_model.html#logistic-regression\n",
      "  n_iter_i = _check_optimize_result(\n",
      "d:\\Dev\\Python\\lib\\site-packages\\sklearn\\linear_model\\_logistic.py:444: ConvergenceWarning: lbfgs failed to converge (status=1):\n",
      "STOP: TOTAL NO. of ITERATIONS REACHED LIMIT.\n",
      "\n",
      "Increase the number of iterations (max_iter) or scale the data as shown in:\n",
      "    https://scikit-learn.org/stable/modules/preprocessing.html\n",
      "Please also refer to the documentation for alternative solver options:\n",
      "    https://scikit-learn.org/stable/modules/linear_model.html#logistic-regression\n",
      "  n_iter_i = _check_optimize_result(\n"
     ]
    },
    {
     "name": "stdout",
     "output_type": "stream",
     "text": [
      "[08:55:33] WARNING: C:/buildkite-agent/builds/buildkite-windows-cpu-autoscaling-group-i-03de431ba26204c4d-1/xgboost/xgboost-ci-windows/src/learner.cc:767: \n",
      "Parameters: { \"random_State\" } are not used.\n",
      "\n",
      "[08:55:34] WARNING: C:/buildkite-agent/builds/buildkite-windows-cpu-autoscaling-group-i-03de431ba26204c4d-1/xgboost/xgboost-ci-windows/src/learner.cc:767: \n",
      "Parameters: { \"random_State\" } are not used.\n",
      "\n",
      "[08:55:35] WARNING: C:/buildkite-agent/builds/buildkite-windows-cpu-autoscaling-group-i-03de431ba26204c4d-1/xgboost/xgboost-ci-windows/src/learner.cc:767: \n",
      "Parameters: { \"random_State\" } are not used.\n",
      "\n",
      "[08:55:37] WARNING: C:/buildkite-agent/builds/buildkite-windows-cpu-autoscaling-group-i-03de431ba26204c4d-1/xgboost/xgboost-ci-windows/src/learner.cc:767: \n",
      "Parameters: { \"random_State\" } are not used.\n",
      "\n",
      "[08:55:38] WARNING: C:/buildkite-agent/builds/buildkite-windows-cpu-autoscaling-group-i-03de431ba26204c4d-1/xgboost/xgboost-ci-windows/src/learner.cc:767: \n",
      "Parameters: { \"random_State\" } are not used.\n",
      "\n"
     ]
    }
   ],
   "source": [
    "models=[logreg,tree,knn,forest,ada,gbc,xgb]\n",
    "score=[]\n",
    "rata=[]\n",
    "std=[]\n",
    "for i in models:\n",
    "    skfold=StratifiedKFold(n_splits=5)\n",
    "    estimator=Pipeline([\n",
    "        ('preprocessing',transformer),\n",
    "        ('model',i)\n",
    "    ])\n",
    "    model_cv=cross_val_score(estimator,x_train,y_train,cv=skfold,scoring='f1')\n",
    "    score.append(model_cv)\n",
    "    rata.append(model_cv.mean())\n",
    "    std.append(model_cv.std())"
   ]
  },
  {
   "cell_type": "code",
   "execution_count": 33,
   "metadata": {},
   "outputs": [
    {
     "data": {
      "text/html": [
       "<div>\n",
       "<style scoped>\n",
       "    .dataframe tbody tr th:only-of-type {\n",
       "        vertical-align: middle;\n",
       "    }\n",
       "\n",
       "    .dataframe tbody tr th {\n",
       "        vertical-align: top;\n",
       "    }\n",
       "\n",
       "    .dataframe thead th {\n",
       "        text-align: right;\n",
       "    }\n",
       "</style>\n",
       "<table border=\"1\" class=\"dataframe\">\n",
       "  <thead>\n",
       "    <tr style=\"text-align: right;\">\n",
       "      <th></th>\n",
       "      <th>models</th>\n",
       "      <th>score</th>\n",
       "      <th>rata rata</th>\n",
       "      <th>standar deviasi</th>\n",
       "    </tr>\n",
       "  </thead>\n",
       "  <tbody>\n",
       "    <tr>\n",
       "      <th>0</th>\n",
       "      <td>LogisticRegression(max_iter=150, random_state=...</td>\n",
       "      <td>[0.6472690148034712, 0.647377938517179, 0.6456...</td>\n",
       "      <td>0.650492</td>\n",
       "      <td>0.006978</td>\n",
       "    </tr>\n",
       "    <tr>\n",
       "      <th>1</th>\n",
       "      <td>DecisionTreeClassifier(max_depth=4, random_sta...</td>\n",
       "      <td>[0.5373181530676787, 0.5489642184557438, 0.534...</td>\n",
       "      <td>0.543074</td>\n",
       "      <td>0.005769</td>\n",
       "    </tr>\n",
       "    <tr>\n",
       "      <th>2</th>\n",
       "      <td>KNeighborsClassifier(n_neighbors=4)</td>\n",
       "      <td>[0.6880679806443999, 0.6696600384862093, 0.654...</td>\n",
       "      <td>0.668697</td>\n",
       "      <td>0.011025</td>\n",
       "    </tr>\n",
       "    <tr>\n",
       "      <th>3</th>\n",
       "      <td>RandomForestClassifier(max_depth=4, random_sta...</td>\n",
       "      <td>[0.5371482769522605, 0.5454831602140384, 0.532...</td>\n",
       "      <td>0.541691</td>\n",
       "      <td>0.005915</td>\n",
       "    </tr>\n",
       "    <tr>\n",
       "      <th>4</th>\n",
       "      <td>AdaBoostClassifier(base_estimator=DecisionTree...</td>\n",
       "      <td>[0.7225167089191058, 0.7302933088909259, 0.725...</td>\n",
       "      <td>0.722771</td>\n",
       "      <td>0.009749</td>\n",
       "    </tr>\n",
       "    <tr>\n",
       "      <th>5</th>\n",
       "      <td>GradientBoostingClassifier(max_depth=4, n_esti...</td>\n",
       "      <td>[0.7138586631591535, 0.7208837701257491, 0.708...</td>\n",
       "      <td>0.713894</td>\n",
       "      <td>0.006477</td>\n",
       "    </tr>\n",
       "    <tr>\n",
       "      <th>6</th>\n",
       "      <td>XGBClassifier(base_score=None, booster=None, c...</td>\n",
       "      <td>[0.7140811455847256, 0.7208455666470934, 0.709...</td>\n",
       "      <td>0.713409</td>\n",
       "      <td>0.009624</td>\n",
       "    </tr>\n",
       "  </tbody>\n",
       "</table>\n",
       "</div>"
      ],
      "text/plain": [
       "                                              models  \\\n",
       "0  LogisticRegression(max_iter=150, random_state=...   \n",
       "1  DecisionTreeClassifier(max_depth=4, random_sta...   \n",
       "2                KNeighborsClassifier(n_neighbors=4)   \n",
       "3  RandomForestClassifier(max_depth=4, random_sta...   \n",
       "4  AdaBoostClassifier(base_estimator=DecisionTree...   \n",
       "5  GradientBoostingClassifier(max_depth=4, n_esti...   \n",
       "6  XGBClassifier(base_score=None, booster=None, c...   \n",
       "\n",
       "                                               score  rata rata  \\\n",
       "0  [0.6472690148034712, 0.647377938517179, 0.6456...   0.650492   \n",
       "1  [0.5373181530676787, 0.5489642184557438, 0.534...   0.543074   \n",
       "2  [0.6880679806443999, 0.6696600384862093, 0.654...   0.668697   \n",
       "3  [0.5371482769522605, 0.5454831602140384, 0.532...   0.541691   \n",
       "4  [0.7225167089191058, 0.7302933088909259, 0.725...   0.722771   \n",
       "5  [0.7138586631591535, 0.7208837701257491, 0.708...   0.713894   \n",
       "6  [0.7140811455847256, 0.7208455666470934, 0.709...   0.713409   \n",
       "\n",
       "   standar deviasi  \n",
       "0         0.006978  \n",
       "1         0.005769  \n",
       "2         0.011025  \n",
       "3         0.005915  \n",
       "4         0.009749  \n",
       "5         0.006477  \n",
       "6         0.009624  "
      ]
     },
     "execution_count": 33,
     "metadata": {},
     "output_type": "execute_result"
    }
   ],
   "source": [
    "pd.DataFrame({'models':models,'score':score,'rata rata':rata,'standar deviasi':std})"
   ]
  },
  {
   "cell_type": "code",
   "execution_count": 34,
   "metadata": {},
   "outputs": [
    {
     "data": {
      "text/html": [
       "<div>\n",
       "<style scoped>\n",
       "    .dataframe tbody tr th:only-of-type {\n",
       "        vertical-align: middle;\n",
       "    }\n",
       "\n",
       "    .dataframe tbody tr th {\n",
       "        vertical-align: top;\n",
       "    }\n",
       "\n",
       "    .dataframe thead th {\n",
       "        text-align: right;\n",
       "    }\n",
       "</style>\n",
       "<table border=\"1\" class=\"dataframe\">\n",
       "  <thead>\n",
       "    <tr style=\"text-align: right;\">\n",
       "      <th></th>\n",
       "      <th>model</th>\n",
       "      <th>mean</th>\n",
       "      <th>std</th>\n",
       "    </tr>\n",
       "  </thead>\n",
       "  <tbody>\n",
       "    <tr>\n",
       "      <th>0</th>\n",
       "      <td>logreg</td>\n",
       "      <td>0.650492</td>\n",
       "      <td>0.006978</td>\n",
       "    </tr>\n",
       "    <tr>\n",
       "      <th>1</th>\n",
       "      <td>tree</td>\n",
       "      <td>0.543074</td>\n",
       "      <td>0.005769</td>\n",
       "    </tr>\n",
       "    <tr>\n",
       "      <th>2</th>\n",
       "      <td>knn</td>\n",
       "      <td>0.668697</td>\n",
       "      <td>0.011025</td>\n",
       "    </tr>\n",
       "    <tr>\n",
       "      <th>3</th>\n",
       "      <td>forest</td>\n",
       "      <td>0.541691</td>\n",
       "      <td>0.005915</td>\n",
       "    </tr>\n",
       "    <tr>\n",
       "      <th>4</th>\n",
       "      <td>ada</td>\n",
       "      <td>0.722771</td>\n",
       "      <td>0.009749</td>\n",
       "    </tr>\n",
       "    <tr>\n",
       "      <th>5</th>\n",
       "      <td>gbc</td>\n",
       "      <td>0.713894</td>\n",
       "      <td>0.006477</td>\n",
       "    </tr>\n",
       "    <tr>\n",
       "      <th>6</th>\n",
       "      <td>xgb</td>\n",
       "      <td>0.713409</td>\n",
       "      <td>0.009624</td>\n",
       "    </tr>\n",
       "  </tbody>\n",
       "</table>\n",
       "</div>"
      ],
      "text/plain": [
       "    model      mean       std\n",
       "0  logreg  0.650492  0.006978\n",
       "1    tree  0.543074  0.005769\n",
       "2     knn  0.668697  0.011025\n",
       "3  forest  0.541691  0.005915\n",
       "4     ada  0.722771  0.009749\n",
       "5     gbc  0.713894  0.006477\n",
       "6     xgb  0.713409  0.009624"
      ]
     },
     "execution_count": 34,
     "metadata": {},
     "output_type": "execute_result"
    }
   ],
   "source": [
    "pd.DataFrame({\n",
    "    'model':['logreg','tree','knn','forest','ada','gbc','xgb'],\n",
    "    'mean':rata,\n",
    "    'std':std\n",
    "})"
   ]
  },
  {
   "cell_type": "markdown",
   "metadata": {},
   "source": [
    "dari hasil CV, mean tertinggi adalah adaboost, sedangkan std terendah adalah tree. karena mayoritas std 0.01, maka akan dipilih dengan mean tertinggi"
   ]
  },
  {
   "cell_type": "markdown",
   "metadata": {},
   "source": [
    "# Model test"
   ]
  },
  {
   "cell_type": "code",
   "execution_count": 35,
   "metadata": {},
   "outputs": [],
   "source": [
    "from sklearn.metrics import classification_report,confusion_matrix\n",
    "from sklearn.model_selection import GridSearchCV"
   ]
  },
  {
   "cell_type": "markdown",
   "metadata": {},
   "source": [
    "sesuai hasil diatas, maka model yang dipilih yaitu top 2 mean \n",
    "1. ada\n",
    "1. gbc\n"
   ]
  },
  {
   "cell_type": "code",
   "execution_count": 36,
   "metadata": {},
   "outputs": [],
   "source": [
    "model={\n",
    "    'gbc': GradientBoostingClassifier(n_estimators=150,learning_rate=0.1,max_depth=4,random_state=2020),\n",
    "    'ada': AdaBoostClassifier(tree,n_estimators=150,learning_rate=0.1,random_state=2020),\n",
    "}"
   ]
  },
  {
   "cell_type": "code",
   "execution_count": 37,
   "metadata": {},
   "outputs": [
    {
     "name": "stdout",
     "output_type": "stream",
     "text": [
      "gbc\n",
      "              precision    recall  f1-score   support\n",
      "\n",
      "           0       0.82      0.89      0.85     13123\n",
      "           1       0.78      0.67      0.72      7683\n",
      "\n",
      "    accuracy                           0.81     20806\n",
      "   macro avg       0.80      0.78      0.79     20806\n",
      "weighted avg       0.81      0.81      0.80     20806\n",
      "\n"
     ]
    },
    {
     "data": {
      "image/png": "[encoded data removed]",
      "text/plain": [
       "<Figure size 640x480 with 2 Axes>"
      ]
     },
     "metadata": {},
     "output_type": "display_data"
    },
    {
     "name": "stdout",
     "output_type": "stream",
     "text": [
      "ada\n",
      "              precision    recall  f1-score   support\n",
      "\n",
      "           0       0.83      0.88      0.85     13123\n",
      "           1       0.77      0.69      0.73      7683\n",
      "\n",
      "    accuracy                           0.81     20806\n",
      "   macro avg       0.80      0.79      0.79     20806\n",
      "weighted avg       0.81      0.81      0.81     20806\n",
      "\n"
     ]
    },
    {
     "data": {
      "image/png": "[encoded data removed]",
      "text/plain": [
       "<Figure size 640x480 with 2 Axes>"
      ]
     },
     "metadata": {},
     "output_type": "display_data"
    },
    {
     "name": "stdout",
     "output_type": "stream",
     "text": [
      "tree\n",
      "              precision    recall  f1-score   support\n",
      "\n",
      "           0       0.73      1.00      0.85     13123\n",
      "           1       0.99      0.38      0.55      7683\n",
      "\n",
      "    accuracy                           0.77     20806\n",
      "   macro avg       0.86      0.69      0.70     20806\n",
      "weighted avg       0.83      0.77      0.73     20806\n",
      "\n"
     ]
    },
    {
     "data": {
      "image/png": "[encoded data removed]",
      "text/plain": [
       "<Figure size 640x480 with 2 Axes>"
      ]
     },
     "metadata": {},
     "output_type": "display_data"
    },
    {
     "name": "stdout",
     "output_type": "stream",
     "text": [
      "foerst\n",
      "              precision    recall  f1-score   support\n",
      "\n",
      "           0       0.73      1.00      0.85     13123\n",
      "           1       0.99      0.38      0.55      7683\n",
      "\n",
      "    accuracy                           0.77     20806\n",
      "   macro avg       0.86      0.69      0.70     20806\n",
      "weighted avg       0.83      0.77      0.73     20806\n",
      "\n"
     ]
    },
    {
     "data": {
      "image/png": "[encoded data removed]",
      "text/plain": [
       "<Figure size 640x480 with 2 Axes>"
      ]
     },
     "metadata": {},
     "output_type": "display_data"
    }
   ],
   "source": [
    "for i,j in model.items():\n",
    "    estimator=Pipeline([\n",
    "    ('preprocessing',transformer),\n",
    "    ('model',j)\n",
    "    ])\n",
    "    estimator.fit(x_train,y_train)\n",
    "    y_pred=estimator.predict(x_test)\n",
    "    print(i)\n",
    "    print(classification_report(y_test,y_pred))\n",
    "    snis.heatmap(confusion_matrix(y_test,y_pred)/np.sum(confusion_matrix(y_test,y_pred)),annot=True,fmt='.2%')\n",
    "    mpl.xlabel('Predict')\n",
    "    mpl.ylabel('Actual')\n",
    "    mpl.show()\n",
    "\n"
   ]
  },
  {
   "cell_type": "code",
   "execution_count": 38,
   "metadata": {},
   "outputs": [],
   "source": [
    "tunning_models=[ada,gbc]\n",
    "for model in tunning_models: \n",
    "    estimator=Pipeline([\n",
    "        ('processing',transformer),\n",
    "        ('model',model)\n",
    "])"
   ]
  },
  {
   "cell_type": "code",
   "execution_count": 40,
   "metadata": {},
   "outputs": [],
   "source": [
    "hyperparam=[\n",
    "    {'model':[ada],\n",
    "    'model__learning_rate':[0.1],\n",
    "    'model__n_estimators':[200]},\n",
    "    {'model':[ada],\n",
    "    'model__learning_rate':[0.01],\n",
    "    'model__n_estimators':[500]},\n",
    "    {'model':[ada],\n",
    "    'model__learning_rate':[0.001],\n",
    "    'model__n_estimators':[1000]},\n",
    "    {'model':[gbc],\n",
    "    'model__learning_rate':[0.1],\n",
    "    'model__n_estimators':[200]},\n",
    "    {'model':[gbc],\n",
    "    'model__learning_rate':[0.01],\n",
    "    'model__n_estimators':[500],\n",
    "    'model__max_depth':[1,2,3,4,5]},\n",
    "    {'model':[gbc],\n",
    "    'model__learning_rate':[0.001],\n",
    "    'model__n_estimators':[1000],\n",
    "    'model__max_depth':[1,2,3,4,5]},\n",
    "    \n",
    "]"
   ]
  },
  {
   "cell_type": "code",
   "execution_count": 41,
   "metadata": {},
   "outputs": [],
   "source": [
    "skfold=StratifiedKFold(n_splits=5)\n",
    "grid=GridSearchCV(estimator,\n",
    "                 param_grid=hyperparam,\n",
    "                 cv=skfold,\n",
    "                 scoring='f1',\n",
    "           n_jobs=-1)"
   ]
  },
  {
   "cell_type": "code",
   "execution_count": 42,
   "metadata": {},
   "outputs": [
    {
     "data": {
      "text/html": [
       "<style>#sk-container-id-1 {color: black;background-color: white;}#sk-container-id-1 pre{padding: 0;}#sk-container-id-1 div.sk-toggleable {background-color: white;}#sk-container-id-1 label.sk-toggleable__label {cursor: pointer;display: block;width: 100%;margin-bottom: 0;padding: 0.3em;box-sizing: border-box;text-align: center;}#sk-container-id-1 label.sk-toggleable__label-arrow:before {content: \"▸\";float: left;margin-right: 0.25em;color: #696969;}#sk-container-id-1 label.sk-toggleable__label-arrow:hover:before {color: black;}#sk-container-id-1 div.sk-estimator:hover label.sk-toggleable__label-arrow:before {color: black;}#sk-container-id-1 div.sk-toggleable__content {max-height: 0;max-width: 0;overflow: hidden;text-align: left;background-color: #f0f8ff;}#sk-container-id-1 div.sk-toggleable__content pre {margin: 0.2em;color: black;border-radius: 0.25em;background-color: #f0f8ff;}#sk-container-id-1 input.sk-toggleable__control:checked~div.sk-toggleable__content {max-height: 200px;max-width: 100%;overflow: auto;}#sk-container-id-1 input.sk-toggleable__control:checked~label.sk-toggleable__label-arrow:before {content: \"▾\";}#sk-container-id-1 div.sk-estimator input.sk-toggleable__control:checked~label.sk-toggleable__label {background-color: #d4ebff;}#sk-container-id-1 div.sk-label input.sk-toggleable__control:checked~label.sk-toggleable__label {background-color: #d4ebff;}#sk-container-id-1 input.sk-hidden--visually {border: 0;clip: rect(1px 1px 1px 1px);clip: rect(1px, 1px, 1px, 1px);height: 1px;margin: -1px;overflow: hidden;padding: 0;position: absolute;width: 1px;}#sk-container-id-1 div.sk-estimator {font-family: monospace;background-color: #f0f8ff;border: 1px dotted black;border-radius: 0.25em;box-sizing: border-box;margin-bottom: 0.5em;}#sk-container-id-1 div.sk-estimator:hover {background-color: #d4ebff;}#sk-container-id-1 div.sk-parallel-item::after {content: \"\";width: 100%;border-bottom: 1px solid gray;flex-grow: 1;}#sk-container-id-1 div.sk-label:hover label.sk-toggleable__label {background-color: #d4ebff;}#sk-container-id-1 div.sk-serial::before {content: \"\";position: absolute;border-left: 1px solid gray;box-sizing: border-box;top: 0;bottom: 0;left: 50%;z-index: 0;}#sk-container-id-1 div.sk-serial {display: flex;flex-direction: column;align-items: center;background-color: white;padding-right: 0.2em;padding-left: 0.2em;position: relative;}#sk-container-id-1 div.sk-item {position: relative;z-index: 1;}#sk-container-id-1 div.sk-parallel {display: flex;align-items: stretch;justify-content: center;background-color: white;position: relative;}#sk-container-id-1 div.sk-item::before, #sk-container-id-1 div.sk-parallel-item::before {content: \"\";position: absolute;border-left: 1px solid gray;box-sizing: border-box;top: 0;bottom: 0;left: 50%;z-index: -1;}#sk-container-id-1 div.sk-parallel-item {display: flex;flex-direction: column;z-index: 1;position: relative;background-color: white;}#sk-container-id-1 div.sk-parallel-item:first-child::after {align-self: flex-end;width: 50%;}#sk-container-id-1 div.sk-parallel-item:last-child::after {align-self: flex-start;width: 50%;}#sk-container-id-1 div.sk-parallel-item:only-child::after {width: 0;}#sk-container-id-1 div.sk-dashed-wrapped {border: 1px dashed gray;margin: 0 0.4em 0.5em 0.4em;box-sizing: border-box;padding-bottom: 0.4em;background-color: white;}#sk-container-id-1 div.sk-label label {font-family: monospace;font-weight: bold;display: inline-block;line-height: 1.2em;}#sk-container-id-1 div.sk-label-container {text-align: center;}#sk-container-id-1 div.sk-container {/* jupyter's `normalize.less` sets `[hidden] { display: none; }` but bootstrap.min.css set `[hidden] { display: none !important; }` so we also need the `!important` here to be able to override the default hidden behavior on the sphinx rendered scikit-learn.org. See: https://github.com/scikit-learn/scikit-learn/issues/21755 */display: inline-block !important;position: relative;}#sk-container-id-1 div.sk-text-repr-fallback {display: none;}</style><div id=\"sk-container-id-1\" class=\"sk-top-container\"><div class=\"sk-text-repr-fallback\"><pre>GridSearchCV(cv=StratifiedKFold(n_splits=5, random_state=None, shuffle=False),\n",
       "             estimator=Pipeline(steps=[(&#x27;processing&#x27;,\n",
       "                                        ColumnTransformer(remainder=&#x27;passthrough&#x27;,\n",
       "                                                          transformers=[(&#x27;onehot&#x27;,\n",
       "                                                                         OneHotEncoder(drop=&#x27;first&#x27;),\n",
       "                                                                         [&#x27;customer &#x27;\n",
       "                                                                          &#x27;type&#x27;]),\n",
       "                                                                        (&#x27;binary&#x27;,\n",
       "                                                                         BinaryEncoder(),\n",
       "                                                                         [&#x27;country&#x27;,\n",
       "                                                                          &#x27;reserved &#x27;\n",
       "                                                                          &#x27;room &#x27;\n",
       "                                                                          &#x27;type&#x27;,\n",
       "                                                                          &#x27;market &#x27;\n",
       "                                                                          &#x27;segment&#x27;])])),\n",
       "                                       (&#x27;model&#x27;,\n",
       "                                        RandomForestClassifier(max_d...\n",
       "                         {&#x27;model&#x27;: [GradientBoostingClassifier(max_depth=4,\n",
       "                                                               n_estimators=150,\n",
       "                                                               random_state=2020)],\n",
       "                          &#x27;model__learning_rate&#x27;: [0.01],\n",
       "                          &#x27;model__max_depth&#x27;: [1, 2, 3, 4, 5],\n",
       "                          &#x27;model__n_estimators&#x27;: [500]},\n",
       "                         {&#x27;model&#x27;: [GradientBoostingClassifier(max_depth=4,\n",
       "                                                               n_estimators=150,\n",
       "                                                               random_state=2020)],\n",
       "                          &#x27;model__learning_rate&#x27;: [0.001],\n",
       "                          &#x27;model__max_depth&#x27;: [1, 2, 3, 4, 5],\n",
       "                          &#x27;model__n_estimators&#x27;: [1000]}],\n",
       "             scoring=&#x27;f1&#x27;)</pre><b>In a Jupyter environment, please rerun this cell to show the HTML representation or trust the notebook. <br />On GitHub, the HTML representation is unable to render, please try loading this page with nbviewer.org.</b></div><div class=\"sk-container\" hidden><div class=\"sk-item sk-dashed-wrapped\"><div class=\"sk-label-container\"><div class=\"sk-label sk-toggleable\"><input class=\"sk-toggleable__control sk-hidden--visually\" id=\"sk-estimator-id-1\" type=\"checkbox\" ><label for=\"sk-estimator-id-1\" class=\"sk-toggleable__label sk-toggleable__label-arrow\">GridSearchCV</label><div class=\"sk-toggleable__content\"><pre>GridSearchCV(cv=StratifiedKFold(n_splits=5, random_state=None, shuffle=False),\n",
       "             estimator=Pipeline(steps=[(&#x27;processing&#x27;,\n",
       "                                        ColumnTransformer(remainder=&#x27;passthrough&#x27;,\n",
       "                                                          transformers=[(&#x27;onehot&#x27;,\n",
       "                                                                         OneHotEncoder(drop=&#x27;first&#x27;),\n",
       "                                                                         [&#x27;customer &#x27;\n",
       "                                                                          &#x27;type&#x27;]),\n",
       "                                                                        (&#x27;binary&#x27;,\n",
       "                                                                         BinaryEncoder(),\n",
       "                                                                         [&#x27;country&#x27;,\n",
       "                                                                          &#x27;reserved &#x27;\n",
       "                                                                          &#x27;room &#x27;\n",
       "                                                                          &#x27;type&#x27;,\n",
       "                                                                          &#x27;market &#x27;\n",
       "                                                                          &#x27;segment&#x27;])])),\n",
       "                                       (&#x27;model&#x27;,\n",
       "                                        RandomForestClassifier(max_d...\n",
       "                         {&#x27;model&#x27;: [GradientBoostingClassifier(max_depth=4,\n",
       "                                                               n_estimators=150,\n",
       "                                                               random_state=2020)],\n",
       "                          &#x27;model__learning_rate&#x27;: [0.01],\n",
       "                          &#x27;model__max_depth&#x27;: [1, 2, 3, 4, 5],\n",
       "                          &#x27;model__n_estimators&#x27;: [500]},\n",
       "                         {&#x27;model&#x27;: [GradientBoostingClassifier(max_depth=4,\n",
       "                                                               n_estimators=150,\n",
       "                                                               random_state=2020)],\n",
       "                          &#x27;model__learning_rate&#x27;: [0.001],\n",
       "                          &#x27;model__max_depth&#x27;: [1, 2, 3, 4, 5],\n",
       "                          &#x27;model__n_estimators&#x27;: [1000]}],\n",
       "             scoring=&#x27;f1&#x27;)</pre></div></div></div><div class=\"sk-parallel\"><div class=\"sk-parallel-item\"><div class=\"sk-item\"><div class=\"sk-label-container\"><div class=\"sk-label sk-toggleable\"><input class=\"sk-toggleable__control sk-hidden--visually\" id=\"sk-estimator-id-2\" type=\"checkbox\" ><label for=\"sk-estimator-id-2\" class=\"sk-toggleable__label sk-toggleable__label-arrow\">estimator: Pipeline</label><div class=\"sk-toggleable__content\"><pre>Pipeline(steps=[(&#x27;processing&#x27;,\n",
       "                 ColumnTransformer(remainder=&#x27;passthrough&#x27;,\n",
       "                                   transformers=[(&#x27;onehot&#x27;,\n",
       "                                                  OneHotEncoder(drop=&#x27;first&#x27;),\n",
       "                                                  [&#x27;customer type&#x27;]),\n",
       "                                                 (&#x27;binary&#x27;, BinaryEncoder(),\n",
       "                                                  [&#x27;country&#x27;,\n",
       "                                                   &#x27;reserved room type&#x27;,\n",
       "                                                   &#x27;market segment&#x27;])])),\n",
       "                (&#x27;model&#x27;,\n",
       "                 RandomForestClassifier(max_depth=4, random_state=2020))])</pre></div></div></div><div class=\"sk-serial\"><div class=\"sk-item\"><div class=\"sk-serial\"><div class=\"sk-item sk-dashed-wrapped\"><div class=\"sk-label-container\"><div class=\"sk-label sk-toggleable\"><input class=\"sk-toggleable__control sk-hidden--visually\" id=\"sk-estimator-id-3\" type=\"checkbox\" ><label for=\"sk-estimator-id-3\" class=\"sk-toggleable__label sk-toggleable__label-arrow\">processing: ColumnTransformer</label><div class=\"sk-toggleable__content\"><pre>ColumnTransformer(remainder=&#x27;passthrough&#x27;,\n",
       "                  transformers=[(&#x27;onehot&#x27;, OneHotEncoder(drop=&#x27;first&#x27;),\n",
       "                                 [&#x27;customer type&#x27;]),\n",
       "                                (&#x27;binary&#x27;, BinaryEncoder(),\n",
       "                                 [&#x27;country&#x27;, &#x27;reserved room type&#x27;,\n",
       "                                  &#x27;market segment&#x27;])])</pre></div></div></div><div class=\"sk-parallel\"><div class=\"sk-parallel-item\"><div class=\"sk-item\"><div class=\"sk-label-container\"><div class=\"sk-label sk-toggleable\"><input class=\"sk-toggleable__control sk-hidden--visually\" id=\"sk-estimator-id-4\" type=\"checkbox\" ><label for=\"sk-estimator-id-4\" class=\"sk-toggleable__label sk-toggleable__label-arrow\">onehot</label><div class=\"sk-toggleable__content\"><pre>[&#x27;customer type&#x27;]</pre></div></div></div><div class=\"sk-serial\"><div class=\"sk-item\"><div class=\"sk-estimator sk-toggleable\"><input class=\"sk-toggleable__control sk-hidden--visually\" id=\"sk-estimator-id-5\" type=\"checkbox\" ><label for=\"sk-estimator-id-5\" class=\"sk-toggleable__label sk-toggleable__label-arrow\">OneHotEncoder</label><div class=\"sk-toggleable__content\"><pre>OneHotEncoder(drop=&#x27;first&#x27;)</pre></div></div></div></div></div></div><div class=\"sk-parallel-item\"><div class=\"sk-item\"><div class=\"sk-label-container\"><div class=\"sk-label sk-toggleable\"><input class=\"sk-toggleable__control sk-hidden--visually\" id=\"sk-estimator-id-6\" type=\"checkbox\" ><label for=\"sk-estimator-id-6\" class=\"sk-toggleable__label sk-toggleable__label-arrow\">binary</label><div class=\"sk-toggleable__content\"><pre>[&#x27;country&#x27;, &#x27;reserved room type&#x27;, &#x27;market segment&#x27;]</pre></div></div></div><div class=\"sk-serial\"><div class=\"sk-item\"><div class=\"sk-estimator sk-toggleable\"><input class=\"sk-toggleable__control sk-hidden--visually\" id=\"sk-estimator-id-7\" type=\"checkbox\" ><label for=\"sk-estimator-id-7\" class=\"sk-toggleable__label sk-toggleable__label-arrow\">BinaryEncoder</label><div class=\"sk-toggleable__content\"><pre>BinaryEncoder()</pre></div></div></div></div></div></div><div class=\"sk-parallel-item\"><div class=\"sk-item\"><div class=\"sk-label-container\"><div class=\"sk-label sk-toggleable\"><input class=\"sk-toggleable__control sk-hidden--visually\" id=\"sk-estimator-id-8\" type=\"checkbox\" ><label for=\"sk-estimator-id-8\" class=\"sk-toggleable__label sk-toggleable__label-arrow\">remainder</label><div class=\"sk-toggleable__content\"><pre>[&#x27;ever cancel&#x27;, &#x27;book change&#x27;, &#x27;deposit&#x27;, &#x27;waiting list&#x27;, &#x27;required car parking spaces&#x27;, &#x27;total of special requests&#x27;]</pre></div></div></div><div class=\"sk-serial\"><div class=\"sk-item\"><div class=\"sk-estimator sk-toggleable\"><input class=\"sk-toggleable__control sk-hidden--visually\" id=\"sk-estimator-id-9\" type=\"checkbox\" ><label for=\"sk-estimator-id-9\" class=\"sk-toggleable__label sk-toggleable__label-arrow\">passthrough</label><div class=\"sk-toggleable__content\"><pre>passthrough</pre></div></div></div></div></div></div></div></div><div class=\"sk-item\"><div class=\"sk-estimator sk-toggleable\"><input class=\"sk-toggleable__control sk-hidden--visually\" id=\"sk-estimator-id-10\" type=\"checkbox\" ><label for=\"sk-estimator-id-10\" class=\"sk-toggleable__label sk-toggleable__label-arrow\">RandomForestClassifier</label><div class=\"sk-toggleable__content\"><pre>RandomForestClassifier(max_depth=4, random_state=2020)</pre></div></div></div></div></div></div></div></div></div></div></div></div>"
      ],
      "text/plain": [
       "GridSearchCV(cv=StratifiedKFold(n_splits=5, random_state=None, shuffle=False),\n",
       "             estimator=Pipeline(steps=[('processing',\n",
       "                                        ColumnTransformer(remainder='passthrough',\n",
       "                                                          transformers=[('onehot',\n",
       "                                                                         OneHotEncoder(drop='first'),\n",
       "                                                                         ['customer '\n",
       "                                                                          'type']),\n",
       "                                                                        ('binary',\n",
       "                                                                         BinaryEncoder(),\n",
       "                                                                         ['country',\n",
       "                                                                          'reserved '\n",
       "                                                                          'room '\n",
       "                                                                          'type',\n",
       "                                                                          'market '\n",
       "                                                                          'segment'])])),\n",
       "                                       ('model',\n",
       "                                        RandomForestClassifier(max_d...\n",
       "                         {'model': [GradientBoostingClassifier(max_depth=4,\n",
       "                                                               n_estimators=150,\n",
       "                                                               random_state=2020)],\n",
       "                          'model__learning_rate': [0.01],\n",
       "                          'model__max_depth': [1, 2, 3, 4, 5],\n",
       "                          'model__n_estimators': [500]},\n",
       "                         {'model': [GradientBoostingClassifier(max_depth=4,\n",
       "                                                               n_estimators=150,\n",
       "                                                               random_state=2020)],\n",
       "                          'model__learning_rate': [0.001],\n",
       "                          'model__max_depth': [1, 2, 3, 4, 5],\n",
       "                          'model__n_estimators': [1000]}],\n",
       "             scoring='f1')"
      ]
     },
     "execution_count": 42,
     "metadata": {},
     "output_type": "execute_result"
    }
   ],
   "source": [
    "grid.fit(x_train,y_train)"
   ]
  },
  {
   "cell_type": "code",
   "execution_count": 43,
   "metadata": {},
   "outputs": [
    {
     "name": "stdout",
     "output_type": "stream",
     "text": [
      "best score 0.7250091615747044\n",
      "best param {'model': AdaBoostClassifier(base_estimator=DecisionTreeClassifier(max_depth=4,\n",
      "                                                         random_state=2020),\n",
      "                   learning_rate=0.1, n_estimators=200, random_state=2020), 'model__learning_rate': 0.1, 'model__n_estimators': 200}\n"
     ]
    }
   ],
   "source": [
    "print('best score',grid.best_score_)\n",
    "print ('best param', grid.best_params_)"
   ]
  },
  {
   "cell_type": "code",
   "execution_count": 44,
   "metadata": {},
   "outputs": [
    {
     "data": {
      "text/html": [
       "<div>\n",
       "<style scoped>\n",
       "    .dataframe tbody tr th:only-of-type {\n",
       "        vertical-align: middle;\n",
       "    }\n",
       "\n",
       "    .dataframe tbody tr th {\n",
       "        vertical-align: top;\n",
       "    }\n",
       "\n",
       "    .dataframe thead th {\n",
       "        text-align: right;\n",
       "    }\n",
       "</style>\n",
       "<table border=\"1\" class=\"dataframe\">\n",
       "  <thead>\n",
       "    <tr style=\"text-align: right;\">\n",
       "      <th></th>\n",
       "      <th>mean_fit_time</th>\n",
       "      <th>params</th>\n",
       "      <th>mean_test_score</th>\n",
       "      <th>std_test_score</th>\n",
       "      <th>rank_test_score</th>\n",
       "    </tr>\n",
       "  </thead>\n",
       "  <tbody>\n",
       "    <tr>\n",
       "      <th>0</th>\n",
       "      <td>57.983940</td>\n",
       "      <td>{'model': AdaBoostClassifier(base_estimator=De...</td>\n",
       "      <td>0.725009</td>\n",
       "      <td>0.006111</td>\n",
       "      <td>1</td>\n",
       "    </tr>\n",
       "    <tr>\n",
       "      <th>3</th>\n",
       "      <td>46.578767</td>\n",
       "      <td>{'model': GradientBoostingClassifier(max_depth...</td>\n",
       "      <td>0.715187</td>\n",
       "      <td>0.008489</td>\n",
       "      <td>2</td>\n",
       "    </tr>\n",
       "    <tr>\n",
       "      <th>8</th>\n",
       "      <td>145.215378</td>\n",
       "      <td>{'model': GradientBoostingClassifier(max_depth...</td>\n",
       "      <td>0.704177</td>\n",
       "      <td>0.011065</td>\n",
       "      <td>3</td>\n",
       "    </tr>\n",
       "    <tr>\n",
       "      <th>1</th>\n",
       "      <td>128.586891</td>\n",
       "      <td>{'model': AdaBoostClassifier(base_estimator=De...</td>\n",
       "      <td>0.696132</td>\n",
       "      <td>0.011089</td>\n",
       "      <td>4</td>\n",
       "    </tr>\n",
       "    <tr>\n",
       "      <th>7</th>\n",
       "      <td>121.989879</td>\n",
       "      <td>{'model': GradientBoostingClassifier(max_depth...</td>\n",
       "      <td>0.690092</td>\n",
       "      <td>0.007423</td>\n",
       "      <td>5</td>\n",
       "    </tr>\n",
       "    <tr>\n",
       "      <th>6</th>\n",
       "      <td>98.551350</td>\n",
       "      <td>{'model': GradientBoostingClassifier(max_depth...</td>\n",
       "      <td>0.660969</td>\n",
       "      <td>0.008835</td>\n",
       "      <td>6</td>\n",
       "    </tr>\n",
       "    <tr>\n",
       "      <th>2</th>\n",
       "      <td>264.291470</td>\n",
       "      <td>{'model': AdaBoostClassifier(base_estimator=De...</td>\n",
       "      <td>0.658158</td>\n",
       "      <td>0.060416</td>\n",
       "      <td>7</td>\n",
       "    </tr>\n",
       "    <tr>\n",
       "      <th>5</th>\n",
       "      <td>65.971302</td>\n",
       "      <td>{'model': GradientBoostingClassifier(max_depth...</td>\n",
       "      <td>0.595792</td>\n",
       "      <td>0.010695</td>\n",
       "      <td>8</td>\n",
       "    </tr>\n",
       "    <tr>\n",
       "      <th>13</th>\n",
       "      <td>200.603351</td>\n",
       "      <td>{'model': GradientBoostingClassifier(max_depth...</td>\n",
       "      <td>0.545281</td>\n",
       "      <td>0.005808</td>\n",
       "      <td>9</td>\n",
       "    </tr>\n",
       "    <tr>\n",
       "      <th>12</th>\n",
       "      <td>238.756283</td>\n",
       "      <td>{'model': GradientBoostingClassifier(max_depth...</td>\n",
       "      <td>0.541191</td>\n",
       "      <td>0.006105</td>\n",
       "      <td>10</td>\n",
       "    </tr>\n",
       "    <tr>\n",
       "      <th>11</th>\n",
       "      <td>212.052606</td>\n",
       "      <td>{'model': GradientBoostingClassifier(max_depth...</td>\n",
       "      <td>0.540578</td>\n",
       "      <td>0.005817</td>\n",
       "      <td>11</td>\n",
       "    </tr>\n",
       "    <tr>\n",
       "      <th>4</th>\n",
       "      <td>35.974594</td>\n",
       "      <td>{'model': GradientBoostingClassifier(max_depth...</td>\n",
       "      <td>0.533572</td>\n",
       "      <td>0.005885</td>\n",
       "      <td>12</td>\n",
       "    </tr>\n",
       "    <tr>\n",
       "      <th>10</th>\n",
       "      <td>152.025245</td>\n",
       "      <td>{'model': GradientBoostingClassifier(max_depth...</td>\n",
       "      <td>0.514975</td>\n",
       "      <td>0.012023</td>\n",
       "      <td>13</td>\n",
       "    </tr>\n",
       "    <tr>\n",
       "      <th>9</th>\n",
       "      <td>79.671602</td>\n",
       "      <td>{'model': GradientBoostingClassifier(max_depth...</td>\n",
       "      <td>0.489360</td>\n",
       "      <td>0.004477</td>\n",
       "      <td>14</td>\n",
       "    </tr>\n",
       "  </tbody>\n",
       "</table>\n",
       "</div>"
      ],
      "text/plain": [
       "    mean_fit_time                                             params  \\\n",
       "0       57.983940  {'model': AdaBoostClassifier(base_estimator=De...   \n",
       "3       46.578767  {'model': GradientBoostingClassifier(max_depth...   \n",
       "8      145.215378  {'model': GradientBoostingClassifier(max_depth...   \n",
       "1      128.586891  {'model': AdaBoostClassifier(base_estimator=De...   \n",
       "7      121.989879  {'model': GradientBoostingClassifier(max_depth...   \n",
       "6       98.551350  {'model': GradientBoostingClassifier(max_depth...   \n",
       "2      264.291470  {'model': AdaBoostClassifier(base_estimator=De...   \n",
       "5       65.971302  {'model': GradientBoostingClassifier(max_depth...   \n",
       "13     200.603351  {'model': GradientBoostingClassifier(max_depth...   \n",
       "12     238.756283  {'model': GradientBoostingClassifier(max_depth...   \n",
       "11     212.052606  {'model': GradientBoostingClassifier(max_depth...   \n",
       "4       35.974594  {'model': GradientBoostingClassifier(max_depth...   \n",
       "10     152.025245  {'model': GradientBoostingClassifier(max_depth...   \n",
       "9       79.671602  {'model': GradientBoostingClassifier(max_depth...   \n",
       "\n",
       "    mean_test_score  std_test_score  rank_test_score  \n",
       "0          0.725009        0.006111                1  \n",
       "3          0.715187        0.008489                2  \n",
       "8          0.704177        0.011065                3  \n",
       "1          0.696132        0.011089                4  \n",
       "7          0.690092        0.007423                5  \n",
       "6          0.660969        0.008835                6  \n",
       "2          0.658158        0.060416                7  \n",
       "5          0.595792        0.010695                8  \n",
       "13         0.545281        0.005808                9  \n",
       "12         0.541191        0.006105               10  \n",
       "11         0.540578        0.005817               11  \n",
       "4          0.533572        0.005885               12  \n",
       "10         0.514975        0.012023               13  \n",
       "9          0.489360        0.004477               14  "
      ]
     },
     "execution_count": 44,
     "metadata": {},
     "output_type": "execute_result"
    }
   ],
   "source": [
    "pd.set_option ('display.max_rows', None)\n",
    "pd.DataFrame(grid.cv_results_).sort_values('rank_test_score')[['mean_fit_time', 'params','mean_test_score','std_test_score','rank_test_score']]"
   ]
  },
  {
   "cell_type": "markdown",
   "metadata": {},
   "source": [
    "## Before vs After Tuning"
   ]
  },
  {
   "cell_type": "code",
   "execution_count": 173,
   "metadata": {},
   "outputs": [],
   "source": [
    "# Before tuning\n",
    "ada=AdaBoostClassifier(learning_rate=0.1, n_estimators=200, random_state=2020)\n",
    "estimator=Pipeline([\n",
    "    ('processing',transformer),\n",
    "    ('model',ada)\n",
    "])\n",
    "estimator.fit(x_train,y_train)\n",
    "y_pred_before=estimator.predict(x_test)\n",
    "\n",
    "# After tuning\n",
    "best_model=grid.best_estimator_\n",
    "best_model.fit(x_train,y_train)\n",
    "y_pred_after=best_model.predict(x_test)"
   ]
  },
  {
   "cell_type": "code",
   "execution_count": 176,
   "metadata": {},
   "outputs": [],
   "source": [
    "before_tuning=classification_report(y_test,y_pred_before)\n",
    "after_tuning=classification_report(y_test,y_pred_after)"
   ]
  },
  {
   "cell_type": "code",
   "execution_count": 178,
   "metadata": {},
   "outputs": [
    {
     "name": "stdout",
     "output_type": "stream",
     "text": [
      "Before Tuning \n",
      "               precision    recall  f1-score   support\n",
      "\n",
      "           0       0.76      0.95      0.85     13123\n",
      "           1       0.85      0.50      0.63      7683\n",
      "\n",
      "    accuracy                           0.78     20806\n",
      "   macro avg       0.81      0.72      0.74     20806\n",
      "weighted avg       0.80      0.78      0.76     20806\n",
      "\n",
      "After Tuning \n",
      "               precision    recall  f1-score   support\n",
      "\n",
      "           0       0.83      0.88      0.85     13123\n",
      "           1       0.77      0.69      0.73      7683\n",
      "\n",
      "    accuracy                           0.81     20806\n",
      "   macro avg       0.80      0.79      0.79     20806\n",
      "weighted avg       0.81      0.81      0.81     20806\n",
      "\n"
     ]
    }
   ],
   "source": [
    "print(f'Before Tuning \\n',before_tuning)\n",
    "print(f'After Tuning \\n',after_tuning)"
   ]
  },
  {
   "cell_type": "markdown",
   "metadata": {},
   "source": [
    "## Feature Importances\n"
   ]
  },
  {
   "cell_type": "code",
   "execution_count": 58,
   "metadata": {},
   "outputs": [
    {
     "data": {
      "text/html": [
       "<style>#sk-container-id-7 {color: black;background-color: white;}#sk-container-id-7 pre{padding: 0;}#sk-container-id-7 div.sk-toggleable {background-color: white;}#sk-container-id-7 label.sk-toggleable__label {cursor: pointer;display: block;width: 100%;margin-bottom: 0;padding: 0.3em;box-sizing: border-box;text-align: center;}#sk-container-id-7 label.sk-toggleable__label-arrow:before {content: \"▸\";float: left;margin-right: 0.25em;color: #696969;}#sk-container-id-7 label.sk-toggleable__label-arrow:hover:before {color: black;}#sk-container-id-7 div.sk-estimator:hover label.sk-toggleable__label-arrow:before {color: black;}#sk-container-id-7 div.sk-toggleable__content {max-height: 0;max-width: 0;overflow: hidden;text-align: left;background-color: #f0f8ff;}#sk-container-id-7 div.sk-toggleable__content pre {margin: 0.2em;color: black;border-radius: 0.25em;background-color: #f0f8ff;}#sk-container-id-7 input.sk-toggleable__control:checked~div.sk-toggleable__content {max-height: 200px;max-width: 100%;overflow: auto;}#sk-container-id-7 input.sk-toggleable__control:checked~label.sk-toggleable__label-arrow:before {content: \"▾\";}#sk-container-id-7 div.sk-estimator input.sk-toggleable__control:checked~label.sk-toggleable__label {background-color: #d4ebff;}#sk-container-id-7 div.sk-label input.sk-toggleable__control:checked~label.sk-toggleable__label {background-color: #d4ebff;}#sk-container-id-7 input.sk-hidden--visually {border: 0;clip: rect(1px 1px 1px 1px);clip: rect(1px, 1px, 1px, 1px);height: 1px;margin: -1px;overflow: hidden;padding: 0;position: absolute;width: 1px;}#sk-container-id-7 div.sk-estimator {font-family: monospace;background-color: #f0f8ff;border: 1px dotted black;border-radius: 0.25em;box-sizing: border-box;margin-bottom: 0.5em;}#sk-container-id-7 div.sk-estimator:hover {background-color: #d4ebff;}#sk-container-id-7 div.sk-parallel-item::after {content: \"\";width: 100%;border-bottom: 1px solid gray;flex-grow: 1;}#sk-container-id-7 div.sk-label:hover label.sk-toggleable__label {background-color: #d4ebff;}#sk-container-id-7 div.sk-serial::before {content: \"\";position: absolute;border-left: 1px solid gray;box-sizing: border-box;top: 0;bottom: 0;left: 50%;z-index: 0;}#sk-container-id-7 div.sk-serial {display: flex;flex-direction: column;align-items: center;background-color: white;padding-right: 0.2em;padding-left: 0.2em;position: relative;}#sk-container-id-7 div.sk-item {position: relative;z-index: 1;}#sk-container-id-7 div.sk-parallel {display: flex;align-items: stretch;justify-content: center;background-color: white;position: relative;}#sk-container-id-7 div.sk-item::before, #sk-container-id-7 div.sk-parallel-item::before {content: \"\";position: absolute;border-left: 1px solid gray;box-sizing: border-box;top: 0;bottom: 0;left: 50%;z-index: -1;}#sk-container-id-7 div.sk-parallel-item {display: flex;flex-direction: column;z-index: 1;position: relative;background-color: white;}#sk-container-id-7 div.sk-parallel-item:first-child::after {align-self: flex-end;width: 50%;}#sk-container-id-7 div.sk-parallel-item:last-child::after {align-self: flex-start;width: 50%;}#sk-container-id-7 div.sk-parallel-item:only-child::after {width: 0;}#sk-container-id-7 div.sk-dashed-wrapped {border: 1px dashed gray;margin: 0 0.4em 0.5em 0.4em;box-sizing: border-box;padding-bottom: 0.4em;background-color: white;}#sk-container-id-7 div.sk-label label {font-family: monospace;font-weight: bold;display: inline-block;line-height: 1.2em;}#sk-container-id-7 div.sk-label-container {text-align: center;}#sk-container-id-7 div.sk-container {/* jupyter's `normalize.less` sets `[hidden] { display: none; }` but bootstrap.min.css set `[hidden] { display: none !important; }` so we also need the `!important` here to be able to override the default hidden behavior on the sphinx rendered scikit-learn.org. See: https://github.com/scikit-learn/scikit-learn/issues/21755 */display: inline-block !important;position: relative;}#sk-container-id-7 div.sk-text-repr-fallback {display: none;}</style><div id=\"sk-container-id-7\" class=\"sk-top-container\"><div class=\"sk-text-repr-fallback\"><pre>Pipeline(steps=[(&#x27;processing&#x27;,\n",
       "                 ColumnTransformer(remainder=&#x27;passthrough&#x27;,\n",
       "                                   transformers=[(&#x27;onehot&#x27;,\n",
       "                                                  OneHotEncoder(drop=&#x27;first&#x27;),\n",
       "                                                  [&#x27;customer type&#x27;]),\n",
       "                                                 (&#x27;binary&#x27;, BinaryEncoder(),\n",
       "                                                  [&#x27;country&#x27;,\n",
       "                                                   &#x27;reserved room type&#x27;,\n",
       "                                                   &#x27;market segment&#x27;])])),\n",
       "                (&#x27;model&#x27;,\n",
       "                 AdaBoostClassifier(base_estimator=DecisionTreeClassifier(max_depth=4,\n",
       "                                                                          random_state=2020),\n",
       "                                    learning_rate=0.1, n_estimators=200,\n",
       "                                    random_state=2020))])</pre><b>In a Jupyter environment, please rerun this cell to show the HTML representation or trust the notebook. <br />On GitHub, the HTML representation is unable to render, please try loading this page with nbviewer.org.</b></div><div class=\"sk-container\" hidden><div class=\"sk-item sk-dashed-wrapped\"><div class=\"sk-label-container\"><div class=\"sk-label sk-toggleable\"><input class=\"sk-toggleable__control sk-hidden--visually\" id=\"sk-estimator-id-32\" type=\"checkbox\" ><label for=\"sk-estimator-id-32\" class=\"sk-toggleable__label sk-toggleable__label-arrow\">Pipeline</label><div class=\"sk-toggleable__content\"><pre>Pipeline(steps=[(&#x27;processing&#x27;,\n",
       "                 ColumnTransformer(remainder=&#x27;passthrough&#x27;,\n",
       "                                   transformers=[(&#x27;onehot&#x27;,\n",
       "                                                  OneHotEncoder(drop=&#x27;first&#x27;),\n",
       "                                                  [&#x27;customer type&#x27;]),\n",
       "                                                 (&#x27;binary&#x27;, BinaryEncoder(),\n",
       "                                                  [&#x27;country&#x27;,\n",
       "                                                   &#x27;reserved room type&#x27;,\n",
       "                                                   &#x27;market segment&#x27;])])),\n",
       "                (&#x27;model&#x27;,\n",
       "                 AdaBoostClassifier(base_estimator=DecisionTreeClassifier(max_depth=4,\n",
       "                                                                          random_state=2020),\n",
       "                                    learning_rate=0.1, n_estimators=200,\n",
       "                                    random_state=2020))])</pre></div></div></div><div class=\"sk-serial\"><div class=\"sk-item sk-dashed-wrapped\"><div class=\"sk-label-container\"><div class=\"sk-label sk-toggleable\"><input class=\"sk-toggleable__control sk-hidden--visually\" id=\"sk-estimator-id-33\" type=\"checkbox\" ><label for=\"sk-estimator-id-33\" class=\"sk-toggleable__label sk-toggleable__label-arrow\">processing: ColumnTransformer</label><div class=\"sk-toggleable__content\"><pre>ColumnTransformer(remainder=&#x27;passthrough&#x27;,\n",
       "                  transformers=[(&#x27;onehot&#x27;, OneHotEncoder(drop=&#x27;first&#x27;),\n",
       "                                 [&#x27;customer type&#x27;]),\n",
       "                                (&#x27;binary&#x27;, BinaryEncoder(),\n",
       "                                 [&#x27;country&#x27;, &#x27;reserved room type&#x27;,\n",
       "                                  &#x27;market segment&#x27;])])</pre></div></div></div><div class=\"sk-parallel\"><div class=\"sk-parallel-item\"><div class=\"sk-item\"><div class=\"sk-label-container\"><div class=\"sk-label sk-toggleable\"><input class=\"sk-toggleable__control sk-hidden--visually\" id=\"sk-estimator-id-34\" type=\"checkbox\" ><label for=\"sk-estimator-id-34\" class=\"sk-toggleable__label sk-toggleable__label-arrow\">onehot</label><div class=\"sk-toggleable__content\"><pre>[&#x27;customer type&#x27;]</pre></div></div></div><div class=\"sk-serial\"><div class=\"sk-item\"><div class=\"sk-estimator sk-toggleable\"><input class=\"sk-toggleable__control sk-hidden--visually\" id=\"sk-estimator-id-35\" type=\"checkbox\" ><label for=\"sk-estimator-id-35\" class=\"sk-toggleable__label sk-toggleable__label-arrow\">OneHotEncoder</label><div class=\"sk-toggleable__content\"><pre>OneHotEncoder(drop=&#x27;first&#x27;)</pre></div></div></div></div></div></div><div class=\"sk-parallel-item\"><div class=\"sk-item\"><div class=\"sk-label-container\"><div class=\"sk-label sk-toggleable\"><input class=\"sk-toggleable__control sk-hidden--visually\" id=\"sk-estimator-id-36\" type=\"checkbox\" ><label for=\"sk-estimator-id-36\" class=\"sk-toggleable__label sk-toggleable__label-arrow\">binary</label><div class=\"sk-toggleable__content\"><pre>[&#x27;country&#x27;, &#x27;reserved room type&#x27;, &#x27;market segment&#x27;]</pre></div></div></div><div class=\"sk-serial\"><div class=\"sk-item\"><div class=\"sk-estimator sk-toggleable\"><input class=\"sk-toggleable__control sk-hidden--visually\" id=\"sk-estimator-id-37\" type=\"checkbox\" ><label for=\"sk-estimator-id-37\" class=\"sk-toggleable__label sk-toggleable__label-arrow\">BinaryEncoder</label><div class=\"sk-toggleable__content\"><pre>BinaryEncoder()</pre></div></div></div></div></div></div><div class=\"sk-parallel-item\"><div class=\"sk-item\"><div class=\"sk-label-container\"><div class=\"sk-label sk-toggleable\"><input class=\"sk-toggleable__control sk-hidden--visually\" id=\"sk-estimator-id-38\" type=\"checkbox\" ><label for=\"sk-estimator-id-38\" class=\"sk-toggleable__label sk-toggleable__label-arrow\">remainder</label><div class=\"sk-toggleable__content\"><pre>[&#x27;ever cancel&#x27;, &#x27;book change&#x27;, &#x27;deposit&#x27;, &#x27;waiting list&#x27;, &#x27;required car parking spaces&#x27;, &#x27;total of special requests&#x27;]</pre></div></div></div><div class=\"sk-serial\"><div class=\"sk-item\"><div class=\"sk-estimator sk-toggleable\"><input class=\"sk-toggleable__control sk-hidden--visually\" id=\"sk-estimator-id-39\" type=\"checkbox\" ><label for=\"sk-estimator-id-39\" class=\"sk-toggleable__label sk-toggleable__label-arrow\">passthrough</label><div class=\"sk-toggleable__content\"><pre>passthrough</pre></div></div></div></div></div></div></div></div><div class=\"sk-item sk-dashed-wrapped\"><div class=\"sk-label-container\"><div class=\"sk-label sk-toggleable\"><input class=\"sk-toggleable__control sk-hidden--visually\" id=\"sk-estimator-id-40\" type=\"checkbox\" ><label for=\"sk-estimator-id-40\" class=\"sk-toggleable__label sk-toggleable__label-arrow\">model: AdaBoostClassifier</label><div class=\"sk-toggleable__content\"><pre>AdaBoostClassifier(base_estimator=DecisionTreeClassifier(max_depth=4,\n",
       "                                                         random_state=2020),\n",
       "                   learning_rate=0.1, n_estimators=200, random_state=2020)</pre></div></div></div><div class=\"sk-parallel\"><div class=\"sk-parallel-item\"><div class=\"sk-item\"><div class=\"sk-label-container\"><div class=\"sk-label sk-toggleable\"><input class=\"sk-toggleable__control sk-hidden--visually\" id=\"sk-estimator-id-41\" type=\"checkbox\" ><label for=\"sk-estimator-id-41\" class=\"sk-toggleable__label sk-toggleable__label-arrow\">base_estimator: DecisionTreeClassifier</label><div class=\"sk-toggleable__content\"><pre>DecisionTreeClassifier(max_depth=4, random_state=2020)</pre></div></div></div><div class=\"sk-serial\"><div class=\"sk-item\"><div class=\"sk-estimator sk-toggleable\"><input class=\"sk-toggleable__control sk-hidden--visually\" id=\"sk-estimator-id-42\" type=\"checkbox\" ><label for=\"sk-estimator-id-42\" class=\"sk-toggleable__label sk-toggleable__label-arrow\">DecisionTreeClassifier</label><div class=\"sk-toggleable__content\"><pre>DecisionTreeClassifier(max_depth=4, random_state=2020)</pre></div></div></div></div></div></div></div></div></div></div></div></div>"
      ],
      "text/plain": [
       "Pipeline(steps=[('processing',\n",
       "                 ColumnTransformer(remainder='passthrough',\n",
       "                                   transformers=[('onehot',\n",
       "                                                  OneHotEncoder(drop='first'),\n",
       "                                                  ['customer type']),\n",
       "                                                 ('binary', BinaryEncoder(),\n",
       "                                                  ['country',\n",
       "                                                   'reserved room type',\n",
       "                                                   'market segment'])])),\n",
       "                ('model',\n",
       "                 AdaBoostClassifier(base_estimator=DecisionTreeClassifier(max_depth=4,\n",
       "                                                                          random_state=2020),\n",
       "                                    learning_rate=0.1, n_estimators=200,\n",
       "                                    random_state=2020))])"
      ]
     },
     "execution_count": 58,
     "metadata": {},
     "output_type": "execute_result"
    }
   ],
   "source": [
    "best_model"
   ]
  },
  {
   "cell_type": "code",
   "execution_count": 117,
   "metadata": {},
   "outputs": [
    {
     "data": {
      "text/plain": [
       "array(['customer type_Group', 'customer type_Transient',\n",
       "       'customer type_Transient-Party'], dtype=object)"
      ]
     },
     "execution_count": 117,
     "metadata": {},
     "output_type": "execute_result"
    }
   ],
   "source": [
    "# feature\n",
    "best_model[0].transformers_[0][1].get_feature_names_out()"
   ]
  },
  {
   "cell_type": "code",
   "execution_count": 138,
   "metadata": {},
   "outputs": [
    {
     "data": {
      "text/plain": [
       "['country_0',\n",
       " 'country_1',\n",
       " 'country_2',\n",
       " 'country_3',\n",
       " 'country_4',\n",
       " 'country_5',\n",
       " 'country_6',\n",
       " 'country_7',\n",
       " 'reserved room type_0',\n",
       " 'reserved room type_1',\n",
       " 'reserved room type_2',\n",
       " 'reserved room type_3',\n",
       " 'market segment_0',\n",
       " 'market segment_1',\n",
       " 'market segment_2',\n",
       " 'market segment_3']"
      ]
     },
     "execution_count": 138,
     "metadata": {},
     "output_type": "execute_result"
    }
   ],
   "source": [
    "best_model[0].transformers_[1][1].get_feature_names()"
   ]
  },
  {
   "cell_type": "code",
   "execution_count": 155,
   "metadata": {},
   "outputs": [
    {
     "data": {
      "text/plain": [
       "Index(['ever cancel', 'book change', 'deposit', 'waiting list',\n",
       "       'required car parking spaces', 'total of special requests'],\n",
       "      dtype='object')"
      ]
     },
     "execution_count": 155,
     "metadata": {},
     "output_type": "execute_result"
    }
   ],
   "source": [
    "x.columns[best_model[0].transformers_[2][2]]"
   ]
  },
  {
   "cell_type": "code",
   "execution_count": 156,
   "metadata": {},
   "outputs": [],
   "source": [
    "feature=list(best_model[0].transformers_[0][1].get_feature_names_out())+list(best_model[0].transformers_[1][1].get_feature_names())+list(x.columns[best_model[0].transformers_[2][2]])"
   ]
  },
  {
   "cell_type": "code",
   "execution_count": 159,
   "metadata": {},
   "outputs": [
    {
     "data": {
      "text/html": [
       "<div>\n",
       "<style scoped>\n",
       "    .dataframe tbody tr th:only-of-type {\n",
       "        vertical-align: middle;\n",
       "    }\n",
       "\n",
       "    .dataframe tbody tr th {\n",
       "        vertical-align: top;\n",
       "    }\n",
       "\n",
       "    .dataframe thead th {\n",
       "        text-align: right;\n",
       "    }\n",
       "</style>\n",
       "<table border=\"1\" class=\"dataframe\">\n",
       "  <thead>\n",
       "    <tr style=\"text-align: right;\">\n",
       "      <th></th>\n",
       "      <th>imp</th>\n",
       "    </tr>\n",
       "  </thead>\n",
       "  <tbody>\n",
       "    <tr>\n",
       "      <th>total of special requests</th>\n",
       "      <td>0.098231</td>\n",
       "    </tr>\n",
       "    <tr>\n",
       "      <th>market segment_2</th>\n",
       "      <td>0.092373</td>\n",
       "    </tr>\n",
       "    <tr>\n",
       "      <th>country_5</th>\n",
       "      <td>0.081195</td>\n",
       "    </tr>\n",
       "    <tr>\n",
       "      <th>country_6</th>\n",
       "      <td>0.073401</td>\n",
       "    </tr>\n",
       "    <tr>\n",
       "      <th>country_4</th>\n",
       "      <td>0.066104</td>\n",
       "    </tr>\n",
       "  </tbody>\n",
       "</table>\n",
       "</div>"
      ],
      "text/plain": [
       "                                imp\n",
       "total of special requests  0.098231\n",
       "market segment_2           0.092373\n",
       "country_5                  0.081195\n",
       "country_6                  0.073401\n",
       "country_4                  0.066104"
      ]
     },
     "execution_count": 159,
     "metadata": {},
     "output_type": "execute_result"
    }
   ],
   "source": [
    "#feature importance\n",
    "pd.DataFrame({'imp':best_model[1].feature_importances_},index=feature).sort_values('imp',ascending=False).head()"
   ]
  },
  {
   "cell_type": "code",
   "execution_count": 160,
   "metadata": {},
   "outputs": [
    {
     "data": {
      "image/png": "[encoded data removed]",
      "text/plain": [
       "<Figure size 1000x1500 with 1 Axes>"
      ]
     },
     "metadata": {},
     "output_type": "display_data"
    }
   ],
   "source": [
    "#visualisasi\n",
    "pd.DataFrame({'imp':best_model[1].feature_importances_},index=feature).sort_values('imp',ascending=True).plot(kind='barh',figsize=(10,15))\n",
    "mpl.show()"
   ]
  },
  {
   "cell_type": "code",
   "execution_count": null,
   "metadata": {},
   "outputs": [],
   "source": []
  }
 ],
 "metadata": {
  "kernelspec": {
   "display_name": "Python 3.10.6 64-bit",
   "language": "python",
   "name": "python3"
  },
  "language_info": {
   "codemirror_mode": {
    "name": "ipython",
    "version": 3
   },
   "file_extension": ".py",
   "mimetype": "text/x-python",
   "name": "python",
   "nbconvert_exporter": "python",
   "pygments_lexer": "ipython3",
   "version": "3.10.6"
  },
  "orig_nbformat": 4,
  "vscode": {
   "interpreter": {
    "hash": "945ba00099661281427cc644a7000ee9eeea5ce6ad3bf937939d3d384b8f3881"
   }
  }
 },
 "nbformat": 4,
 "nbformat_minor": 2
}
