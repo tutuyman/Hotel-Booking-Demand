{
 "cells": [
  {
   "cell_type": "markdown",
   "metadata": {},
   "source": [
    "# Hotel Booking Demand\n",
    "\n",
    "### Andri Rifky,JCDS 1804 Jakarta\n",
    "\n"
   ]
  },
  {
   "cell_type": "markdown",
   "metadata": {},
   "source": [
    "## Business Problem Understanding"
   ]
  },
  {
   "cell_type": "markdown",
   "metadata": {},
   "source": [
    "**Context**  \n",
    "Sebuah hotel ingin menyiapkan kamar untuk calon pelanggannya. dari catatan yang ada, hotel ingin mengetahui pelanggan mana yang akan benar - benar menginap dan mana yang tidak.\n",
    "\n",
    "\n",
    "Target :\n",
    "\n",
    "0 : Tidak membatalkan booking\n",
    "\n",
    "1 : Membatalkan Booking"
   ]
  },
  {
   "cell_type": "markdown",
   "metadata": {},
   "source": [
    "**Problem Statement :**\n",
    "\n",
    "Proses penyiapan fasilitas seperti kamar pada hotel memakan waktu dan sumber daya. Jika hotel menyiapkan semua fasilitas tetapi tidak digunakan maka akan sia - sia dan hotel dapat merugi.Sedangkan beberapa fasilitas hotel kualitasnya akan menurun tiap waktu (contoh: makanan pada restaurant), sehingga fasilitas harus disiapkan disaat diminta.\n",
    "\n",
    "**Goals :**\n",
    "\n",
    "Maka berdasarkan permasalahan tersebut, hotel ingin memiliki kemampuan untuk memprediksi faktor - faktor apa saja yang membuat pelanggan membatalkan booking, sehingga dapat memfokuskan penyiapan fasilitas pada pelanggan yang akan menginap dihotel tersebut. \n",
    "\n",
    "Dan juga, jika hotel memiliki pelanngan dalam waiting list , mereka dapat memprioritaskan pelanggan yang tidak dalam kriteria pelanggan yang mebatalkan booking.\n",
    "\n",
    "\n",
    "**Analytic Approach :**\n",
    "\n",
    "Jadi yang akan kita lakukan adalah menganalisis data untuk menemukan pola yang membedakan pengunjung yang jadi menginap di hotel dan yang tidak jadi(batal).\n",
    "\n",
    "Kemudian kita akan membangun model klasifikasi yang akan membantu hotel untuk dapat memprediksi karakteristik engunjung yang akan menginap atau tidak."
   ]
  },
  {
   "cell_type": "markdown",
   "metadata": {},
   "source": [
    "![title](picture.jpg)"
   ]
  },
  {
   "cell_type": "markdown",
   "metadata": {},
   "source": [
    "Type 1 error : False Positive  \n",
    "Konsekuensi: Kehilangan pengunjung, menurunkan reputasi hotel\n",
    "\n",
    "Type 2 error : False Negative  \n",
    "Konsekuensi: Sia-sia sumber daya untuk persiapan fasilitas"
   ]
  },
  {
   "cell_type": "markdown",
   "metadata": {},
   "source": [
    "## Data Understanding"
   ]
  },
  {
   "cell_type": "markdown",
   "metadata": {},
   "source": [
    "Note : \n",
    "- Dataset tidak seimbang\n",
    "- Sebagian besar fitur bersifat kategori (Nominal, Binary)\n",
    "- Setiap baris data merepresentasikan informasi pelanggan yang memesan(booking) dimasa lalu"
   ]
  },
  {
   "cell_type": "markdown",
   "metadata": {},
   "source": [
    "### Attribute Information\n",
    "\n",
    "| Attribute | Data Type, Length | Description |\n",
    "| --- | --- | --- |\n",
    "| country | str | Negara Asal Pelanggan |\n",
    "| market_segment | str | Segmen Pasar |\n",
    "| previous_cancellations | int64 | Berapa kali melakukan pembatalan pemesanan |\n",
    "| booking_changes | int64 | Berapa kali melakukan prubahan pemesanan |\n",
    "| daposit_type | str | Tipe deposit |\n",
    "| days_in_waiting_list | int64 | hari menunggu dalam waiting list |\n",
    "| customer_type | str | Tipe pemesanan |\n",
    "| reserved_room_type | str | Tipe kamar yang disewa |\n",
    "| required_car_parking_space | int64 | Jumlah perminataan lahan parkir |\n",
    "| total_of_special_request | int64 | Permintaan Tambahan |\n",
    "| is_canceled(target) | int64 | Pembatalan pemesanan,0 – Tidak batal, 1 – Batal |"
   ]
  },
  {
   "cell_type": "code",
   "execution_count": 1,
   "metadata": {},
   "outputs": [],
   "source": [
    "# Libary\n",
    "import pandas as pd\n",
    "import numpy as np\n",
    "\n",
    "import seaborn as snis\n",
    "import matplotlib.pyplot as mpl"
   ]
  },
  {
   "cell_type": "code",
   "execution_count": 2,
   "metadata": {},
   "outputs": [
    {
     "data": {
      "text/html": [
       "<div>\n",
       "<style scoped>\n",
       "    .dataframe tbody tr th:only-of-type {\n",
       "        vertical-align: middle;\n",
       "    }\n",
       "\n",
       "    .dataframe tbody tr th {\n",
       "        vertical-align: top;\n",
       "    }\n",
       "\n",
       "    .dataframe thead th {\n",
       "        text-align: right;\n",
       "    }\n",
       "</style>\n",
       "<table border=\"1\" class=\"dataframe\">\n",
       "  <thead>\n",
       "    <tr style=\"text-align: right;\">\n",
       "      <th></th>\n",
       "      <th>country</th>\n",
       "      <th>market_segment</th>\n",
       "      <th>previous_cancellations</th>\n",
       "      <th>booking_changes</th>\n",
       "      <th>deposit_type</th>\n",
       "      <th>days_in_waiting_list</th>\n",
       "      <th>customer_type</th>\n",
       "      <th>reserved_room_type</th>\n",
       "      <th>required_car_parking_spaces</th>\n",
       "      <th>total_of_special_requests</th>\n",
       "      <th>is_canceled</th>\n",
       "    </tr>\n",
       "  </thead>\n",
       "  <tbody>\n",
       "    <tr>\n",
       "      <th>0</th>\n",
       "      <td>IRL</td>\n",
       "      <td>Offline TA/TO</td>\n",
       "      <td>0</td>\n",
       "      <td>0</td>\n",
       "      <td>No Deposit</td>\n",
       "      <td>0</td>\n",
       "      <td>Transient-Party</td>\n",
       "      <td>A</td>\n",
       "      <td>0</td>\n",
       "      <td>0</td>\n",
       "      <td>0</td>\n",
       "    </tr>\n",
       "    <tr>\n",
       "      <th>1</th>\n",
       "      <td>FRA</td>\n",
       "      <td>Online TA</td>\n",
       "      <td>0</td>\n",
       "      <td>0</td>\n",
       "      <td>No Deposit</td>\n",
       "      <td>0</td>\n",
       "      <td>Transient</td>\n",
       "      <td>A</td>\n",
       "      <td>0</td>\n",
       "      <td>2</td>\n",
       "      <td>0</td>\n",
       "    </tr>\n",
       "    <tr>\n",
       "      <th>2</th>\n",
       "      <td>PRT</td>\n",
       "      <td>Online TA</td>\n",
       "      <td>0</td>\n",
       "      <td>1</td>\n",
       "      <td>No Deposit</td>\n",
       "      <td>0</td>\n",
       "      <td>Transient</td>\n",
       "      <td>A</td>\n",
       "      <td>0</td>\n",
       "      <td>2</td>\n",
       "      <td>0</td>\n",
       "    </tr>\n",
       "    <tr>\n",
       "      <th>3</th>\n",
       "      <td>NLD</td>\n",
       "      <td>Online TA</td>\n",
       "      <td>0</td>\n",
       "      <td>0</td>\n",
       "      <td>No Deposit</td>\n",
       "      <td>0</td>\n",
       "      <td>Transient</td>\n",
       "      <td>A</td>\n",
       "      <td>0</td>\n",
       "      <td>1</td>\n",
       "      <td>1</td>\n",
       "    </tr>\n",
       "    <tr>\n",
       "      <th>4</th>\n",
       "      <td>PRT</td>\n",
       "      <td>Online TA</td>\n",
       "      <td>0</td>\n",
       "      <td>2</td>\n",
       "      <td>No Deposit</td>\n",
       "      <td>0</td>\n",
       "      <td>Transient</td>\n",
       "      <td>A</td>\n",
       "      <td>0</td>\n",
       "      <td>2</td>\n",
       "      <td>0</td>\n",
       "    </tr>\n",
       "    <tr>\n",
       "      <th>...</th>\n",
       "      <td>...</td>\n",
       "      <td>...</td>\n",
       "      <td>...</td>\n",
       "      <td>...</td>\n",
       "      <td>...</td>\n",
       "      <td>...</td>\n",
       "      <td>...</td>\n",
       "      <td>...</td>\n",
       "      <td>...</td>\n",
       "      <td>...</td>\n",
       "      <td>...</td>\n",
       "    </tr>\n",
       "    <tr>\n",
       "      <th>83568</th>\n",
       "      <td>PRT</td>\n",
       "      <td>Online TA</td>\n",
       "      <td>0</td>\n",
       "      <td>0</td>\n",
       "      <td>No Deposit</td>\n",
       "      <td>0</td>\n",
       "      <td>Contract</td>\n",
       "      <td>A</td>\n",
       "      <td>0</td>\n",
       "      <td>3</td>\n",
       "      <td>1</td>\n",
       "    </tr>\n",
       "    <tr>\n",
       "      <th>83569</th>\n",
       "      <td>FRA</td>\n",
       "      <td>Online TA</td>\n",
       "      <td>0</td>\n",
       "      <td>0</td>\n",
       "      <td>No Deposit</td>\n",
       "      <td>0</td>\n",
       "      <td>Transient</td>\n",
       "      <td>D</td>\n",
       "      <td>0</td>\n",
       "      <td>2</td>\n",
       "      <td>0</td>\n",
       "    </tr>\n",
       "    <tr>\n",
       "      <th>83570</th>\n",
       "      <td>PRT</td>\n",
       "      <td>Online TA</td>\n",
       "      <td>0</td>\n",
       "      <td>1</td>\n",
       "      <td>No Deposit</td>\n",
       "      <td>0</td>\n",
       "      <td>Transient</td>\n",
       "      <td>D</td>\n",
       "      <td>0</td>\n",
       "      <td>3</td>\n",
       "      <td>0</td>\n",
       "    </tr>\n",
       "    <tr>\n",
       "      <th>83571</th>\n",
       "      <td>CN</td>\n",
       "      <td>Offline TA/TO</td>\n",
       "      <td>0</td>\n",
       "      <td>0</td>\n",
       "      <td>No Deposit</td>\n",
       "      <td>0</td>\n",
       "      <td>Transient-Party</td>\n",
       "      <td>A</td>\n",
       "      <td>0</td>\n",
       "      <td>0</td>\n",
       "      <td>0</td>\n",
       "    </tr>\n",
       "    <tr>\n",
       "      <th>83572</th>\n",
       "      <td>PRT</td>\n",
       "      <td>Groups</td>\n",
       "      <td>0</td>\n",
       "      <td>0</td>\n",
       "      <td>Non Refund</td>\n",
       "      <td>0</td>\n",
       "      <td>Transient</td>\n",
       "      <td>A</td>\n",
       "      <td>0</td>\n",
       "      <td>0</td>\n",
       "      <td>1</td>\n",
       "    </tr>\n",
       "  </tbody>\n",
       "</table>\n",
       "<p>83573 rows × 11 columns</p>\n",
       "</div>"
      ],
      "text/plain": [
       "      country market_segment  previous_cancellations  booking_changes  \\\n",
       "0         IRL  Offline TA/TO                       0                0   \n",
       "1         FRA      Online TA                       0                0   \n",
       "2         PRT      Online TA                       0                1   \n",
       "3         NLD      Online TA                       0                0   \n",
       "4         PRT      Online TA                       0                2   \n",
       "...       ...            ...                     ...              ...   \n",
       "83568     PRT      Online TA                       0                0   \n",
       "83569     FRA      Online TA                       0                0   \n",
       "83570     PRT      Online TA                       0                1   \n",
       "83571      CN  Offline TA/TO                       0                0   \n",
       "83572     PRT         Groups                       0                0   \n",
       "\n",
       "      deposit_type  days_in_waiting_list    customer_type reserved_room_type  \\\n",
       "0       No Deposit                     0  Transient-Party                  A   \n",
       "1       No Deposit                     0        Transient                  A   \n",
       "2       No Deposit                     0        Transient                  A   \n",
       "3       No Deposit                     0        Transient                  A   \n",
       "4       No Deposit                     0        Transient                  A   \n",
       "...            ...                   ...              ...                ...   \n",
       "83568   No Deposit                     0         Contract                  A   \n",
       "83569   No Deposit                     0        Transient                  D   \n",
       "83570   No Deposit                     0        Transient                  D   \n",
       "83571   No Deposit                     0  Transient-Party                  A   \n",
       "83572   Non Refund                     0        Transient                  A   \n",
       "\n",
       "       required_car_parking_spaces  total_of_special_requests  is_canceled  \n",
       "0                                0                          0            0  \n",
       "1                                0                          2            0  \n",
       "2                                0                          2            0  \n",
       "3                                0                          1            1  \n",
       "4                                0                          2            0  \n",
       "...                            ...                        ...          ...  \n",
       "83568                            0                          3            1  \n",
       "83569                            0                          2            0  \n",
       "83570                            0                          3            0  \n",
       "83571                            0                          0            0  \n",
       "83572                            0                          0            1  \n",
       "\n",
       "[83573 rows x 11 columns]"
      ]
     },
     "execution_count": 2,
     "metadata": {},
     "output_type": "execute_result"
    }
   ],
   "source": [
    "df=pd.read_csv('data_hotel_booking_demand.csv')\n",
    "df"
   ]
  },
  {
   "cell_type": "code",
   "execution_count": 5,
   "metadata": {},
   "outputs": [
    {
     "data": {
      "text/plain": [
       "country                        object\n",
       "market_segment                 object\n",
       "previous_cancellations          int64\n",
       "booking_changes                 int64\n",
       "deposit_type                   object\n",
       "days_in_waiting_list            int64\n",
       "customer_type                  object\n",
       "reserved_room_type             object\n",
       "required_car_parking_spaces     int64\n",
       "total_of_special_requests       int64\n",
       "is_canceled                     int64\n",
       "dtype: object"
      ]
     },
     "execution_count": 5,
     "metadata": {},
     "output_type": "execute_result"
    }
   ],
   "source": [
    "df.dtypes"
   ]
  },
  {
   "cell_type": "markdown",
   "metadata": {},
   "source": [
    "cek unique"
   ]
  },
  {
   "cell_type": "code",
   "execution_count": 3,
   "metadata": {},
   "outputs": [
    {
     "data": {
      "text/plain": [
       "array(['IRL', 'FRA', 'PRT', 'NLD', 'ESP', 'UMI', 'CN', 'LUX', 'BRA',\n",
       "       'BEL', 'JPN', 'DEU', 'ITA', 'CHE', 'GBR', 'AGO', 'SRB', 'COL',\n",
       "       'CHN', 'SWE', 'AUT', 'CIV', 'CZE', 'POL', 'USA', 'SGP', 'RUS',\n",
       "       'ROU', 'DNK', 'IND', 'MAR', 'PHL', 'ARG', 'ISL', 'ZAF', 'LBN',\n",
       "       'MOZ', 'TUR', 'BGD', 'MEX', 'CAF', 'NOR', 'FIN', 'UKR', 'EGY',\n",
       "       'ISR', nan, 'KOR', 'AZE', 'HUN', 'AUS', 'EST', 'CHL', 'SVN', 'PRY',\n",
       "       'ABW', 'ALB', 'LTU', 'ARE', 'HRV', 'SAU', 'NZL', 'LVA', 'ATA',\n",
       "       'KAZ', 'DZA', 'TWN', 'CRI', 'BIH', 'BGR', 'IRQ', 'OMN', 'VEN',\n",
       "       'IDN', 'GEO', 'MLT', 'IRN', 'BLR', 'URY', 'LBY', 'TUN', 'BEN',\n",
       "       'MYS', 'MWI', 'GRC', 'CYP', 'CPV', 'HKG', 'PRI', 'MKD', 'MUS',\n",
       "       'IMN', 'PAN', 'NGA', 'GLP', 'KHM', 'PER', 'QAT', 'SEN', 'MAC',\n",
       "       'SVK', 'BHR', 'ECU', 'SYC', 'BOL', 'TJK', 'LCA', 'MDV', 'SYR',\n",
       "       'ZMB', 'LIE', 'THA', 'MNE', 'BRB', 'CMR', 'JEY', 'GTM', 'LKA',\n",
       "       'JOR', 'TZA', 'AND', 'ARM', 'GIB', 'VNM', 'PAK', 'JAM', 'DOM',\n",
       "       'KWT', 'LAO', 'RWA', 'FRO', 'GAB', 'ETH', 'CUB', 'COM', 'GNB',\n",
       "       'GGY', 'NIC', 'TGO', 'TMP', 'CYM', 'GHA', 'SLE', 'BWA', 'NCL',\n",
       "       'UZB', 'SUR', 'SDN', 'PLW', 'MLI', 'MMR', 'BFA', 'SLV', 'BDI',\n",
       "       'ZWE', 'UGA', 'DMA', 'VGB', 'KIR', 'KEN', 'MYT', 'KNA', 'AIA'],\n",
       "      dtype=object)"
      ]
     },
     "execution_count": 3,
     "metadata": {},
     "output_type": "execute_result"
    }
   ],
   "source": [
    "df['country'].unique()"
   ]
  },
  {
   "cell_type": "code",
   "execution_count": 4,
   "metadata": {},
   "outputs": [
    {
     "data": {
      "text/plain": [
       "array(['A', 'E', 'D', 'F', 'B', 'G', 'C', 'H', 'L', 'P'], dtype=object)"
      ]
     },
     "execution_count": 4,
     "metadata": {},
     "output_type": "execute_result"
    }
   ],
   "source": [
    "df['reserved_room_type'].unique()"
   ]
  },
  {
   "cell_type": "code",
   "execution_count": 5,
   "metadata": {},
   "outputs": [
    {
     "data": {
      "text/plain": [
       "array(['Transient-Party', 'Transient', 'Contract', 'Group'], dtype=object)"
      ]
     },
     "execution_count": 5,
     "metadata": {},
     "output_type": "execute_result"
    }
   ],
   "source": [
    "df['customer_type'].unique()"
   ]
  },
  {
   "cell_type": "code",
   "execution_count": 6,
   "metadata": {},
   "outputs": [
    {
     "data": {
      "text/plain": [
       "array([0, 1], dtype=int64)"
      ]
     },
     "execution_count": 6,
     "metadata": {},
     "output_type": "execute_result"
    }
   ],
   "source": [
    "df['is_canceled'].unique()"
   ]
  },
  {
   "cell_type": "code",
   "execution_count": 7,
   "metadata": {},
   "outputs": [
    {
     "data": {
      "text/html": [
       "<div>\n",
       "<style scoped>\n",
       "    .dataframe tbody tr th:only-of-type {\n",
       "        vertical-align: middle;\n",
       "    }\n",
       "\n",
       "    .dataframe tbody tr th {\n",
       "        vertical-align: top;\n",
       "    }\n",
       "\n",
       "    .dataframe thead th {\n",
       "        text-align: right;\n",
       "    }\n",
       "</style>\n",
       "<table border=\"1\" class=\"dataframe\">\n",
       "  <thead>\n",
       "    <tr style=\"text-align: right;\">\n",
       "      <th></th>\n",
       "      <th>dataFeatures</th>\n",
       "      <th>dataType</th>\n",
       "      <th>null</th>\n",
       "      <th>nullPct</th>\n",
       "      <th>unique</th>\n",
       "      <th>uniqueSample</th>\n",
       "    </tr>\n",
       "  </thead>\n",
       "  <tbody>\n",
       "    <tr>\n",
       "      <th>0</th>\n",
       "      <td>country</td>\n",
       "      <td>object</td>\n",
       "      <td>351</td>\n",
       "      <td>0.42</td>\n",
       "      <td>162</td>\n",
       "      <td>[NLD, DMA]</td>\n",
       "    </tr>\n",
       "    <tr>\n",
       "      <th>1</th>\n",
       "      <td>market_segment</td>\n",
       "      <td>object</td>\n",
       "      <td>0</td>\n",
       "      <td>0.00</td>\n",
       "      <td>8</td>\n",
       "      <td>[Direct, Aviation]</td>\n",
       "    </tr>\n",
       "    <tr>\n",
       "      <th>2</th>\n",
       "      <td>previous_cancellations</td>\n",
       "      <td>int64</td>\n",
       "      <td>0</td>\n",
       "      <td>0.00</td>\n",
       "      <td>15</td>\n",
       "      <td>[19, 25]</td>\n",
       "    </tr>\n",
       "    <tr>\n",
       "      <th>3</th>\n",
       "      <td>booking_changes</td>\n",
       "      <td>int64</td>\n",
       "      <td>0</td>\n",
       "      <td>0.00</td>\n",
       "      <td>19</td>\n",
       "      <td>[7, 17]</td>\n",
       "    </tr>\n",
       "    <tr>\n",
       "      <th>4</th>\n",
       "      <td>deposit_type</td>\n",
       "      <td>object</td>\n",
       "      <td>0</td>\n",
       "      <td>0.00</td>\n",
       "      <td>3</td>\n",
       "      <td>[No Deposit, Non Refund]</td>\n",
       "    </tr>\n",
       "    <tr>\n",
       "      <th>5</th>\n",
       "      <td>days_in_waiting_list</td>\n",
       "      <td>int64</td>\n",
       "      <td>0</td>\n",
       "      <td>0.00</td>\n",
       "      <td>115</td>\n",
       "      <td>[122, 64]</td>\n",
       "    </tr>\n",
       "    <tr>\n",
       "      <th>6</th>\n",
       "      <td>customer_type</td>\n",
       "      <td>object</td>\n",
       "      <td>0</td>\n",
       "      <td>0.00</td>\n",
       "      <td>4</td>\n",
       "      <td>[Transient, Contract]</td>\n",
       "    </tr>\n",
       "    <tr>\n",
       "      <th>7</th>\n",
       "      <td>reserved_room_type</td>\n",
       "      <td>object</td>\n",
       "      <td>0</td>\n",
       "      <td>0.00</td>\n",
       "      <td>10</td>\n",
       "      <td>[B, C]</td>\n",
       "    </tr>\n",
       "    <tr>\n",
       "      <th>8</th>\n",
       "      <td>required_car_parking_spaces</td>\n",
       "      <td>int64</td>\n",
       "      <td>0</td>\n",
       "      <td>0.00</td>\n",
       "      <td>5</td>\n",
       "      <td>[0, 3]</td>\n",
       "    </tr>\n",
       "    <tr>\n",
       "      <th>9</th>\n",
       "      <td>total_of_special_requests</td>\n",
       "      <td>int64</td>\n",
       "      <td>0</td>\n",
       "      <td>0.00</td>\n",
       "      <td>6</td>\n",
       "      <td>[4, 1]</td>\n",
       "    </tr>\n",
       "    <tr>\n",
       "      <th>10</th>\n",
       "      <td>is_canceled</td>\n",
       "      <td>int64</td>\n",
       "      <td>0</td>\n",
       "      <td>0.00</td>\n",
       "      <td>2</td>\n",
       "      <td>[1, 0]</td>\n",
       "    </tr>\n",
       "  </tbody>\n",
       "</table>\n",
       "</div>"
      ],
      "text/plain": [
       "                   dataFeatures dataType  null  nullPct  unique  \\\n",
       "0                       country   object   351     0.42     162   \n",
       "1                market_segment   object     0     0.00       8   \n",
       "2        previous_cancellations    int64     0     0.00      15   \n",
       "3               booking_changes    int64     0     0.00      19   \n",
       "4                  deposit_type   object     0     0.00       3   \n",
       "5          days_in_waiting_list    int64     0     0.00     115   \n",
       "6                 customer_type   object     0     0.00       4   \n",
       "7            reserved_room_type   object     0     0.00      10   \n",
       "8   required_car_parking_spaces    int64     0     0.00       5   \n",
       "9     total_of_special_requests    int64     0     0.00       6   \n",
       "10                  is_canceled    int64     0     0.00       2   \n",
       "\n",
       "                uniqueSample  \n",
       "0                 [NLD, DMA]  \n",
       "1         [Direct, Aviation]  \n",
       "2                   [19, 25]  \n",
       "3                    [7, 17]  \n",
       "4   [No Deposit, Non Refund]  \n",
       "5                  [122, 64]  \n",
       "6      [Transient, Contract]  \n",
       "7                     [B, C]  \n",
       "8                     [0, 3]  \n",
       "9                     [4, 1]  \n",
       "10                    [1, 0]  "
      ]
     },
     "execution_count": 7,
     "metadata": {},
     "output_type": "execute_result"
    }
   ],
   "source": [
    "# cek null\n",
    "listItem = []\n",
    "for col in df.columns :\n",
    "    listItem.append([col, df[col].dtype, df[col].isna().sum(), round((df[col].isna().sum()/len(df[col])) * 100,2),\n",
    "                    df[col].nunique(), list(df[col].drop_duplicates().sample(2).values)])\n",
    "\n",
    "dfDesc = pd.DataFrame(columns=['dataFeatures', 'dataType', 'null', 'nullPct', 'unique', 'uniqueSample'],\n",
    "                     data=listItem)\n",
    "dfDesc"
   ]
  },
  {
   "cell_type": "code",
   "execution_count": 8,
   "metadata": {},
   "outputs": [
    {
     "data": {
      "text/html": [
       "<div>\n",
       "<style scoped>\n",
       "    .dataframe tbody tr th:only-of-type {\n",
       "        vertical-align: middle;\n",
       "    }\n",
       "\n",
       "    .dataframe tbody tr th {\n",
       "        vertical-align: top;\n",
       "    }\n",
       "\n",
       "    .dataframe thead th {\n",
       "        text-align: right;\n",
       "    }\n",
       "</style>\n",
       "<table border=\"1\" class=\"dataframe\">\n",
       "  <thead>\n",
       "    <tr style=\"text-align: right;\">\n",
       "      <th></th>\n",
       "      <th>previous_cancellations</th>\n",
       "      <th>booking_changes</th>\n",
       "      <th>days_in_waiting_list</th>\n",
       "      <th>required_car_parking_spaces</th>\n",
       "      <th>total_of_special_requests</th>\n",
       "      <th>is_canceled</th>\n",
       "    </tr>\n",
       "  </thead>\n",
       "  <tbody>\n",
       "    <tr>\n",
       "      <th>count</th>\n",
       "      <td>83573.000000</td>\n",
       "      <td>83573.000000</td>\n",
       "      <td>83573.000000</td>\n",
       "      <td>83573.000000</td>\n",
       "      <td>83573.000000</td>\n",
       "      <td>83573.000000</td>\n",
       "    </tr>\n",
       "    <tr>\n",
       "      <th>mean</th>\n",
       "      <td>0.086798</td>\n",
       "      <td>0.220897</td>\n",
       "      <td>2.330561</td>\n",
       "      <td>0.062999</td>\n",
       "      <td>0.573211</td>\n",
       "      <td>0.368277</td>\n",
       "    </tr>\n",
       "    <tr>\n",
       "      <th>std</th>\n",
       "      <td>0.841011</td>\n",
       "      <td>0.648635</td>\n",
       "      <td>17.673051</td>\n",
       "      <td>0.246919</td>\n",
       "      <td>0.795163</td>\n",
       "      <td>0.482340</td>\n",
       "    </tr>\n",
       "    <tr>\n",
       "      <th>min</th>\n",
       "      <td>0.000000</td>\n",
       "      <td>0.000000</td>\n",
       "      <td>0.000000</td>\n",
       "      <td>0.000000</td>\n",
       "      <td>0.000000</td>\n",
       "      <td>0.000000</td>\n",
       "    </tr>\n",
       "    <tr>\n",
       "      <th>25%</th>\n",
       "      <td>0.000000</td>\n",
       "      <td>0.000000</td>\n",
       "      <td>0.000000</td>\n",
       "      <td>0.000000</td>\n",
       "      <td>0.000000</td>\n",
       "      <td>0.000000</td>\n",
       "    </tr>\n",
       "    <tr>\n",
       "      <th>50%</th>\n",
       "      <td>0.000000</td>\n",
       "      <td>0.000000</td>\n",
       "      <td>0.000000</td>\n",
       "      <td>0.000000</td>\n",
       "      <td>0.000000</td>\n",
       "      <td>0.000000</td>\n",
       "    </tr>\n",
       "    <tr>\n",
       "      <th>75%</th>\n",
       "      <td>0.000000</td>\n",
       "      <td>0.000000</td>\n",
       "      <td>0.000000</td>\n",
       "      <td>0.000000</td>\n",
       "      <td>1.000000</td>\n",
       "      <td>1.000000</td>\n",
       "    </tr>\n",
       "    <tr>\n",
       "      <th>max</th>\n",
       "      <td>26.000000</td>\n",
       "      <td>21.000000</td>\n",
       "      <td>391.000000</td>\n",
       "      <td>8.000000</td>\n",
       "      <td>5.000000</td>\n",
       "      <td>1.000000</td>\n",
       "    </tr>\n",
       "  </tbody>\n",
       "</table>\n",
       "</div>"
      ],
      "text/plain": [
       "       previous_cancellations  booking_changes  days_in_waiting_list  \\\n",
       "count            83573.000000     83573.000000          83573.000000   \n",
       "mean                 0.086798         0.220897              2.330561   \n",
       "std                  0.841011         0.648635             17.673051   \n",
       "min                  0.000000         0.000000              0.000000   \n",
       "25%                  0.000000         0.000000              0.000000   \n",
       "50%                  0.000000         0.000000              0.000000   \n",
       "75%                  0.000000         0.000000              0.000000   \n",
       "max                 26.000000        21.000000            391.000000   \n",
       "\n",
       "       required_car_parking_spaces  total_of_special_requests   is_canceled  \n",
       "count                 83573.000000               83573.000000  83573.000000  \n",
       "mean                      0.062999                   0.573211      0.368277  \n",
       "std                       0.246919                   0.795163      0.482340  \n",
       "min                       0.000000                   0.000000      0.000000  \n",
       "25%                       0.000000                   0.000000      0.000000  \n",
       "50%                       0.000000                   0.000000      0.000000  \n",
       "75%                       0.000000                   1.000000      1.000000  \n",
       "max                       8.000000                   5.000000      1.000000  "
      ]
     },
     "execution_count": 8,
     "metadata": {},
     "output_type": "execute_result"
    }
   ],
   "source": [
    "# summary\n",
    "df.describe()"
   ]
  },
  {
   "cell_type": "markdown",
   "metadata": {},
   "source": [
    "Di bawah akan memplot Heatmap yang menunjukkan korelasi antar kolom.\n",
    "\n",
    "Korelasi  berkisar dari -1 hingga 1.\n",
    "\n",
    "- -1 - Korelasi Negatif yang menyatakan bahwa jika nilai satu variabel ada maka nilai variabel lain pasti tidak ada.\n",
    "- 0 - Tidak ada korelasi yang menyatakan bahwa nilai variabel yang ada atau tidak ada tidak berpengaruh satu sama lain.\n",
    "- 1 - Korelasi Positif yang menyatakan bahwa jika nilai satu variabel ada maka nilai yang lain pasti ada"
   ]
  },
  {
   "cell_type": "code",
   "execution_count": null,
   "metadata": {},
   "outputs": [
    {
     "data": {
      "text/html": [
       "<div>\n",
       "<style scoped>\n",
       "    .dataframe tbody tr th:only-of-type {\n",
       "        vertical-align: middle;\n",
       "    }\n",
       "\n",
       "    .dataframe tbody tr th {\n",
       "        vertical-align: top;\n",
       "    }\n",
       "\n",
       "    .dataframe thead th {\n",
       "        text-align: right;\n",
       "    }\n",
       "</style>\n",
       "<table border=\"1\" class=\"dataframe\">\n",
       "  <thead>\n",
       "    <tr style=\"text-align: right;\">\n",
       "      <th></th>\n",
       "      <th>ever cancel</th>\n",
       "      <th>book change</th>\n",
       "      <th>deposit</th>\n",
       "      <th>waiting list</th>\n",
       "      <th>required car parking spaces</th>\n",
       "      <th>total of special requests</th>\n",
       "      <th>is canceled</th>\n",
       "    </tr>\n",
       "  </thead>\n",
       "  <tbody>\n",
       "    <tr>\n",
       "      <th>ever cancel</th>\n",
       "      <td>1.000000</td>\n",
       "      <td>-0.072823</td>\n",
       "      <td>0.319302</td>\n",
       "      <td>0.122438</td>\n",
       "      <td>-0.043377</td>\n",
       "      <td>-0.110647</td>\n",
       "      <td>0.270661</td>\n",
       "    </tr>\n",
       "    <tr>\n",
       "      <th>book change</th>\n",
       "      <td>-0.072823</td>\n",
       "      <td>1.000000</td>\n",
       "      <td>-0.141332</td>\n",
       "      <td>-0.016908</td>\n",
       "      <td>0.077203</td>\n",
       "      <td>0.051107</td>\n",
       "      <td>-0.186521</td>\n",
       "    </tr>\n",
       "    <tr>\n",
       "      <th>deposit</th>\n",
       "      <td>0.319302</td>\n",
       "      <td>-0.141332</td>\n",
       "      <td>1.000000</td>\n",
       "      <td>0.234120</td>\n",
       "      <td>-0.093909</td>\n",
       "      <td>-0.268128</td>\n",
       "      <td>0.477539</td>\n",
       "    </tr>\n",
       "    <tr>\n",
       "      <th>waiting list</th>\n",
       "      <td>0.122438</td>\n",
       "      <td>-0.016908</td>\n",
       "      <td>0.234120</td>\n",
       "      <td>1.000000</td>\n",
       "      <td>-0.041384</td>\n",
       "      <td>-0.113927</td>\n",
       "      <td>0.101592</td>\n",
       "    </tr>\n",
       "    <tr>\n",
       "      <th>required car parking spaces</th>\n",
       "      <td>-0.043377</td>\n",
       "      <td>0.077203</td>\n",
       "      <td>-0.093909</td>\n",
       "      <td>-0.041384</td>\n",
       "      <td>1.000000</td>\n",
       "      <td>0.083678</td>\n",
       "      <td>-0.194807</td>\n",
       "    </tr>\n",
       "    <tr>\n",
       "      <th>total of special requests</th>\n",
       "      <td>-0.110647</td>\n",
       "      <td>0.051107</td>\n",
       "      <td>-0.268128</td>\n",
       "      <td>-0.113927</td>\n",
       "      <td>0.083678</td>\n",
       "      <td>1.000000</td>\n",
       "      <td>-0.235993</td>\n",
       "    </tr>\n",
       "    <tr>\n",
       "      <th>is canceled</th>\n",
       "      <td>0.270661</td>\n",
       "      <td>-0.186521</td>\n",
       "      <td>0.477539</td>\n",
       "      <td>0.101592</td>\n",
       "      <td>-0.194807</td>\n",
       "      <td>-0.235993</td>\n",
       "      <td>1.000000</td>\n",
       "    </tr>\n",
       "  </tbody>\n",
       "</table>\n",
       "</div>"
      ],
      "text/plain": [
       "                             ever cancel  book change   deposit  waiting list  \\\n",
       "ever cancel                     1.000000    -0.072823  0.319302      0.122438   \n",
       "book change                    -0.072823     1.000000 -0.141332     -0.016908   \n",
       "deposit                         0.319302    -0.141332  1.000000      0.234120   \n",
       "waiting list                    0.122438    -0.016908  0.234120      1.000000   \n",
       "required car parking spaces    -0.043377     0.077203 -0.093909     -0.041384   \n",
       "total of special requests      -0.110647     0.051107 -0.268128     -0.113927   \n",
       "is canceled                     0.270661    -0.186521  0.477539      0.101592   \n",
       "\n",
       "                             required car parking spaces  \\\n",
       "ever cancel                                    -0.043377   \n",
       "book change                                     0.077203   \n",
       "deposit                                        -0.093909   \n",
       "waiting list                                   -0.041384   \n",
       "required car parking spaces                     1.000000   \n",
       "total of special requests                       0.083678   \n",
       "is canceled                                    -0.194807   \n",
       "\n",
       "                             total of special requests  is canceled  \n",
       "ever cancel                                  -0.110647     0.270661  \n",
       "book change                                   0.051107    -0.186521  \n",
       "deposit                                      -0.268128     0.477539  \n",
       "waiting list                                 -0.113927     0.101592  \n",
       "required car parking spaces                   0.083678    -0.194807  \n",
       "total of special requests                     1.000000    -0.235993  \n",
       "is canceled                                  -0.235993     1.000000  "
      ]
     },
     "metadata": {},
     "output_type": "display_data"
    }
   ],
   "source": [
    "# Corelation matrix\n",
    "df.corr()"
   ]
  },
  {
   "cell_type": "code",
   "execution_count": 9,
   "metadata": {},
   "outputs": [
    {
     "data": {
      "image/png": "[encoded data removed]",
      "text/plain": [
       "<Figure size 640x480 with 2 Axes>"
      ]
     },
     "metadata": {},
     "output_type": "display_data"
    }
   ],
   "source": [
    "# heatmap corelation matrix\n",
    "snis.heatmap(df.corr(),cmap='YlGnBu')\n",
    "mpl.show()"
   ]
  },
  {
   "cell_type": "code",
   "execution_count": 6,
   "metadata": {},
   "outputs": [
    {
     "data": {
      "text/plain": [
       "0    63.172316\n",
       "1    36.827684\n",
       "Name: is_canceled, dtype: float64"
      ]
     },
     "execution_count": 6,
     "metadata": {},
     "output_type": "execute_result"
    }
   ],
   "source": [
    "# Checking imbalance pada terget\n",
    "(df['is_canceled'].value_counts()/len(df))*100\n"
   ]
  },
  {
   "cell_type": "markdown",
   "metadata": {},
   "source": [
    "dari pengecekan, data tidak imbalance dan tidak dibalancing karena menurut domain knowledge tidak perlu."
   ]
  },
  {
   "cell_type": "markdown",
   "metadata": {},
   "source": [
    "# Data cleaning"
   ]
  },
  {
   "cell_type": "code",
   "execution_count": 10,
   "metadata": {},
   "outputs": [],
   "source": [
    "# Format Kolom agar sedikit rapih\n",
    "df.columns = [s.strip().replace('_',' ') for s in df.columns]"
   ]
  },
  {
   "cell_type": "code",
   "execution_count": 14,
   "metadata": {},
   "outputs": [
    {
     "data": {
      "text/plain": [
       "country                        351\n",
       "market segment                   0\n",
       "previous cancellations           0\n",
       "booking changes                  0\n",
       "deposit type                     0\n",
       "days in waiting list             0\n",
       "customer type                    0\n",
       "reserved room type               0\n",
       "required car parking spaces      0\n",
       "total of special requests        0\n",
       "is canceled                      0\n",
       "dtype: int64"
      ]
     },
     "execution_count": 14,
     "metadata": {},
     "output_type": "execute_result"
    }
   ],
   "source": [
    "# cek missing value\n",
    "df.isna().sum()"
   ]
  },
  {
   "cell_type": "code",
   "execution_count": 15,
   "metadata": {},
   "outputs": [
    {
     "data": {
      "text/plain": [
       "0.4199921027125986"
      ]
     },
     "execution_count": 15,
     "metadata": {},
     "output_type": "execute_result"
    }
   ],
   "source": [
    "df['country'].isna().sum()/len(df)*100\n",
    "# jumlah nan hanya sekita 0,4% dari keseluruhan data"
   ]
  },
  {
   "cell_type": "markdown",
   "metadata": {},
   "source": [
    "terdapat missing value sebanyak 351 pada kolom country. karena tidak bisa melakukan dari kolom lain, maka akan di drop\n",
    "karena jumlah data dibawah 1% maka di drop saja."
   ]
  },
  {
   "cell_type": "code",
   "execution_count": 16,
   "metadata": {},
   "outputs": [],
   "source": [
    "df=df.dropna()"
   ]
  },
  {
   "cell_type": "code",
   "execution_count": 17,
   "metadata": {},
   "outputs": [
    {
     "data": {
      "text/plain": [
       "country                        0\n",
       "market segment                 0\n",
       "previous cancellations         0\n",
       "booking changes                0\n",
       "deposit type                   0\n",
       "days in waiting list           0\n",
       "customer type                  0\n",
       "reserved room type             0\n",
       "required car parking spaces    0\n",
       "total of special requests      0\n",
       "is canceled                    0\n",
       "dtype: int64"
      ]
     },
     "execution_count": 17,
     "metadata": {},
     "output_type": "execute_result"
    }
   ],
   "source": [
    "df.isna().sum()"
   ]
  },
  {
   "cell_type": "code",
   "execution_count": 18,
   "metadata": {},
   "outputs": [
    {
     "data": {
      "text/html": [
       "<div>\n",
       "<style scoped>\n",
       "    .dataframe tbody tr th:only-of-type {\n",
       "        vertical-align: middle;\n",
       "    }\n",
       "\n",
       "    .dataframe tbody tr th {\n",
       "        vertical-align: top;\n",
       "    }\n",
       "\n",
       "    .dataframe thead th {\n",
       "        text-align: right;\n",
       "    }\n",
       "</style>\n",
       "<table border=\"1\" class=\"dataframe\">\n",
       "  <thead>\n",
       "    <tr style=\"text-align: right;\">\n",
       "      <th></th>\n",
       "      <th>country</th>\n",
       "      <th>market segment</th>\n",
       "      <th>previous cancellations</th>\n",
       "      <th>booking changes</th>\n",
       "      <th>deposit type</th>\n",
       "      <th>days in waiting list</th>\n",
       "      <th>customer type</th>\n",
       "      <th>reserved room type</th>\n",
       "      <th>required car parking spaces</th>\n",
       "      <th>total of special requests</th>\n",
       "      <th>is canceled</th>\n",
       "    </tr>\n",
       "  </thead>\n",
       "  <tbody>\n",
       "    <tr>\n",
       "      <th>0</th>\n",
       "      <td>IRL</td>\n",
       "      <td>Offline TA/TO</td>\n",
       "      <td>0</td>\n",
       "      <td>0</td>\n",
       "      <td>No Deposit</td>\n",
       "      <td>0</td>\n",
       "      <td>Transient-Party</td>\n",
       "      <td>A</td>\n",
       "      <td>0</td>\n",
       "      <td>0</td>\n",
       "      <td>0</td>\n",
       "    </tr>\n",
       "    <tr>\n",
       "      <th>1</th>\n",
       "      <td>FRA</td>\n",
       "      <td>Online TA</td>\n",
       "      <td>0</td>\n",
       "      <td>0</td>\n",
       "      <td>No Deposit</td>\n",
       "      <td>0</td>\n",
       "      <td>Transient</td>\n",
       "      <td>A</td>\n",
       "      <td>0</td>\n",
       "      <td>2</td>\n",
       "      <td>0</td>\n",
       "    </tr>\n",
       "    <tr>\n",
       "      <th>2</th>\n",
       "      <td>PRT</td>\n",
       "      <td>Online TA</td>\n",
       "      <td>0</td>\n",
       "      <td>1</td>\n",
       "      <td>No Deposit</td>\n",
       "      <td>0</td>\n",
       "      <td>Transient</td>\n",
       "      <td>A</td>\n",
       "      <td>0</td>\n",
       "      <td>2</td>\n",
       "      <td>0</td>\n",
       "    </tr>\n",
       "    <tr>\n",
       "      <th>3</th>\n",
       "      <td>NLD</td>\n",
       "      <td>Online TA</td>\n",
       "      <td>0</td>\n",
       "      <td>0</td>\n",
       "      <td>No Deposit</td>\n",
       "      <td>0</td>\n",
       "      <td>Transient</td>\n",
       "      <td>A</td>\n",
       "      <td>0</td>\n",
       "      <td>1</td>\n",
       "      <td>1</td>\n",
       "    </tr>\n",
       "    <tr>\n",
       "      <th>4</th>\n",
       "      <td>PRT</td>\n",
       "      <td>Online TA</td>\n",
       "      <td>0</td>\n",
       "      <td>2</td>\n",
       "      <td>No Deposit</td>\n",
       "      <td>0</td>\n",
       "      <td>Transient</td>\n",
       "      <td>A</td>\n",
       "      <td>0</td>\n",
       "      <td>2</td>\n",
       "      <td>0</td>\n",
       "    </tr>\n",
       "    <tr>\n",
       "      <th>...</th>\n",
       "      <td>...</td>\n",
       "      <td>...</td>\n",
       "      <td>...</td>\n",
       "      <td>...</td>\n",
       "      <td>...</td>\n",
       "      <td>...</td>\n",
       "      <td>...</td>\n",
       "      <td>...</td>\n",
       "      <td>...</td>\n",
       "      <td>...</td>\n",
       "      <td>...</td>\n",
       "    </tr>\n",
       "    <tr>\n",
       "      <th>83568</th>\n",
       "      <td>PRT</td>\n",
       "      <td>Online TA</td>\n",
       "      <td>0</td>\n",
       "      <td>0</td>\n",
       "      <td>No Deposit</td>\n",
       "      <td>0</td>\n",
       "      <td>Contract</td>\n",
       "      <td>A</td>\n",
       "      <td>0</td>\n",
       "      <td>3</td>\n",
       "      <td>1</td>\n",
       "    </tr>\n",
       "    <tr>\n",
       "      <th>83569</th>\n",
       "      <td>FRA</td>\n",
       "      <td>Online TA</td>\n",
       "      <td>0</td>\n",
       "      <td>0</td>\n",
       "      <td>No Deposit</td>\n",
       "      <td>0</td>\n",
       "      <td>Transient</td>\n",
       "      <td>D</td>\n",
       "      <td>0</td>\n",
       "      <td>2</td>\n",
       "      <td>0</td>\n",
       "    </tr>\n",
       "    <tr>\n",
       "      <th>83570</th>\n",
       "      <td>PRT</td>\n",
       "      <td>Online TA</td>\n",
       "      <td>0</td>\n",
       "      <td>1</td>\n",
       "      <td>No Deposit</td>\n",
       "      <td>0</td>\n",
       "      <td>Transient</td>\n",
       "      <td>D</td>\n",
       "      <td>0</td>\n",
       "      <td>3</td>\n",
       "      <td>0</td>\n",
       "    </tr>\n",
       "    <tr>\n",
       "      <th>83571</th>\n",
       "      <td>CN</td>\n",
       "      <td>Offline TA/TO</td>\n",
       "      <td>0</td>\n",
       "      <td>0</td>\n",
       "      <td>No Deposit</td>\n",
       "      <td>0</td>\n",
       "      <td>Transient-Party</td>\n",
       "      <td>A</td>\n",
       "      <td>0</td>\n",
       "      <td>0</td>\n",
       "      <td>0</td>\n",
       "    </tr>\n",
       "    <tr>\n",
       "      <th>83572</th>\n",
       "      <td>PRT</td>\n",
       "      <td>Groups</td>\n",
       "      <td>0</td>\n",
       "      <td>0</td>\n",
       "      <td>Non Refund</td>\n",
       "      <td>0</td>\n",
       "      <td>Transient</td>\n",
       "      <td>A</td>\n",
       "      <td>0</td>\n",
       "      <td>0</td>\n",
       "      <td>1</td>\n",
       "    </tr>\n",
       "  </tbody>\n",
       "</table>\n",
       "<p>83222 rows × 11 columns</p>\n",
       "</div>"
      ],
      "text/plain": [
       "      country market segment  previous cancellations  booking changes  \\\n",
       "0         IRL  Offline TA/TO                       0                0   \n",
       "1         FRA      Online TA                       0                0   \n",
       "2         PRT      Online TA                       0                1   \n",
       "3         NLD      Online TA                       0                0   \n",
       "4         PRT      Online TA                       0                2   \n",
       "...       ...            ...                     ...              ...   \n",
       "83568     PRT      Online TA                       0                0   \n",
       "83569     FRA      Online TA                       0                0   \n",
       "83570     PRT      Online TA                       0                1   \n",
       "83571      CN  Offline TA/TO                       0                0   \n",
       "83572     PRT         Groups                       0                0   \n",
       "\n",
       "      deposit type  days in waiting list    customer type reserved room type  \\\n",
       "0       No Deposit                     0  Transient-Party                  A   \n",
       "1       No Deposit                     0        Transient                  A   \n",
       "2       No Deposit                     0        Transient                  A   \n",
       "3       No Deposit                     0        Transient                  A   \n",
       "4       No Deposit                     0        Transient                  A   \n",
       "...            ...                   ...              ...                ...   \n",
       "83568   No Deposit                     0         Contract                  A   \n",
       "83569   No Deposit                     0        Transient                  D   \n",
       "83570   No Deposit                     0        Transient                  D   \n",
       "83571   No Deposit                     0  Transient-Party                  A   \n",
       "83572   Non Refund                     0        Transient                  A   \n",
       "\n",
       "       required car parking spaces  total of special requests  is canceled  \n",
       "0                                0                          0            0  \n",
       "1                                0                          2            0  \n",
       "2                                0                          2            0  \n",
       "3                                0                          1            1  \n",
       "4                                0                          2            0  \n",
       "...                            ...                        ...          ...  \n",
       "83568                            0                          3            1  \n",
       "83569                            0                          2            0  \n",
       "83570                            0                          3            0  \n",
       "83571                            0                          0            0  \n",
       "83572                            0                          0            1  \n",
       "\n",
       "[83222 rows x 11 columns]"
      ]
     },
     "execution_count": 18,
     "metadata": {},
     "output_type": "execute_result"
    }
   ],
   "source": [
    "df"
   ]
  },
  {
   "cell_type": "markdown",
   "metadata": {},
   "source": [
    "## Data Preprocessing"
   ]
  },
  {
   "cell_type": "markdown",
   "metadata": {},
   "source": [
    "beberapa kolom akan di binning\n",
    "seperti:\n",
    "1. previous cancellations:  0: tidak pernah membatalkan pesanan\n",
    "                            1: pernah membatalkan\n",
    "1. booking changes: 0: tidak pernah merubah pesanan\n",
    "                    1: pernah merubah pesanan\n",
    "1. deposit type 0: tidak membayar uang muka(deposit)\n",
    "                1: membayar uang muka (deposit)\n",
    "1. days in waiting list:    0: tidak dalam waiting list\n",
    "                            1: dalam waiting list"
   ]
  },
  {
   "cell_type": "code",
   "execution_count": 11,
   "metadata": {},
   "outputs": [],
   "source": [
    "# binning\n",
    "df['previous cancellations'] = df['previous cancellations'].apply(lambda x: 0 if x == 0 else 1)\n",
    "df['booking changes'] = df['booking changes'].apply(lambda x: 0 if x == 0 else 1)\n",
    "df['deposit type'] = df['deposit type'].apply(lambda x: 0 if x == 'No Deposit' else 1)\n",
    "df['days in waiting list'] = df['days in waiting list'].apply(lambda x: 0 if x == 0 else 1)"
   ]
  },
  {
   "cell_type": "markdown",
   "metadata": {},
   "source": [
    "Setelah nilainya diubah, beberapa kolom kita ubah namanya agar lebih mudah dalam proses kedepannya\n",
    "\n",
    "1. deposit type -> deposit\n",
    "1. previous cancellations -> ever cancel\n",
    "1. booking changes -> book change\n",
    "1. days in waiting list -> waiting list"
   ]
  },
  {
   "cell_type": "code",
   "execution_count": 12,
   "metadata": {},
   "outputs": [],
   "source": [
    "# Merubah beberapa nama kolom\n",
    "df.rename(columns={'deposit type': 'deposit','previous cancellations':'ever cancel','booking changes':'book change','days in waiting list':'waiting list'},inplace=True)"
   ]
  },
  {
   "cell_type": "code",
   "execution_count": 23,
   "metadata": {},
   "outputs": [
    {
     "data": {
      "text/html": [
       "<div>\n",
       "<style scoped>\n",
       "    .dataframe tbody tr th:only-of-type {\n",
       "        vertical-align: middle;\n",
       "    }\n",
       "\n",
       "    .dataframe tbody tr th {\n",
       "        vertical-align: top;\n",
       "    }\n",
       "\n",
       "    .dataframe thead th {\n",
       "        text-align: right;\n",
       "    }\n",
       "</style>\n",
       "<table border=\"1\" class=\"dataframe\">\n",
       "  <thead>\n",
       "    <tr style=\"text-align: right;\">\n",
       "      <th></th>\n",
       "      <th>country</th>\n",
       "      <th>market segment</th>\n",
       "      <th>ever cancel</th>\n",
       "      <th>book change</th>\n",
       "      <th>deposit</th>\n",
       "      <th>waiting list</th>\n",
       "      <th>customer type</th>\n",
       "      <th>reserved room type</th>\n",
       "      <th>required car parking spaces</th>\n",
       "      <th>total of special requests</th>\n",
       "      <th>is canceled</th>\n",
       "    </tr>\n",
       "  </thead>\n",
       "  <tbody>\n",
       "    <tr>\n",
       "      <th>0</th>\n",
       "      <td>IRL</td>\n",
       "      <td>Offline TA/TO</td>\n",
       "      <td>0</td>\n",
       "      <td>0</td>\n",
       "      <td>0</td>\n",
       "      <td>0</td>\n",
       "      <td>Transient-Party</td>\n",
       "      <td>A</td>\n",
       "      <td>0</td>\n",
       "      <td>0</td>\n",
       "      <td>0</td>\n",
       "    </tr>\n",
       "    <tr>\n",
       "      <th>1</th>\n",
       "      <td>FRA</td>\n",
       "      <td>Online TA</td>\n",
       "      <td>0</td>\n",
       "      <td>0</td>\n",
       "      <td>0</td>\n",
       "      <td>0</td>\n",
       "      <td>Transient</td>\n",
       "      <td>A</td>\n",
       "      <td>0</td>\n",
       "      <td>2</td>\n",
       "      <td>0</td>\n",
       "    </tr>\n",
       "    <tr>\n",
       "      <th>2</th>\n",
       "      <td>PRT</td>\n",
       "      <td>Online TA</td>\n",
       "      <td>0</td>\n",
       "      <td>1</td>\n",
       "      <td>0</td>\n",
       "      <td>0</td>\n",
       "      <td>Transient</td>\n",
       "      <td>A</td>\n",
       "      <td>0</td>\n",
       "      <td>2</td>\n",
       "      <td>0</td>\n",
       "    </tr>\n",
       "    <tr>\n",
       "      <th>3</th>\n",
       "      <td>NLD</td>\n",
       "      <td>Online TA</td>\n",
       "      <td>0</td>\n",
       "      <td>0</td>\n",
       "      <td>0</td>\n",
       "      <td>0</td>\n",
       "      <td>Transient</td>\n",
       "      <td>A</td>\n",
       "      <td>0</td>\n",
       "      <td>1</td>\n",
       "      <td>1</td>\n",
       "    </tr>\n",
       "    <tr>\n",
       "      <th>4</th>\n",
       "      <td>PRT</td>\n",
       "      <td>Online TA</td>\n",
       "      <td>0</td>\n",
       "      <td>1</td>\n",
       "      <td>0</td>\n",
       "      <td>0</td>\n",
       "      <td>Transient</td>\n",
       "      <td>A</td>\n",
       "      <td>0</td>\n",
       "      <td>2</td>\n",
       "      <td>0</td>\n",
       "    </tr>\n",
       "    <tr>\n",
       "      <th>...</th>\n",
       "      <td>...</td>\n",
       "      <td>...</td>\n",
       "      <td>...</td>\n",
       "      <td>...</td>\n",
       "      <td>...</td>\n",
       "      <td>...</td>\n",
       "      <td>...</td>\n",
       "      <td>...</td>\n",
       "      <td>...</td>\n",
       "      <td>...</td>\n",
       "      <td>...</td>\n",
       "    </tr>\n",
       "    <tr>\n",
       "      <th>83568</th>\n",
       "      <td>PRT</td>\n",
       "      <td>Online TA</td>\n",
       "      <td>0</td>\n",
       "      <td>0</td>\n",
       "      <td>0</td>\n",
       "      <td>0</td>\n",
       "      <td>Contract</td>\n",
       "      <td>A</td>\n",
       "      <td>0</td>\n",
       "      <td>3</td>\n",
       "      <td>1</td>\n",
       "    </tr>\n",
       "    <tr>\n",
       "      <th>83569</th>\n",
       "      <td>FRA</td>\n",
       "      <td>Online TA</td>\n",
       "      <td>0</td>\n",
       "      <td>0</td>\n",
       "      <td>0</td>\n",
       "      <td>0</td>\n",
       "      <td>Transient</td>\n",
       "      <td>D</td>\n",
       "      <td>0</td>\n",
       "      <td>2</td>\n",
       "      <td>0</td>\n",
       "    </tr>\n",
       "    <tr>\n",
       "      <th>83570</th>\n",
       "      <td>PRT</td>\n",
       "      <td>Online TA</td>\n",
       "      <td>0</td>\n",
       "      <td>1</td>\n",
       "      <td>0</td>\n",
       "      <td>0</td>\n",
       "      <td>Transient</td>\n",
       "      <td>D</td>\n",
       "      <td>0</td>\n",
       "      <td>3</td>\n",
       "      <td>0</td>\n",
       "    </tr>\n",
       "    <tr>\n",
       "      <th>83571</th>\n",
       "      <td>CN</td>\n",
       "      <td>Offline TA/TO</td>\n",
       "      <td>0</td>\n",
       "      <td>0</td>\n",
       "      <td>0</td>\n",
       "      <td>0</td>\n",
       "      <td>Transient-Party</td>\n",
       "      <td>A</td>\n",
       "      <td>0</td>\n",
       "      <td>0</td>\n",
       "      <td>0</td>\n",
       "    </tr>\n",
       "    <tr>\n",
       "      <th>83572</th>\n",
       "      <td>PRT</td>\n",
       "      <td>Groups</td>\n",
       "      <td>0</td>\n",
       "      <td>0</td>\n",
       "      <td>1</td>\n",
       "      <td>0</td>\n",
       "      <td>Transient</td>\n",
       "      <td>A</td>\n",
       "      <td>0</td>\n",
       "      <td>0</td>\n",
       "      <td>1</td>\n",
       "    </tr>\n",
       "  </tbody>\n",
       "</table>\n",
       "<p>83222 rows × 11 columns</p>\n",
       "</div>"
      ],
      "text/plain": [
       "      country market segment  ever cancel  book change  deposit  waiting list  \\\n",
       "0         IRL  Offline TA/TO            0            0        0             0   \n",
       "1         FRA      Online TA            0            0        0             0   \n",
       "2         PRT      Online TA            0            1        0             0   \n",
       "3         NLD      Online TA            0            0        0             0   \n",
       "4         PRT      Online TA            0            1        0             0   \n",
       "...       ...            ...          ...          ...      ...           ...   \n",
       "83568     PRT      Online TA            0            0        0             0   \n",
       "83569     FRA      Online TA            0            0        0             0   \n",
       "83570     PRT      Online TA            0            1        0             0   \n",
       "83571      CN  Offline TA/TO            0            0        0             0   \n",
       "83572     PRT         Groups            0            0        1             0   \n",
       "\n",
       "         customer type reserved room type  required car parking spaces  \\\n",
       "0      Transient-Party                  A                            0   \n",
       "1            Transient                  A                            0   \n",
       "2            Transient                  A                            0   \n",
       "3            Transient                  A                            0   \n",
       "4            Transient                  A                            0   \n",
       "...                ...                ...                          ...   \n",
       "83568         Contract                  A                            0   \n",
       "83569        Transient                  D                            0   \n",
       "83570        Transient                  D                            0   \n",
       "83571  Transient-Party                  A                            0   \n",
       "83572        Transient                  A                            0   \n",
       "\n",
       "       total of special requests  is canceled  \n",
       "0                              0            0  \n",
       "1                              2            0  \n",
       "2                              2            0  \n",
       "3                              1            1  \n",
       "4                              2            0  \n",
       "...                          ...          ...  \n",
       "83568                          3            1  \n",
       "83569                          2            0  \n",
       "83570                          3            0  \n",
       "83571                          0            0  \n",
       "83572                          0            1  \n",
       "\n",
       "[83222 rows x 11 columns]"
      ]
     },
     "execution_count": 23,
     "metadata": {},
     "output_type": "execute_result"
    }
   ],
   "source": [
    "df"
   ]
  },
  {
   "cell_type": "markdown",
   "metadata": {},
   "source": [
    "Selanjuta melakukan fitur encoding untuk fitur2 categorical.\n",
    "Yang akan kita lakukan adalah :\n",
    "\n",
    "1. Merubah fitur/kolom `country` menggunakan Binary Encoding, karena fitur ini memiliki unique data yang banyak dan tidak memiliki urutan/tidak ordinal, bila kita menggunakan One Hot Encoding akan terlalu banyak fitur baru yg terbuat, dan kalau kita menggunakan Ordinal/Label Encoding hasilnya dapat kurang cocok/kurang baik. Oleh karena itu kita akan mencoba menggunakan Binary Encoding saja.\n",
    "1. Merubah fitur/kolom `customer type` menggunakan One Hot Encoding, karena fitur ini tidak memiliki urutan/tidak ordinal, dan juga jumlah unique datanya hanya sedikit.\n",
    "1. Merubah fitur/kolom `reserved room type` menggunakan Binary Encoding, Sebenarnya bisa menggunakan One Hot Encoding.Tetapi saat menggunakan One Hot Hasil Evaluasi Tidak keluar(berisi NaN).\n",
    "1. Merubah fitur/kolom `market segment` menggunakan Binary Encoding, Sebenarnya bisa menggunakan One Hot Encoding.Tetapi saat menggunakan One Hot Hasil Evaluasi Tidak keluar(berisi NaN)."
   ]
  },
  {
   "cell_type": "code",
   "execution_count": 14,
   "metadata": {},
   "outputs": [],
   "source": [
    "from sklearn.preprocessing import OneHotEncoder\n",
    "from sklearn.compose import ColumnTransformer\n",
    "import category_encoders as ce\n",
    "from sklearn.impute import SimpleImputer\n",
    "from sklearn.pipeline import Pipeline\n",
    "from sklearn.model_selection import train_test_split\n"
   ]
  },
  {
   "cell_type": "code",
   "execution_count": 25,
   "metadata": {},
   "outputs": [],
   "source": [
    "#encoding\n",
    "transformer=ColumnTransformer([\n",
    "    ('onehot',OneHotEncoder(drop='first'),['customer type']),\n",
    "    ('binary',ce.BinaryEncoder(),['country','reserved room type','market segment'])\n",
    "],remainder='passthrough')"
   ]
  },
  {
   "cell_type": "code",
   "execution_count": 26,
   "metadata": {},
   "outputs": [],
   "source": [
    "x=df.drop(columns='is canceled')\n",
    "y=df['is canceled']"
   ]
  },
  {
   "cell_type": "code",
   "execution_count": 27,
   "metadata": {},
   "outputs": [],
   "source": [
    "x_train,x_test,y_train,y_test=train_test_split(x,y,stratify=y,random_state=2020)"
   ]
  },
  {
   "cell_type": "code",
   "execution_count": 28,
   "metadata": {},
   "outputs": [
    {
     "data": {
      "text/plain": [
       "array([[0., 0., 1., ..., 0., 0., 0.],\n",
       "       [0., 1., 0., ..., 0., 0., 2.],\n",
       "       [0., 1., 0., ..., 0., 0., 2.],\n",
       "       ...,\n",
       "       [0., 1., 0., ..., 0., 0., 3.],\n",
       "       [0., 0., 1., ..., 0., 0., 0.],\n",
       "       [0., 1., 0., ..., 0., 0., 0.]])"
      ]
     },
     "execution_count": 28,
     "metadata": {},
     "output_type": "execute_result"
    }
   ],
   "source": [
    "transformer.fit_transform(x)"
   ]
  },
  {
   "cell_type": "markdown",
   "metadata": {},
   "source": [
    "## EDA"
   ]
  },
  {
   "cell_type": "code",
   "execution_count": 64,
   "metadata": {},
   "outputs": [
    {
     "data": {
      "image/png": "[encoded data removed]",
      "text/plain": [
       "<Figure size 800x2000 with 4 Axes>"
      ]
     },
     "metadata": {},
     "output_type": "display_data"
    }
   ],
   "source": [
    "#visualisasi EDA\n",
    "\n",
    "count=0\n",
    "fig=mpl.figure(figsize=(8,20))\n",
    "fitur_kategorik=df[['ever cancel','book change','deposit','waiting list']]\n",
    "for fitur in fitur_kategorik:\n",
    "    count +=1\n",
    "    ax=mpl.subplot(4,2,count)\n",
    "    pd.crosstab(df[fitur],df['is canceled'],normalize=True).plot(kind='bar',ax=ax)\n",
    "    fig.tight_layout()\n",
    "\n",
    "mpl.show()"
   ]
  },
  {
   "cell_type": "markdown",
   "metadata": {},
   "source": [
    "dari beberapa kolom pada EDA dapat disimpulkan bahwa:\n",
    "1. Pelanggan yang pernah melakukan pembatalan cenderung melakukan pembatalan lagi\n",
    "1. pelanggan yang melakukan perubahan pesanan cenderung tidak membatalkan pesanan\n",
    "1. pelanggan yang melakukan deposit, atau pembayaran di awal. cenderung melakukan pembatalan\n",
    "1. pelanggan dalam waiting list lebih banyak melakukan pembatalan"
   ]
  },
  {
   "cell_type": "markdown",
   "metadata": {},
   "source": [
    "setelah melakukan EDA selanjutnya akan dicoba dengan metode machine learning"
   ]
  },
  {
   "cell_type": "markdown",
   "metadata": {},
   "source": [
    "## Modelling & Evaluation"
   ]
  },
  {
   "cell_type": "code",
   "execution_count": 19,
   "metadata": {},
   "outputs": [],
   "source": [
    "from sklearn.linear_model import LogisticRegression\n",
    "from sklearn.tree import DecisionTreeClassifier\n",
    "from sklearn.neighbors import KNeighborsClassifier\n",
    "from sklearn.ensemble import RandomForestClassifier,AdaBoostClassifier,GradientBoostingClassifier\n",
    "from xgboost import XGBClassifier"
   ]
  },
  {
   "cell_type": "code",
   "execution_count": 29,
   "metadata": {},
   "outputs": [],
   "source": [
    "logreg=LogisticRegression()\n",
    "tree=DecisionTreeClassifier()\n",
    "knn=KNeighborsClassifier()\n",
    "forest=RandomForestClassifier()\n",
    "ada=AdaBoostClassifier()\n",
    "gbc=GradientBoostingClassifier()\n",
    "xgb=XGBClassifier()"
   ]
  },
  {
   "cell_type": "markdown",
   "metadata": {},
   "source": [
    "# Model selection"
   ]
  },
  {
   "cell_type": "code",
   "execution_count": 21,
   "metadata": {},
   "outputs": [],
   "source": [
    "from sklearn.model_selection import StratifiedKFold\n",
    "from sklearn.model_selection import cross_val_score"
   ]
  },
  {
   "cell_type": "code",
   "execution_count": 30,
   "metadata": {},
   "outputs": [
    {
     "name": "stderr",
     "output_type": "stream",
     "text": [
      "d:\\Dev\\Python\\lib\\site-packages\\sklearn\\linear_model\\_logistic.py:444: ConvergenceWarning: lbfgs failed to converge (status=1):\n",
      "STOP: TOTAL NO. of ITERATIONS REACHED LIMIT.\n",
      "\n",
      "Increase the number of iterations (max_iter) or scale the data as shown in:\n",
      "    https://scikit-learn.org/stable/modules/preprocessing.html\n",
      "Please also refer to the documentation for alternative solver options:\n",
      "    https://scikit-learn.org/stable/modules/linear_model.html#logistic-regression\n",
      "  n_iter_i = _check_optimize_result(\n",
      "d:\\Dev\\Python\\lib\\site-packages\\sklearn\\linear_model\\_logistic.py:444: ConvergenceWarning: lbfgs failed to converge (status=1):\n",
      "STOP: TOTAL NO. of ITERATIONS REACHED LIMIT.\n",
      "\n",
      "Increase the number of iterations (max_iter) or scale the data as shown in:\n",
      "    https://scikit-learn.org/stable/modules/preprocessing.html\n",
      "Please also refer to the documentation for alternative solver options:\n",
      "    https://scikit-learn.org/stable/modules/linear_model.html#logistic-regression\n",
      "  n_iter_i = _check_optimize_result(\n",
      "d:\\Dev\\Python\\lib\\site-packages\\sklearn\\linear_model\\_logistic.py:444: ConvergenceWarning: lbfgs failed to converge (status=1):\n",
      "STOP: TOTAL NO. of ITERATIONS REACHED LIMIT.\n",
      "\n",
      "Increase the number of iterations (max_iter) or scale the data as shown in:\n",
      "    https://scikit-learn.org/stable/modules/preprocessing.html\n",
      "Please also refer to the documentation for alternative solver options:\n",
      "    https://scikit-learn.org/stable/modules/linear_model.html#logistic-regression\n",
      "  n_iter_i = _check_optimize_result(\n",
      "d:\\Dev\\Python\\lib\\site-packages\\sklearn\\linear_model\\_logistic.py:444: ConvergenceWarning: lbfgs failed to converge (status=1):\n",
      "STOP: TOTAL NO. of ITERATIONS REACHED LIMIT.\n",
      "\n",
      "Increase the number of iterations (max_iter) or scale the data as shown in:\n",
      "    https://scikit-learn.org/stable/modules/preprocessing.html\n",
      "Please also refer to the documentation for alternative solver options:\n",
      "    https://scikit-learn.org/stable/modules/linear_model.html#logistic-regression\n",
      "  n_iter_i = _check_optimize_result(\n"
     ]
    }
   ],
   "source": [
    "models=[logreg,tree,knn,forest,ada,gbc,xgb]\n",
    "score=[]\n",
    "rata=[]\n",
    "std=[]\n",
    "for i in models:\n",
    "    skfold=StratifiedKFold(n_splits=5)\n",
    "    estimator=Pipeline([\n",
    "        ('preprocessing',transformer),\n",
    "        ('model',i)\n",
    "    ])\n",
    "    model_cv=cross_val_score(estimator,x_train,y_train,cv=skfold,scoring='f1')\n",
    "    score.append(model_cv)\n",
    "    rata.append(model_cv.mean())\n",
    "    std.append(model_cv.std())"
   ]
  },
  {
   "cell_type": "code",
   "execution_count": 31,
   "metadata": {},
   "outputs": [
    {
     "data": {
      "text/html": [
       "<div>\n",
       "<style scoped>\n",
       "    .dataframe tbody tr th:only-of-type {\n",
       "        vertical-align: middle;\n",
       "    }\n",
       "\n",
       "    .dataframe tbody tr th {\n",
       "        vertical-align: top;\n",
       "    }\n",
       "\n",
       "    .dataframe thead th {\n",
       "        text-align: right;\n",
       "    }\n",
       "</style>\n",
       "<table border=\"1\" class=\"dataframe\">\n",
       "  <thead>\n",
       "    <tr style=\"text-align: right;\">\n",
       "      <th></th>\n",
       "      <th>models</th>\n",
       "      <th>score</th>\n",
       "      <th>rata rata</th>\n",
       "      <th>standar deviasi</th>\n",
       "    </tr>\n",
       "  </thead>\n",
       "  <tbody>\n",
       "    <tr>\n",
       "      <th>0</th>\n",
       "      <td>LogisticRegression()</td>\n",
       "      <td>[0.6560100692259283, 0.65153404839112, 0.65253...</td>\n",
       "      <td>0.654626</td>\n",
       "      <td>0.005501</td>\n",
       "    </tr>\n",
       "    <tr>\n",
       "      <th>1</th>\n",
       "      <td>DecisionTreeClassifier()</td>\n",
       "      <td>[0.7201199815413013, 0.7116182572614107, 0.719...</td>\n",
       "      <td>0.719591</td>\n",
       "      <td>0.006345</td>\n",
       "    </tr>\n",
       "    <tr>\n",
       "      <th>2</th>\n",
       "      <td>KNeighborsClassifier()</td>\n",
       "      <td>[0.6795235394214408, 0.6695621551825331, 0.668...</td>\n",
       "      <td>0.670608</td>\n",
       "      <td>0.006457</td>\n",
       "    </tr>\n",
       "    <tr>\n",
       "      <th>3</th>\n",
       "      <td>RandomForestClassifier()</td>\n",
       "      <td>[0.7230468300540789, 0.7137580794090489, 0.721...</td>\n",
       "      <td>0.723982</td>\n",
       "      <td>0.006673</td>\n",
       "    </tr>\n",
       "    <tr>\n",
       "      <th>4</th>\n",
       "      <td>AdaBoostClassifier()</td>\n",
       "      <td>[0.6599477416946622, 0.6574097450138855, 0.657...</td>\n",
       "      <td>0.661160</td>\n",
       "      <td>0.006052</td>\n",
       "    </tr>\n",
       "    <tr>\n",
       "      <th>5</th>\n",
       "      <td>GradientBoostingClassifier()</td>\n",
       "      <td>[0.6779187817258884, 0.703914590747331, 0.6966...</td>\n",
       "      <td>0.697094</td>\n",
       "      <td>0.012735</td>\n",
       "    </tr>\n",
       "    <tr>\n",
       "      <th>6</th>\n",
       "      <td>XGBClassifier(base_score=None, booster=None, c...</td>\n",
       "      <td>[0.7206487248795391, 0.7153250410701714, 0.726...</td>\n",
       "      <td>0.724070</td>\n",
       "      <td>0.006101</td>\n",
       "    </tr>\n",
       "  </tbody>\n",
       "</table>\n",
       "</div>"
      ],
      "text/plain": [
       "                                              models  \\\n",
       "0                               LogisticRegression()   \n",
       "1                           DecisionTreeClassifier()   \n",
       "2                             KNeighborsClassifier()   \n",
       "3                           RandomForestClassifier()   \n",
       "4                               AdaBoostClassifier()   \n",
       "5                       GradientBoostingClassifier()   \n",
       "6  XGBClassifier(base_score=None, booster=None, c...   \n",
       "\n",
       "                                               score  rata rata  \\\n",
       "0  [0.6560100692259283, 0.65153404839112, 0.65253...   0.654626   \n",
       "1  [0.7201199815413013, 0.7116182572614107, 0.719...   0.719591   \n",
       "2  [0.6795235394214408, 0.6695621551825331, 0.668...   0.670608   \n",
       "3  [0.7230468300540789, 0.7137580794090489, 0.721...   0.723982   \n",
       "4  [0.6599477416946622, 0.6574097450138855, 0.657...   0.661160   \n",
       "5  [0.6779187817258884, 0.703914590747331, 0.6966...   0.697094   \n",
       "6  [0.7206487248795391, 0.7153250410701714, 0.726...   0.724070   \n",
       "\n",
       "   standar deviasi  \n",
       "0         0.005501  \n",
       "1         0.006345  \n",
       "2         0.006457  \n",
       "3         0.006673  \n",
       "4         0.006052  \n",
       "5         0.012735  \n",
       "6         0.006101  "
      ]
     },
     "execution_count": 31,
     "metadata": {},
     "output_type": "execute_result"
    }
   ],
   "source": [
    "pd.DataFrame({'models':models,'score':score,'rata rata':rata,'standar deviasi':std})"
   ]
  },
  {
   "cell_type": "code",
   "execution_count": 32,
   "metadata": {},
   "outputs": [
    {
     "data": {
      "text/html": [
       "<div>\n",
       "<style scoped>\n",
       "    .dataframe tbody tr th:only-of-type {\n",
       "        vertical-align: middle;\n",
       "    }\n",
       "\n",
       "    .dataframe tbody tr th {\n",
       "        vertical-align: top;\n",
       "    }\n",
       "\n",
       "    .dataframe thead th {\n",
       "        text-align: right;\n",
       "    }\n",
       "</style>\n",
       "<table border=\"1\" class=\"dataframe\">\n",
       "  <thead>\n",
       "    <tr style=\"text-align: right;\">\n",
       "      <th></th>\n",
       "      <th>model</th>\n",
       "      <th>mean</th>\n",
       "      <th>std</th>\n",
       "    </tr>\n",
       "  </thead>\n",
       "  <tbody>\n",
       "    <tr>\n",
       "      <th>0</th>\n",
       "      <td>logreg</td>\n",
       "      <td>0.654626</td>\n",
       "      <td>0.005501</td>\n",
       "    </tr>\n",
       "    <tr>\n",
       "      <th>1</th>\n",
       "      <td>tree</td>\n",
       "      <td>0.719591</td>\n",
       "      <td>0.006345</td>\n",
       "    </tr>\n",
       "    <tr>\n",
       "      <th>2</th>\n",
       "      <td>knn</td>\n",
       "      <td>0.670608</td>\n",
       "      <td>0.006457</td>\n",
       "    </tr>\n",
       "    <tr>\n",
       "      <th>3</th>\n",
       "      <td>forest</td>\n",
       "      <td>0.723982</td>\n",
       "      <td>0.006673</td>\n",
       "    </tr>\n",
       "    <tr>\n",
       "      <th>4</th>\n",
       "      <td>ada</td>\n",
       "      <td>0.661160</td>\n",
       "      <td>0.006052</td>\n",
       "    </tr>\n",
       "    <tr>\n",
       "      <th>5</th>\n",
       "      <td>gbc</td>\n",
       "      <td>0.697094</td>\n",
       "      <td>0.012735</td>\n",
       "    </tr>\n",
       "    <tr>\n",
       "      <th>6</th>\n",
       "      <td>xgb</td>\n",
       "      <td>0.724070</td>\n",
       "      <td>0.006101</td>\n",
       "    </tr>\n",
       "  </tbody>\n",
       "</table>\n",
       "</div>"
      ],
      "text/plain": [
       "    model      mean       std\n",
       "0  logreg  0.654626  0.005501\n",
       "1    tree  0.719591  0.006345\n",
       "2     knn  0.670608  0.006457\n",
       "3  forest  0.723982  0.006673\n",
       "4     ada  0.661160  0.006052\n",
       "5     gbc  0.697094  0.012735\n",
       "6     xgb  0.724070  0.006101"
      ]
     },
     "execution_count": 32,
     "metadata": {},
     "output_type": "execute_result"
    }
   ],
   "source": [
    "pd.DataFrame({\n",
    "    'model':['logreg','tree','knn','forest','ada','gbc','xgb'],\n",
    "    'mean':rata,\n",
    "    'std':std\n",
    "})"
   ]
  },
  {
   "cell_type": "markdown",
   "metadata": {},
   "source": [
    "dari hasil CV, mean tertinggi adalah xgboost, sedangkan std terendah adalah logreg. karena mayoritas std 0.01, maka akan dipilih dengan mean tertinggi yaitu Xgbost"
   ]
  },
  {
   "cell_type": "markdown",
   "metadata": {},
   "source": [
    "xg boost adalah salah satu algoritma yang paling populer dan paling banyak digunakan karena algoritma ini termasuk algoritma yang powerful. algoritma ini mirip dengan gradient boost hanya saja menggunakan beberapa proses tambahan seperti pemangkasan, newton boosting, dan parameter pengacakan ekstra. Proses pemangkasan atau penyusutan proporsional simpul daun digunakan untuk meningkatkan generalisasi model. proses newton boosting adalah proses untuk menyediakan rute langsung sehingga tidak memerlukan penurunan gradient. Proses pengacakan parameter bertujuan untuk mengurangi korelasi antar tree sehingga dapat meningkatkan kekuatan algoritma ensemble. "
   ]
  },
  {
   "cell_type": "markdown",
   "metadata": {},
   "source": [
    "# Model test"
   ]
  },
  {
   "cell_type": "code",
   "execution_count": 35,
   "metadata": {},
   "outputs": [],
   "source": [
    "from sklearn.metrics import classification_report,confusion_matrix\n",
    "from sklearn.model_selection import GridSearchCV"
   ]
  },
  {
   "cell_type": "code",
   "execution_count": 33,
   "metadata": {},
   "outputs": [],
   "source": [
    "model={\n",
    "    'xgb': XGBClassifier(random_state=2020),\n",
    "}"
   ]
  },
  {
   "cell_type": "code",
   "execution_count": 36,
   "metadata": {},
   "outputs": [
    {
     "name": "stdout",
     "output_type": "stream",
     "text": [
      "xgb\n",
      "              precision    recall  f1-score   support\n",
      "\n",
      "           0       0.83      0.89      0.86     13199\n",
      "           1       0.78      0.68      0.73      7695\n",
      "\n",
      "    accuracy                           0.81     20894\n",
      "   macro avg       0.80      0.78      0.79     20894\n",
      "weighted avg       0.81      0.81      0.81     20894\n",
      "\n"
     ]
    },
    {
     "data": {
      "image/png": "[encoded data removed]",
      "text/plain": [
       "<Figure size 640x480 with 2 Axes>"
      ]
     },
     "metadata": {},
     "output_type": "display_data"
    }
   ],
   "source": [
    "for i,j in model.items():\n",
    "    estimator=Pipeline([\n",
    "    ('preprocessing',transformer),\n",
    "    ('model',j)\n",
    "    ])\n",
    "    estimator.fit(x_train,y_train)\n",
    "    y_pred=estimator.predict(x_test)\n",
    "    print(i)\n",
    "    print(classification_report(y_test,y_pred))\n",
    "    snis.heatmap(confusion_matrix(y_test,y_pred)/np.sum(confusion_matrix(y_test,y_pred)),annot=True,fmt='.2%')\n",
    "    mpl.xlabel('Predict')\n",
    "    mpl.ylabel('Actual')\n",
    "    mpl.show()\n",
    "\n"
   ]
  },
  {
   "cell_type": "code",
   "execution_count": 37,
   "metadata": {},
   "outputs": [],
   "source": [
    "tunning_models=[xgb]\n",
    "for model in tunning_models: \n",
    "    estimator=Pipeline([\n",
    "        ('processing',transformer),\n",
    "        ('model',model)\n",
    "])"
   ]
  },
  {
   "cell_type": "code",
   "execution_count": 46,
   "metadata": {},
   "outputs": [],
   "source": [
    "hyperparam=[\n",
    "    {'model':[xgb],\n",
    "    'model__learning_rate':[0.1],\n",
    "    'model__n_estimators':[200],\n",
    "    'model__max_depth':[1,2,3,4,5]},\n",
    "    {'model':[xgb],\n",
    "    'model__learning_rate':[0.01],\n",
    "    'model__n_estimators':[500],\n",
    "    'model__max_depth':[1,2,3,4,5]},\n",
    "    {'model':[xgb],\n",
    "    'model__learning_rate':[0.001],\n",
    "    'model__n_estimators':[1000],\n",
    "    'model__max_depth':[1,2,3,4,5]},\n",
    "\n",
    "]"
   ]
  },
  {
   "cell_type": "code",
   "execution_count": 47,
   "metadata": {},
   "outputs": [],
   "source": [
    "skfold=StratifiedKFold(n_splits=5)\n",
    "grid=GridSearchCV(estimator,\n",
    "                 param_grid=hyperparam,\n",
    "                 cv=skfold,\n",
    "                 scoring='f1',\n",
    "           n_jobs=-1)"
   ]
  },
  {
   "cell_type": "code",
   "execution_count": 48,
   "metadata": {},
   "outputs": [
    {
     "data": {
      "text/html": [
       "<style>#sk-container-id-2 {color: black;background-color: white;}#sk-container-id-2 pre{padding: 0;}#sk-container-id-2 div.sk-toggleable {background-color: white;}#sk-container-id-2 label.sk-toggleable__label {cursor: pointer;display: block;width: 100%;margin-bottom: 0;padding: 0.3em;box-sizing: border-box;text-align: center;}#sk-container-id-2 label.sk-toggleable__label-arrow:before {content: \"▸\";float: left;margin-right: 0.25em;color: #696969;}#sk-container-id-2 label.sk-toggleable__label-arrow:hover:before {color: black;}#sk-container-id-2 div.sk-estimator:hover label.sk-toggleable__label-arrow:before {color: black;}#sk-container-id-2 div.sk-toggleable__content {max-height: 0;max-width: 0;overflow: hidden;text-align: left;background-color: #f0f8ff;}#sk-container-id-2 div.sk-toggleable__content pre {margin: 0.2em;color: black;border-radius: 0.25em;background-color: #f0f8ff;}#sk-container-id-2 input.sk-toggleable__control:checked~div.sk-toggleable__content {max-height: 200px;max-width: 100%;overflow: auto;}#sk-container-id-2 input.sk-toggleable__control:checked~label.sk-toggleable__label-arrow:before {content: \"▾\";}#sk-container-id-2 div.sk-estimator input.sk-toggleable__control:checked~label.sk-toggleable__label {background-color: #d4ebff;}#sk-container-id-2 div.sk-label input.sk-toggleable__control:checked~label.sk-toggleable__label {background-color: #d4ebff;}#sk-container-id-2 input.sk-hidden--visually {border: 0;clip: rect(1px 1px 1px 1px);clip: rect(1px, 1px, 1px, 1px);height: 1px;margin: -1px;overflow: hidden;padding: 0;position: absolute;width: 1px;}#sk-container-id-2 div.sk-estimator {font-family: monospace;background-color: #f0f8ff;border: 1px dotted black;border-radius: 0.25em;box-sizing: border-box;margin-bottom: 0.5em;}#sk-container-id-2 div.sk-estimator:hover {background-color: #d4ebff;}#sk-container-id-2 div.sk-parallel-item::after {content: \"\";width: 100%;border-bottom: 1px solid gray;flex-grow: 1;}#sk-container-id-2 div.sk-label:hover label.sk-toggleable__label {background-color: #d4ebff;}#sk-container-id-2 div.sk-serial::before {content: \"\";position: absolute;border-left: 1px solid gray;box-sizing: border-box;top: 0;bottom: 0;left: 50%;z-index: 0;}#sk-container-id-2 div.sk-serial {display: flex;flex-direction: column;align-items: center;background-color: white;padding-right: 0.2em;padding-left: 0.2em;position: relative;}#sk-container-id-2 div.sk-item {position: relative;z-index: 1;}#sk-container-id-2 div.sk-parallel {display: flex;align-items: stretch;justify-content: center;background-color: white;position: relative;}#sk-container-id-2 div.sk-item::before, #sk-container-id-2 div.sk-parallel-item::before {content: \"\";position: absolute;border-left: 1px solid gray;box-sizing: border-box;top: 0;bottom: 0;left: 50%;z-index: -1;}#sk-container-id-2 div.sk-parallel-item {display: flex;flex-direction: column;z-index: 1;position: relative;background-color: white;}#sk-container-id-2 div.sk-parallel-item:first-child::after {align-self: flex-end;width: 50%;}#sk-container-id-2 div.sk-parallel-item:last-child::after {align-self: flex-start;width: 50%;}#sk-container-id-2 div.sk-parallel-item:only-child::after {width: 0;}#sk-container-id-2 div.sk-dashed-wrapped {border: 1px dashed gray;margin: 0 0.4em 0.5em 0.4em;box-sizing: border-box;padding-bottom: 0.4em;background-color: white;}#sk-container-id-2 div.sk-label label {font-family: monospace;font-weight: bold;display: inline-block;line-height: 1.2em;}#sk-container-id-2 div.sk-label-container {text-align: center;}#sk-container-id-2 div.sk-container {/* jupyter's `normalize.less` sets `[hidden] { display: none; }` but bootstrap.min.css set `[hidden] { display: none !important; }` so we also need the `!important` here to be able to override the default hidden behavior on the sphinx rendered scikit-learn.org. See: https://github.com/scikit-learn/scikit-learn/issues/21755 */display: inline-block !important;position: relative;}#sk-container-id-2 div.sk-text-repr-fallback {display: none;}</style><div id=\"sk-container-id-2\" class=\"sk-top-container\"><div class=\"sk-text-repr-fallback\"><pre>GridSearchCV(cv=StratifiedKFold(n_splits=5, random_state=None, shuffle=False),\n",
       "             estimator=Pipeline(steps=[(&#x27;processing&#x27;,\n",
       "                                        ColumnTransformer(remainder=&#x27;passthrough&#x27;,\n",
       "                                                          transformers=[(&#x27;onehot&#x27;,\n",
       "                                                                         OneHotEncoder(drop=&#x27;first&#x27;),\n",
       "                                                                         [&#x27;customer &#x27;\n",
       "                                                                          &#x27;type&#x27;]),\n",
       "                                                                        (&#x27;binary&#x27;,\n",
       "                                                                         BinaryEncoder(),\n",
       "                                                                         [&#x27;country&#x27;,\n",
       "                                                                          &#x27;reserved &#x27;\n",
       "                                                                          &#x27;room &#x27;\n",
       "                                                                          &#x27;type&#x27;,\n",
       "                                                                          &#x27;market &#x27;\n",
       "                                                                          &#x27;segment&#x27;])])),\n",
       "                                       (&#x27;model&#x27;,\n",
       "                                        AdaBoostClassifier(learning_...\n",
       "                                                  max_cat_threshold=None,\n",
       "                                                  max_cat_to_onehot=None,\n",
       "                                                  max_delta_step=None,\n",
       "                                                  max_depth=5, max_leaves=None,\n",
       "                                                  min_child_weight=None,\n",
       "                                                  missing=nan,\n",
       "                                                  monotone_constraints=None,\n",
       "                                                  n_estimators=200, n_jobs=None,\n",
       "                                                  num_parallel_tree=None,\n",
       "                                                  predictor=None,\n",
       "                                                  random_state=None, ...)],\n",
       "                          &#x27;model__learning_rate&#x27;: [0.001],\n",
       "                          &#x27;model__max_depth&#x27;: [1, 2, 3, 4, 5],\n",
       "                          &#x27;model__n_estimators&#x27;: [1000]}],\n",
       "             scoring=&#x27;f1&#x27;)</pre><b>In a Jupyter environment, please rerun this cell to show the HTML representation or trust the notebook. <br />On GitHub, the HTML representation is unable to render, please try loading this page with nbviewer.org.</b></div><div class=\"sk-container\" hidden><div class=\"sk-item sk-dashed-wrapped\"><div class=\"sk-label-container\"><div class=\"sk-label sk-toggleable\"><input class=\"sk-toggleable__control sk-hidden--visually\" id=\"sk-estimator-id-11\" type=\"checkbox\" ><label for=\"sk-estimator-id-11\" class=\"sk-toggleable__label sk-toggleable__label-arrow\">GridSearchCV</label><div class=\"sk-toggleable__content\"><pre>GridSearchCV(cv=StratifiedKFold(n_splits=5, random_state=None, shuffle=False),\n",
       "             estimator=Pipeline(steps=[(&#x27;processing&#x27;,\n",
       "                                        ColumnTransformer(remainder=&#x27;passthrough&#x27;,\n",
       "                                                          transformers=[(&#x27;onehot&#x27;,\n",
       "                                                                         OneHotEncoder(drop=&#x27;first&#x27;),\n",
       "                                                                         [&#x27;customer &#x27;\n",
       "                                                                          &#x27;type&#x27;]),\n",
       "                                                                        (&#x27;binary&#x27;,\n",
       "                                                                         BinaryEncoder(),\n",
       "                                                                         [&#x27;country&#x27;,\n",
       "                                                                          &#x27;reserved &#x27;\n",
       "                                                                          &#x27;room &#x27;\n",
       "                                                                          &#x27;type&#x27;,\n",
       "                                                                          &#x27;market &#x27;\n",
       "                                                                          &#x27;segment&#x27;])])),\n",
       "                                       (&#x27;model&#x27;,\n",
       "                                        AdaBoostClassifier(learning_...\n",
       "                                                  max_cat_threshold=None,\n",
       "                                                  max_cat_to_onehot=None,\n",
       "                                                  max_delta_step=None,\n",
       "                                                  max_depth=5, max_leaves=None,\n",
       "                                                  min_child_weight=None,\n",
       "                                                  missing=nan,\n",
       "                                                  monotone_constraints=None,\n",
       "                                                  n_estimators=200, n_jobs=None,\n",
       "                                                  num_parallel_tree=None,\n",
       "                                                  predictor=None,\n",
       "                                                  random_state=None, ...)],\n",
       "                          &#x27;model__learning_rate&#x27;: [0.001],\n",
       "                          &#x27;model__max_depth&#x27;: [1, 2, 3, 4, 5],\n",
       "                          &#x27;model__n_estimators&#x27;: [1000]}],\n",
       "             scoring=&#x27;f1&#x27;)</pre></div></div></div><div class=\"sk-parallel\"><div class=\"sk-parallel-item\"><div class=\"sk-item\"><div class=\"sk-label-container\"><div class=\"sk-label sk-toggleable\"><input class=\"sk-toggleable__control sk-hidden--visually\" id=\"sk-estimator-id-12\" type=\"checkbox\" ><label for=\"sk-estimator-id-12\" class=\"sk-toggleable__label sk-toggleable__label-arrow\">estimator: Pipeline</label><div class=\"sk-toggleable__content\"><pre>Pipeline(steps=[(&#x27;processing&#x27;,\n",
       "                 ColumnTransformer(remainder=&#x27;passthrough&#x27;,\n",
       "                                   transformers=[(&#x27;onehot&#x27;,\n",
       "                                                  OneHotEncoder(drop=&#x27;first&#x27;),\n",
       "                                                  [&#x27;customer type&#x27;]),\n",
       "                                                 (&#x27;binary&#x27;, BinaryEncoder(),\n",
       "                                                  [&#x27;country&#x27;,\n",
       "                                                   &#x27;reserved room type&#x27;,\n",
       "                                                   &#x27;market segment&#x27;])])),\n",
       "                (&#x27;model&#x27;,\n",
       "                 AdaBoostClassifier(learning_rate=0.1, n_estimators=200,\n",
       "                                    random_state=2020))])</pre></div></div></div><div class=\"sk-serial\"><div class=\"sk-item\"><div class=\"sk-serial\"><div class=\"sk-item sk-dashed-wrapped\"><div class=\"sk-label-container\"><div class=\"sk-label sk-toggleable\"><input class=\"sk-toggleable__control sk-hidden--visually\" id=\"sk-estimator-id-13\" type=\"checkbox\" ><label for=\"sk-estimator-id-13\" class=\"sk-toggleable__label sk-toggleable__label-arrow\">processing: ColumnTransformer</label><div class=\"sk-toggleable__content\"><pre>ColumnTransformer(remainder=&#x27;passthrough&#x27;,\n",
       "                  transformers=[(&#x27;onehot&#x27;, OneHotEncoder(drop=&#x27;first&#x27;),\n",
       "                                 [&#x27;customer type&#x27;]),\n",
       "                                (&#x27;binary&#x27;, BinaryEncoder(),\n",
       "                                 [&#x27;country&#x27;, &#x27;reserved room type&#x27;,\n",
       "                                  &#x27;market segment&#x27;])])</pre></div></div></div><div class=\"sk-parallel\"><div class=\"sk-parallel-item\"><div class=\"sk-item\"><div class=\"sk-label-container\"><div class=\"sk-label sk-toggleable\"><input class=\"sk-toggleable__control sk-hidden--visually\" id=\"sk-estimator-id-14\" type=\"checkbox\" ><label for=\"sk-estimator-id-14\" class=\"sk-toggleable__label sk-toggleable__label-arrow\">onehot</label><div class=\"sk-toggleable__content\"><pre>[&#x27;customer type&#x27;]</pre></div></div></div><div class=\"sk-serial\"><div class=\"sk-item\"><div class=\"sk-estimator sk-toggleable\"><input class=\"sk-toggleable__control sk-hidden--visually\" id=\"sk-estimator-id-15\" type=\"checkbox\" ><label for=\"sk-estimator-id-15\" class=\"sk-toggleable__label sk-toggleable__label-arrow\">OneHotEncoder</label><div class=\"sk-toggleable__content\"><pre>OneHotEncoder(drop=&#x27;first&#x27;)</pre></div></div></div></div></div></div><div class=\"sk-parallel-item\"><div class=\"sk-item\"><div class=\"sk-label-container\"><div class=\"sk-label sk-toggleable\"><input class=\"sk-toggleable__control sk-hidden--visually\" id=\"sk-estimator-id-16\" type=\"checkbox\" ><label for=\"sk-estimator-id-16\" class=\"sk-toggleable__label sk-toggleable__label-arrow\">binary</label><div class=\"sk-toggleable__content\"><pre>[&#x27;country&#x27;, &#x27;reserved room type&#x27;, &#x27;market segment&#x27;]</pre></div></div></div><div class=\"sk-serial\"><div class=\"sk-item\"><div class=\"sk-estimator sk-toggleable\"><input class=\"sk-toggleable__control sk-hidden--visually\" id=\"sk-estimator-id-17\" type=\"checkbox\" ><label for=\"sk-estimator-id-17\" class=\"sk-toggleable__label sk-toggleable__label-arrow\">BinaryEncoder</label><div class=\"sk-toggleable__content\"><pre>BinaryEncoder()</pre></div></div></div></div></div></div><div class=\"sk-parallel-item\"><div class=\"sk-item\"><div class=\"sk-label-container\"><div class=\"sk-label sk-toggleable\"><input class=\"sk-toggleable__control sk-hidden--visually\" id=\"sk-estimator-id-18\" type=\"checkbox\" ><label for=\"sk-estimator-id-18\" class=\"sk-toggleable__label sk-toggleable__label-arrow\">remainder</label><div class=\"sk-toggleable__content\"><pre>[&#x27;ever cancel&#x27;, &#x27;book change&#x27;, &#x27;deposit&#x27;, &#x27;waiting list&#x27;, &#x27;required car parking spaces&#x27;, &#x27;total of special requests&#x27;]</pre></div></div></div><div class=\"sk-serial\"><div class=\"sk-item\"><div class=\"sk-estimator sk-toggleable\"><input class=\"sk-toggleable__control sk-hidden--visually\" id=\"sk-estimator-id-19\" type=\"checkbox\" ><label for=\"sk-estimator-id-19\" class=\"sk-toggleable__label sk-toggleable__label-arrow\">passthrough</label><div class=\"sk-toggleable__content\"><pre>passthrough</pre></div></div></div></div></div></div></div></div><div class=\"sk-item\"><div class=\"sk-estimator sk-toggleable\"><input class=\"sk-toggleable__control sk-hidden--visually\" id=\"sk-estimator-id-20\" type=\"checkbox\" ><label for=\"sk-estimator-id-20\" class=\"sk-toggleable__label sk-toggleable__label-arrow\">AdaBoostClassifier</label><div class=\"sk-toggleable__content\"><pre>AdaBoostClassifier(learning_rate=0.1, n_estimators=200, random_state=2020)</pre></div></div></div></div></div></div></div></div></div></div></div></div>"
      ],
      "text/plain": [
       "GridSearchCV(cv=StratifiedKFold(n_splits=5, random_state=None, shuffle=False),\n",
       "             estimator=Pipeline(steps=[('processing',\n",
       "                                        ColumnTransformer(remainder='passthrough',\n",
       "                                                          transformers=[('onehot',\n",
       "                                                                         OneHotEncoder(drop='first'),\n",
       "                                                                         ['customer '\n",
       "                                                                          'type']),\n",
       "                                                                        ('binary',\n",
       "                                                                         BinaryEncoder(),\n",
       "                                                                         ['country',\n",
       "                                                                          'reserved '\n",
       "                                                                          'room '\n",
       "                                                                          'type',\n",
       "                                                                          'market '\n",
       "                                                                          'segment'])])),\n",
       "                                       ('model',\n",
       "                                        AdaBoostClassifier(learning_...\n",
       "                                                  max_cat_threshold=None,\n",
       "                                                  max_cat_to_onehot=None,\n",
       "                                                  max_delta_step=None,\n",
       "                                                  max_depth=5, max_leaves=None,\n",
       "                                                  min_child_weight=None,\n",
       "                                                  missing=nan,\n",
       "                                                  monotone_constraints=None,\n",
       "                                                  n_estimators=200, n_jobs=None,\n",
       "                                                  num_parallel_tree=None,\n",
       "                                                  predictor=None,\n",
       "                                                  random_state=None, ...)],\n",
       "                          'model__learning_rate': [0.001],\n",
       "                          'model__max_depth': [1, 2, 3, 4, 5],\n",
       "                          'model__n_estimators': [1000]}],\n",
       "             scoring='f1')"
      ]
     },
     "execution_count": 48,
     "metadata": {},
     "output_type": "execute_result"
    }
   ],
   "source": [
    "grid.fit(x_train,y_train)"
   ]
  },
  {
   "cell_type": "code",
   "execution_count": 49,
   "metadata": {},
   "outputs": [
    {
     "name": "stdout",
     "output_type": "stream",
     "text": [
      "best score 0.7240976425984763\n",
      "best param {'model': XGBClassifier(base_score=None, booster=None, callbacks=None,\n",
      "              colsample_bylevel=None, colsample_bynode=None,\n",
      "              colsample_bytree=None, early_stopping_rounds=None,\n",
      "              enable_categorical=False, eval_metric=None, feature_types=None,\n",
      "              gamma=None, gpu_id=None, grow_policy=None, importance_type=None,\n",
      "              interaction_constraints=None, learning_rate=0.1, max_bin=None,\n",
      "              max_cat_threshold=None, max_cat_to_onehot=None,\n",
      "              max_delta_step=None, max_depth=5, max_leaves=None,\n",
      "              min_child_weight=None, missing=nan, monotone_constraints=None,\n",
      "              n_estimators=200, n_jobs=None, num_parallel_tree=None,\n",
      "              predictor=None, random_state=None, ...), 'model__learning_rate': 0.1, 'model__max_depth': 5, 'model__n_estimators': 200}\n"
     ]
    }
   ],
   "source": [
    "print('best score',grid.best_score_)\n",
    "print ('best param', grid.best_params_)"
   ]
  },
  {
   "cell_type": "code",
   "execution_count": 51,
   "metadata": {},
   "outputs": [
    {
     "data": {
      "text/html": [
       "<div>\n",
       "<style scoped>\n",
       "    .dataframe tbody tr th:only-of-type {\n",
       "        vertical-align: middle;\n",
       "    }\n",
       "\n",
       "    .dataframe tbody tr th {\n",
       "        vertical-align: top;\n",
       "    }\n",
       "\n",
       "    .dataframe thead th {\n",
       "        text-align: right;\n",
       "    }\n",
       "</style>\n",
       "<table border=\"1\" class=\"dataframe\">\n",
       "  <thead>\n",
       "    <tr style=\"text-align: right;\">\n",
       "      <th></th>\n",
       "      <th>mean_fit_time</th>\n",
       "      <th>params</th>\n",
       "      <th>mean_test_score</th>\n",
       "      <th>std_test_score</th>\n",
       "      <th>rank_test_score</th>\n",
       "    </tr>\n",
       "  </thead>\n",
       "  <tbody>\n",
       "    <tr>\n",
       "      <th>4</th>\n",
       "      <td>11.989467</td>\n",
       "      <td>{'model': XGBClassifier(base_score=None, boost...</td>\n",
       "      <td>0.724098</td>\n",
       "      <td>0.004723</td>\n",
       "      <td>1</td>\n",
       "    </tr>\n",
       "    <tr>\n",
       "      <th>3</th>\n",
       "      <td>9.810561</td>\n",
       "      <td>{'model': XGBClassifier(base_score=None, boost...</td>\n",
       "      <td>0.716871</td>\n",
       "      <td>0.006941</td>\n",
       "      <td>2</td>\n",
       "    </tr>\n",
       "    <tr>\n",
       "      <th>2</th>\n",
       "      <td>7.623480</td>\n",
       "      <td>{'model': XGBClassifier(base_score=None, boost...</td>\n",
       "      <td>0.712445</td>\n",
       "      <td>0.006762</td>\n",
       "      <td>3</td>\n",
       "    </tr>\n",
       "    <tr>\n",
       "      <th>9</th>\n",
       "      <td>29.620051</td>\n",
       "      <td>{'model': XGBClassifier(base_score=None, boost...</td>\n",
       "      <td>0.689332</td>\n",
       "      <td>0.005331</td>\n",
       "      <td>4</td>\n",
       "    </tr>\n",
       "    <tr>\n",
       "      <th>1</th>\n",
       "      <td>5.690770</td>\n",
       "      <td>{'model': XGBClassifier(base_score=None, boost...</td>\n",
       "      <td>0.677358</td>\n",
       "      <td>0.012777</td>\n",
       "      <td>5</td>\n",
       "    </tr>\n",
       "    <tr>\n",
       "      <th>8</th>\n",
       "      <td>23.745516</td>\n",
       "      <td>{'model': XGBClassifier(base_score=None, boost...</td>\n",
       "      <td>0.673077</td>\n",
       "      <td>0.009843</td>\n",
       "      <td>6</td>\n",
       "    </tr>\n",
       "    <tr>\n",
       "      <th>7</th>\n",
       "      <td>18.227785</td>\n",
       "      <td>{'model': XGBClassifier(base_score=None, boost...</td>\n",
       "      <td>0.650696</td>\n",
       "      <td>0.013979</td>\n",
       "      <td>7</td>\n",
       "    </tr>\n",
       "    <tr>\n",
       "      <th>0</th>\n",
       "      <td>3.896986</td>\n",
       "      <td>{'model': XGBClassifier(base_score=None, boost...</td>\n",
       "      <td>0.609663</td>\n",
       "      <td>0.016872</td>\n",
       "      <td>8</td>\n",
       "    </tr>\n",
       "    <tr>\n",
       "      <th>14</th>\n",
       "      <td>48.668993</td>\n",
       "      <td>{'model': XGBClassifier(base_score=None, boost...</td>\n",
       "      <td>0.545008</td>\n",
       "      <td>0.007378</td>\n",
       "      <td>9</td>\n",
       "    </tr>\n",
       "    <tr>\n",
       "      <th>6</th>\n",
       "      <td>13.015433</td>\n",
       "      <td>{'model': XGBClassifier(base_score=None, boost...</td>\n",
       "      <td>0.544051</td>\n",
       "      <td>0.009271</td>\n",
       "      <td>10</td>\n",
       "    </tr>\n",
       "    <tr>\n",
       "      <th>13</th>\n",
       "      <td>46.086990</td>\n",
       "      <td>{'model': XGBClassifier(base_score=None, boost...</td>\n",
       "      <td>0.543284</td>\n",
       "      <td>0.008123</td>\n",
       "      <td>11</td>\n",
       "    </tr>\n",
       "    <tr>\n",
       "      <th>12</th>\n",
       "      <td>35.265953</td>\n",
       "      <td>{'model': XGBClassifier(base_score=None, boost...</td>\n",
       "      <td>0.541823</td>\n",
       "      <td>0.007981</td>\n",
       "      <td>12</td>\n",
       "    </tr>\n",
       "    <tr>\n",
       "      <th>5</th>\n",
       "      <td>8.545197</td>\n",
       "      <td>{'model': XGBClassifier(base_score=None, boost...</td>\n",
       "      <td>0.536723</td>\n",
       "      <td>0.005469</td>\n",
       "      <td>13</td>\n",
       "    </tr>\n",
       "    <tr>\n",
       "      <th>11</th>\n",
       "      <td>25.555058</td>\n",
       "      <td>{'model': XGBClassifier(base_score=None, boost...</td>\n",
       "      <td>0.534379</td>\n",
       "      <td>0.007839</td>\n",
       "      <td>14</td>\n",
       "    </tr>\n",
       "    <tr>\n",
       "      <th>10</th>\n",
       "      <td>16.703288</td>\n",
       "      <td>{'model': XGBClassifier(base_score=None, boost...</td>\n",
       "      <td>0.490279</td>\n",
       "      <td>0.007311</td>\n",
       "      <td>15</td>\n",
       "    </tr>\n",
       "  </tbody>\n",
       "</table>\n",
       "</div>"
      ],
      "text/plain": [
       "    mean_fit_time                                             params  \\\n",
       "4       11.989467  {'model': XGBClassifier(base_score=None, boost...   \n",
       "3        9.810561  {'model': XGBClassifier(base_score=None, boost...   \n",
       "2        7.623480  {'model': XGBClassifier(base_score=None, boost...   \n",
       "9       29.620051  {'model': XGBClassifier(base_score=None, boost...   \n",
       "1        5.690770  {'model': XGBClassifier(base_score=None, boost...   \n",
       "8       23.745516  {'model': XGBClassifier(base_score=None, boost...   \n",
       "7       18.227785  {'model': XGBClassifier(base_score=None, boost...   \n",
       "0        3.896986  {'model': XGBClassifier(base_score=None, boost...   \n",
       "14      48.668993  {'model': XGBClassifier(base_score=None, boost...   \n",
       "6       13.015433  {'model': XGBClassifier(base_score=None, boost...   \n",
       "13      46.086990  {'model': XGBClassifier(base_score=None, boost...   \n",
       "12      35.265953  {'model': XGBClassifier(base_score=None, boost...   \n",
       "5        8.545197  {'model': XGBClassifier(base_score=None, boost...   \n",
       "11      25.555058  {'model': XGBClassifier(base_score=None, boost...   \n",
       "10      16.703288  {'model': XGBClassifier(base_score=None, boost...   \n",
       "\n",
       "    mean_test_score  std_test_score  rank_test_score  \n",
       "4          0.724098        0.004723                1  \n",
       "3          0.716871        0.006941                2  \n",
       "2          0.712445        0.006762                3  \n",
       "9          0.689332        0.005331                4  \n",
       "1          0.677358        0.012777                5  \n",
       "8          0.673077        0.009843                6  \n",
       "7          0.650696        0.013979                7  \n",
       "0          0.609663        0.016872                8  \n",
       "14         0.545008        0.007378                9  \n",
       "6          0.544051        0.009271               10  \n",
       "13         0.543284        0.008123               11  \n",
       "12         0.541823        0.007981               12  \n",
       "5          0.536723        0.005469               13  \n",
       "11         0.534379        0.007839               14  \n",
       "10         0.490279        0.007311               15  "
      ]
     },
     "execution_count": 51,
     "metadata": {},
     "output_type": "execute_result"
    }
   ],
   "source": [
    "pd.set_option ('display.max_rows', None)\n",
    "pd.DataFrame(grid.cv_results_).sort_values('rank_test_score')[['mean_fit_time', 'params','mean_test_score','std_test_score','rank_test_score']]"
   ]
  },
  {
   "cell_type": "markdown",
   "metadata": {},
   "source": [
    "## Before vs After Tuning"
   ]
  },
  {
   "cell_type": "code",
   "execution_count": 52,
   "metadata": {},
   "outputs": [],
   "source": [
    "# Before tuning\n",
    "xgb=XGBClassifier(random_state=2020)\n",
    "estimator=Pipeline([\n",
    "    ('processing',transformer),\n",
    "    ('model',xgb)\n",
    "])\n",
    "estimator.fit(x_train,y_train)\n",
    "y_pred_before=estimator.predict(x_test)\n",
    "\n",
    "# After tuning\n",
    "best_model=grid.best_estimator_\n",
    "best_model.fit(x_train,y_train)\n",
    "y_pred_after=best_model.predict(x_test)"
   ]
  },
  {
   "cell_type": "code",
   "execution_count": 53,
   "metadata": {},
   "outputs": [],
   "source": [
    "before_tuning=classification_report(y_test,y_pred_before)\n",
    "after_tuning=classification_report(y_test,y_pred_after)"
   ]
  },
  {
   "cell_type": "code",
   "execution_count": 54,
   "metadata": {},
   "outputs": [
    {
     "name": "stdout",
     "output_type": "stream",
     "text": [
      "Before Tuning \n",
      "               precision    recall  f1-score   support\n",
      "\n",
      "           0       0.83      0.89      0.86     13199\n",
      "           1       0.78      0.68      0.73      7695\n",
      "\n",
      "    accuracy                           0.81     20894\n",
      "   macro avg       0.80      0.78      0.79     20894\n",
      "weighted avg       0.81      0.81      0.81     20894\n",
      "\n",
      "After Tuning \n",
      "               precision    recall  f1-score   support\n",
      "\n",
      "           0       0.83      0.88      0.86     13199\n",
      "           1       0.77      0.69      0.73      7695\n",
      "\n",
      "    accuracy                           0.81     20894\n",
      "   macro avg       0.80      0.79      0.79     20894\n",
      "weighted avg       0.81      0.81      0.81     20894\n",
      "\n"
     ]
    }
   ],
   "source": [
    "print(f'Before Tuning \\n',before_tuning)\n",
    "print(f'After Tuning \\n',after_tuning)"
   ]
  },
  {
   "cell_type": "markdown",
   "metadata": {},
   "source": [
    "terlihat bahwa nilai mean sebelum dan setelah tuning meningkat 0.000028, karena pembulatan. maka nilai pada f1 nya tidak berubah"
   ]
  },
  {
   "cell_type": "markdown",
   "metadata": {},
   "source": [
    "## Feature Importances\n"
   ]
  },
  {
   "cell_type": "code",
   "execution_count": 55,
   "metadata": {},
   "outputs": [
    {
     "data": {
      "text/html": [
       "<style>#sk-container-id-3 {color: black;background-color: white;}#sk-container-id-3 pre{padding: 0;}#sk-container-id-3 div.sk-toggleable {background-color: white;}#sk-container-id-3 label.sk-toggleable__label {cursor: pointer;display: block;width: 100%;margin-bottom: 0;padding: 0.3em;box-sizing: border-box;text-align: center;}#sk-container-id-3 label.sk-toggleable__label-arrow:before {content: \"▸\";float: left;margin-right: 0.25em;color: #696969;}#sk-container-id-3 label.sk-toggleable__label-arrow:hover:before {color: black;}#sk-container-id-3 div.sk-estimator:hover label.sk-toggleable__label-arrow:before {color: black;}#sk-container-id-3 div.sk-toggleable__content {max-height: 0;max-width: 0;overflow: hidden;text-align: left;background-color: #f0f8ff;}#sk-container-id-3 div.sk-toggleable__content pre {margin: 0.2em;color: black;border-radius: 0.25em;background-color: #f0f8ff;}#sk-container-id-3 input.sk-toggleable__control:checked~div.sk-toggleable__content {max-height: 200px;max-width: 100%;overflow: auto;}#sk-container-id-3 input.sk-toggleable__control:checked~label.sk-toggleable__label-arrow:before {content: \"▾\";}#sk-container-id-3 div.sk-estimator input.sk-toggleable__control:checked~label.sk-toggleable__label {background-color: #d4ebff;}#sk-container-id-3 div.sk-label input.sk-toggleable__control:checked~label.sk-toggleable__label {background-color: #d4ebff;}#sk-container-id-3 input.sk-hidden--visually {border: 0;clip: rect(1px 1px 1px 1px);clip: rect(1px, 1px, 1px, 1px);height: 1px;margin: -1px;overflow: hidden;padding: 0;position: absolute;width: 1px;}#sk-container-id-3 div.sk-estimator {font-family: monospace;background-color: #f0f8ff;border: 1px dotted black;border-radius: 0.25em;box-sizing: border-box;margin-bottom: 0.5em;}#sk-container-id-3 div.sk-estimator:hover {background-color: #d4ebff;}#sk-container-id-3 div.sk-parallel-item::after {content: \"\";width: 100%;border-bottom: 1px solid gray;flex-grow: 1;}#sk-container-id-3 div.sk-label:hover label.sk-toggleable__label {background-color: #d4ebff;}#sk-container-id-3 div.sk-serial::before {content: \"\";position: absolute;border-left: 1px solid gray;box-sizing: border-box;top: 0;bottom: 0;left: 50%;z-index: 0;}#sk-container-id-3 div.sk-serial {display: flex;flex-direction: column;align-items: center;background-color: white;padding-right: 0.2em;padding-left: 0.2em;position: relative;}#sk-container-id-3 div.sk-item {position: relative;z-index: 1;}#sk-container-id-3 div.sk-parallel {display: flex;align-items: stretch;justify-content: center;background-color: white;position: relative;}#sk-container-id-3 div.sk-item::before, #sk-container-id-3 div.sk-parallel-item::before {content: \"\";position: absolute;border-left: 1px solid gray;box-sizing: border-box;top: 0;bottom: 0;left: 50%;z-index: -1;}#sk-container-id-3 div.sk-parallel-item {display: flex;flex-direction: column;z-index: 1;position: relative;background-color: white;}#sk-container-id-3 div.sk-parallel-item:first-child::after {align-self: flex-end;width: 50%;}#sk-container-id-3 div.sk-parallel-item:last-child::after {align-self: flex-start;width: 50%;}#sk-container-id-3 div.sk-parallel-item:only-child::after {width: 0;}#sk-container-id-3 div.sk-dashed-wrapped {border: 1px dashed gray;margin: 0 0.4em 0.5em 0.4em;box-sizing: border-box;padding-bottom: 0.4em;background-color: white;}#sk-container-id-3 div.sk-label label {font-family: monospace;font-weight: bold;display: inline-block;line-height: 1.2em;}#sk-container-id-3 div.sk-label-container {text-align: center;}#sk-container-id-3 div.sk-container {/* jupyter's `normalize.less` sets `[hidden] { display: none; }` but bootstrap.min.css set `[hidden] { display: none !important; }` so we also need the `!important` here to be able to override the default hidden behavior on the sphinx rendered scikit-learn.org. See: https://github.com/scikit-learn/scikit-learn/issues/21755 */display: inline-block !important;position: relative;}#sk-container-id-3 div.sk-text-repr-fallback {display: none;}</style><div id=\"sk-container-id-3\" class=\"sk-top-container\"><div class=\"sk-text-repr-fallback\"><pre>Pipeline(steps=[(&#x27;processing&#x27;,\n",
       "                 ColumnTransformer(remainder=&#x27;passthrough&#x27;,\n",
       "                                   transformers=[(&#x27;onehot&#x27;,\n",
       "                                                  OneHotEncoder(drop=&#x27;first&#x27;),\n",
       "                                                  [&#x27;customer type&#x27;]),\n",
       "                                                 (&#x27;binary&#x27;, BinaryEncoder(),\n",
       "                                                  [&#x27;country&#x27;,\n",
       "                                                   &#x27;reserved room type&#x27;,\n",
       "                                                   &#x27;market segment&#x27;])])),\n",
       "                (&#x27;model&#x27;,\n",
       "                 XGBClassifier(base_score=0.5, booster=&#x27;gbtree&#x27;, callbacks=None,\n",
       "                               colsample_bylevel=1, colsample_bynode=1,\n",
       "                               colsample_bytree=1, ear...\n",
       "                               feature_types=None, gamma=0, gpu_id=-1,\n",
       "                               grow_policy=&#x27;depthwise&#x27;, importance_type=None,\n",
       "                               interaction_constraints=&#x27;&#x27;, learning_rate=0.1,\n",
       "                               max_bin=256, max_cat_threshold=64,\n",
       "                               max_cat_to_onehot=4, max_delta_step=0,\n",
       "                               max_depth=5, max_leaves=0, min_child_weight=1,\n",
       "                               missing=nan, monotone_constraints=&#x27;()&#x27;,\n",
       "                               n_estimators=200, n_jobs=0, num_parallel_tree=1,\n",
       "                               predictor=&#x27;auto&#x27;, random_state=0, ...))])</pre><b>In a Jupyter environment, please rerun this cell to show the HTML representation or trust the notebook. <br />On GitHub, the HTML representation is unable to render, please try loading this page with nbviewer.org.</b></div><div class=\"sk-container\" hidden><div class=\"sk-item sk-dashed-wrapped\"><div class=\"sk-label-container\"><div class=\"sk-label sk-toggleable\"><input class=\"sk-toggleable__control sk-hidden--visually\" id=\"sk-estimator-id-21\" type=\"checkbox\" ><label for=\"sk-estimator-id-21\" class=\"sk-toggleable__label sk-toggleable__label-arrow\">Pipeline</label><div class=\"sk-toggleable__content\"><pre>Pipeline(steps=[(&#x27;processing&#x27;,\n",
       "                 ColumnTransformer(remainder=&#x27;passthrough&#x27;,\n",
       "                                   transformers=[(&#x27;onehot&#x27;,\n",
       "                                                  OneHotEncoder(drop=&#x27;first&#x27;),\n",
       "                                                  [&#x27;customer type&#x27;]),\n",
       "                                                 (&#x27;binary&#x27;, BinaryEncoder(),\n",
       "                                                  [&#x27;country&#x27;,\n",
       "                                                   &#x27;reserved room type&#x27;,\n",
       "                                                   &#x27;market segment&#x27;])])),\n",
       "                (&#x27;model&#x27;,\n",
       "                 XGBClassifier(base_score=0.5, booster=&#x27;gbtree&#x27;, callbacks=None,\n",
       "                               colsample_bylevel=1, colsample_bynode=1,\n",
       "                               colsample_bytree=1, ear...\n",
       "                               feature_types=None, gamma=0, gpu_id=-1,\n",
       "                               grow_policy=&#x27;depthwise&#x27;, importance_type=None,\n",
       "                               interaction_constraints=&#x27;&#x27;, learning_rate=0.1,\n",
       "                               max_bin=256, max_cat_threshold=64,\n",
       "                               max_cat_to_onehot=4, max_delta_step=0,\n",
       "                               max_depth=5, max_leaves=0, min_child_weight=1,\n",
       "                               missing=nan, monotone_constraints=&#x27;()&#x27;,\n",
       "                               n_estimators=200, n_jobs=0, num_parallel_tree=1,\n",
       "                               predictor=&#x27;auto&#x27;, random_state=0, ...))])</pre></div></div></div><div class=\"sk-serial\"><div class=\"sk-item sk-dashed-wrapped\"><div class=\"sk-label-container\"><div class=\"sk-label sk-toggleable\"><input class=\"sk-toggleable__control sk-hidden--visually\" id=\"sk-estimator-id-22\" type=\"checkbox\" ><label for=\"sk-estimator-id-22\" class=\"sk-toggleable__label sk-toggleable__label-arrow\">processing: ColumnTransformer</label><div class=\"sk-toggleable__content\"><pre>ColumnTransformer(remainder=&#x27;passthrough&#x27;,\n",
       "                  transformers=[(&#x27;onehot&#x27;, OneHotEncoder(drop=&#x27;first&#x27;),\n",
       "                                 [&#x27;customer type&#x27;]),\n",
       "                                (&#x27;binary&#x27;, BinaryEncoder(),\n",
       "                                 [&#x27;country&#x27;, &#x27;reserved room type&#x27;,\n",
       "                                  &#x27;market segment&#x27;])])</pre></div></div></div><div class=\"sk-parallel\"><div class=\"sk-parallel-item\"><div class=\"sk-item\"><div class=\"sk-label-container\"><div class=\"sk-label sk-toggleable\"><input class=\"sk-toggleable__control sk-hidden--visually\" id=\"sk-estimator-id-23\" type=\"checkbox\" ><label for=\"sk-estimator-id-23\" class=\"sk-toggleable__label sk-toggleable__label-arrow\">onehot</label><div class=\"sk-toggleable__content\"><pre>[&#x27;customer type&#x27;]</pre></div></div></div><div class=\"sk-serial\"><div class=\"sk-item\"><div class=\"sk-estimator sk-toggleable\"><input class=\"sk-toggleable__control sk-hidden--visually\" id=\"sk-estimator-id-24\" type=\"checkbox\" ><label for=\"sk-estimator-id-24\" class=\"sk-toggleable__label sk-toggleable__label-arrow\">OneHotEncoder</label><div class=\"sk-toggleable__content\"><pre>OneHotEncoder(drop=&#x27;first&#x27;)</pre></div></div></div></div></div></div><div class=\"sk-parallel-item\"><div class=\"sk-item\"><div class=\"sk-label-container\"><div class=\"sk-label sk-toggleable\"><input class=\"sk-toggleable__control sk-hidden--visually\" id=\"sk-estimator-id-25\" type=\"checkbox\" ><label for=\"sk-estimator-id-25\" class=\"sk-toggleable__label sk-toggleable__label-arrow\">binary</label><div class=\"sk-toggleable__content\"><pre>[&#x27;country&#x27;, &#x27;reserved room type&#x27;, &#x27;market segment&#x27;]</pre></div></div></div><div class=\"sk-serial\"><div class=\"sk-item\"><div class=\"sk-estimator sk-toggleable\"><input class=\"sk-toggleable__control sk-hidden--visually\" id=\"sk-estimator-id-26\" type=\"checkbox\" ><label for=\"sk-estimator-id-26\" class=\"sk-toggleable__label sk-toggleable__label-arrow\">BinaryEncoder</label><div class=\"sk-toggleable__content\"><pre>BinaryEncoder()</pre></div></div></div></div></div></div><div class=\"sk-parallel-item\"><div class=\"sk-item\"><div class=\"sk-label-container\"><div class=\"sk-label sk-toggleable\"><input class=\"sk-toggleable__control sk-hidden--visually\" id=\"sk-estimator-id-27\" type=\"checkbox\" ><label for=\"sk-estimator-id-27\" class=\"sk-toggleable__label sk-toggleable__label-arrow\">remainder</label><div class=\"sk-toggleable__content\"><pre>[&#x27;ever cancel&#x27;, &#x27;book change&#x27;, &#x27;deposit&#x27;, &#x27;waiting list&#x27;, &#x27;required car parking spaces&#x27;, &#x27;total of special requests&#x27;]</pre></div></div></div><div class=\"sk-serial\"><div class=\"sk-item\"><div class=\"sk-estimator sk-toggleable\"><input class=\"sk-toggleable__control sk-hidden--visually\" id=\"sk-estimator-id-28\" type=\"checkbox\" ><label for=\"sk-estimator-id-28\" class=\"sk-toggleable__label sk-toggleable__label-arrow\">passthrough</label><div class=\"sk-toggleable__content\"><pre>passthrough</pre></div></div></div></div></div></div></div></div><div class=\"sk-item\"><div class=\"sk-estimator sk-toggleable\"><input class=\"sk-toggleable__control sk-hidden--visually\" id=\"sk-estimator-id-29\" type=\"checkbox\" ><label for=\"sk-estimator-id-29\" class=\"sk-toggleable__label sk-toggleable__label-arrow\">XGBClassifier</label><div class=\"sk-toggleable__content\"><pre>XGBClassifier(base_score=0.5, booster=&#x27;gbtree&#x27;, callbacks=None,\n",
       "              colsample_bylevel=1, colsample_bynode=1, colsample_bytree=1,\n",
       "              early_stopping_rounds=None, enable_categorical=False,\n",
       "              eval_metric=None, feature_types=None, gamma=0, gpu_id=-1,\n",
       "              grow_policy=&#x27;depthwise&#x27;, importance_type=None,\n",
       "              interaction_constraints=&#x27;&#x27;, learning_rate=0.1, max_bin=256,\n",
       "              max_cat_threshold=64, max_cat_to_onehot=4, max_delta_step=0,\n",
       "              max_depth=5, max_leaves=0, min_child_weight=1, missing=nan,\n",
       "              monotone_constraints=&#x27;()&#x27;, n_estimators=200, n_jobs=0,\n",
       "              num_parallel_tree=1, predictor=&#x27;auto&#x27;, random_state=0, ...)</pre></div></div></div></div></div></div></div>"
      ],
      "text/plain": [
       "Pipeline(steps=[('processing',\n",
       "                 ColumnTransformer(remainder='passthrough',\n",
       "                                   transformers=[('onehot',\n",
       "                                                  OneHotEncoder(drop='first'),\n",
       "                                                  ['customer type']),\n",
       "                                                 ('binary', BinaryEncoder(),\n",
       "                                                  ['country',\n",
       "                                                   'reserved room type',\n",
       "                                                   'market segment'])])),\n",
       "                ('model',\n",
       "                 XGBClassifier(base_score=0.5, booster='gbtree', callbacks=None,\n",
       "                               colsample_bylevel=1, colsample_bynode=1,\n",
       "                               colsample_bytree=1, ear...\n",
       "                               feature_types=None, gamma=0, gpu_id=-1,\n",
       "                               grow_policy='depthwise', importance_type=None,\n",
       "                               interaction_constraints='', learning_rate=0.1,\n",
       "                               max_bin=256, max_cat_threshold=64,\n",
       "                               max_cat_to_onehot=4, max_delta_step=0,\n",
       "                               max_depth=5, max_leaves=0, min_child_weight=1,\n",
       "                               missing=nan, monotone_constraints='()',\n",
       "                               n_estimators=200, n_jobs=0, num_parallel_tree=1,\n",
       "                               predictor='auto', random_state=0, ...))])"
      ]
     },
     "execution_count": 55,
     "metadata": {},
     "output_type": "execute_result"
    }
   ],
   "source": [
    "best_model"
   ]
  },
  {
   "cell_type": "code",
   "execution_count": 56,
   "metadata": {},
   "outputs": [
    {
     "data": {
      "text/plain": [
       "array(['customer type_Group', 'customer type_Transient',\n",
       "       'customer type_Transient-Party'], dtype=object)"
      ]
     },
     "execution_count": 56,
     "metadata": {},
     "output_type": "execute_result"
    }
   ],
   "source": [
    "# feature\n",
    "best_model[0].transformers_[0][1].get_feature_names_out()"
   ]
  },
  {
   "cell_type": "code",
   "execution_count": 57,
   "metadata": {},
   "outputs": [
    {
     "data": {
      "text/plain": [
       "['country_0',\n",
       " 'country_1',\n",
       " 'country_2',\n",
       " 'country_3',\n",
       " 'country_4',\n",
       " 'country_5',\n",
       " 'country_6',\n",
       " 'country_7',\n",
       " 'reserved room type_0',\n",
       " 'reserved room type_1',\n",
       " 'reserved room type_2',\n",
       " 'reserved room type_3',\n",
       " 'market segment_0',\n",
       " 'market segment_1',\n",
       " 'market segment_2',\n",
       " 'market segment_3']"
      ]
     },
     "execution_count": 57,
     "metadata": {},
     "output_type": "execute_result"
    }
   ],
   "source": [
    "best_model[0].transformers_[1][1].get_feature_names()"
   ]
  },
  {
   "cell_type": "code",
   "execution_count": 58,
   "metadata": {},
   "outputs": [
    {
     "data": {
      "text/plain": [
       "Index(['ever cancel', 'book change', 'deposit', 'waiting list',\n",
       "       'required car parking spaces', 'total of special requests'],\n",
       "      dtype='object')"
      ]
     },
     "execution_count": 58,
     "metadata": {},
     "output_type": "execute_result"
    }
   ],
   "source": [
    "x.columns[best_model[0].transformers_[2][2]]"
   ]
  },
  {
   "cell_type": "code",
   "execution_count": 59,
   "metadata": {},
   "outputs": [],
   "source": [
    "feature=list(best_model[0].transformers_[0][1].get_feature_names_out())+list(best_model[0].transformers_[1][1].get_feature_names())+list(x.columns[best_model[0].transformers_[2][2]])"
   ]
  },
  {
   "cell_type": "code",
   "execution_count": 60,
   "metadata": {},
   "outputs": [
    {
     "data": {
      "text/html": [
       "<div>\n",
       "<style scoped>\n",
       "    .dataframe tbody tr th:only-of-type {\n",
       "        vertical-align: middle;\n",
       "    }\n",
       "\n",
       "    .dataframe tbody tr th {\n",
       "        vertical-align: top;\n",
       "    }\n",
       "\n",
       "    .dataframe thead th {\n",
       "        text-align: right;\n",
       "    }\n",
       "</style>\n",
       "<table border=\"1\" class=\"dataframe\">\n",
       "  <thead>\n",
       "    <tr style=\"text-align: right;\">\n",
       "      <th></th>\n",
       "      <th>imp</th>\n",
       "    </tr>\n",
       "  </thead>\n",
       "  <tbody>\n",
       "    <tr>\n",
       "      <th>deposit</th>\n",
       "      <td>0.677255</td>\n",
       "    </tr>\n",
       "    <tr>\n",
       "      <th>required car parking spaces</th>\n",
       "      <td>0.089883</td>\n",
       "    </tr>\n",
       "    <tr>\n",
       "      <th>ever cancel</th>\n",
       "      <td>0.033572</td>\n",
       "    </tr>\n",
       "    <tr>\n",
       "      <th>customer type_Transient</th>\n",
       "      <td>0.031331</td>\n",
       "    </tr>\n",
       "    <tr>\n",
       "      <th>market segment_1</th>\n",
       "      <td>0.023030</td>\n",
       "    </tr>\n",
       "  </tbody>\n",
       "</table>\n",
       "</div>"
      ],
      "text/plain": [
       "                                  imp\n",
       "deposit                      0.677255\n",
       "required car parking spaces  0.089883\n",
       "ever cancel                  0.033572\n",
       "customer type_Transient      0.031331\n",
       "market segment_1             0.023030"
      ]
     },
     "execution_count": 60,
     "metadata": {},
     "output_type": "execute_result"
    }
   ],
   "source": [
    "#feature importance\n",
    "pd.DataFrame({'imp':best_model[1].feature_importances_},index=feature).sort_values('imp',ascending=False).head()"
   ]
  },
  {
   "cell_type": "code",
   "execution_count": 61,
   "metadata": {},
   "outputs": [
    {
     "data": {
      "image/png": "[encoded data removed]",
      "text/plain": [
       "<Figure size 1000x1500 with 1 Axes>"
      ]
     },
     "metadata": {},
     "output_type": "display_data"
    }
   ],
   "source": [
    "#visualisasi\n",
    "pd.DataFrame({'imp':best_model[1].feature_importances_},index=feature).sort_values('imp',ascending=True).plot(kind='barh',figsize=(10,15))\n",
    "mpl.show()"
   ]
  },
  {
   "cell_type": "markdown",
   "metadata": {},
   "source": [
    "Terlihat bahwa ternyata untuk model XGV, fitur/kolom deposit adalah yang paling penting, kemudian diikuti dengan required parking space, ever cancel, dan selanjutnya.\n",
    "\n",
    "ini mirip dengan simple EDA diatas dimana pelanggan yang melakukan deposit cenderung membatalkan pemesanan"
   ]
  },
  {
   "cell_type": "markdown",
   "metadata": {},
   "source": [
    "## Conclusion & Recommendation"
   ]
  },
  {
   "cell_type": "code",
   "execution_count": 66,
   "metadata": {},
   "outputs": [
    {
     "name": "stdout",
     "output_type": "stream",
     "text": [
      "Classification report after tuning \n",
      "               precision    recall  f1-score   support\n",
      "\n",
      "           0       0.83      0.88      0.86     13199\n",
      "           1       0.77      0.69      0.73      7695\n",
      "\n",
      "    accuracy                           0.81     20894\n",
      "   macro avg       0.80      0.79      0.79     20894\n",
      "weighted avg       0.81      0.81      0.81     20894\n",
      "\n"
     ]
    }
   ],
   "source": [
    "print(f'Classification report after tuning \\n',after_tuning)"
   ]
  },
  {
   "cell_type": "code",
   "execution_count": 67,
   "metadata": {},
   "outputs": [],
   "source": [
    "# Save Model\n",
    "import pickle"
   ]
  },
  {
   "cell_type": "code",
   "execution_count": 69,
   "metadata": {},
   "outputs": [],
   "source": [
    "pickle.dump(best_model,open('model_picle.sav','wb'))"
   ]
  },
  {
   "cell_type": "markdown",
   "metadata": {},
   "source": [
    "Berdasarkan hasil classification report dari model kita, kita dapat menyimpulkan/mengambil konklusi bahwa bila seandainya menggunakan model ini untuk memprediksi pelanggan yang membatalkan pesanan, maka model ini dapat mengurangi 86% pelanggan yang tidak ingin membatalkan pesanan, dan model ini dapat mendapatkan 73% pelanggan yang akan membatalkan pemesanan dari seluruh kajumlah pelanggan (semua ini berdasarkan f1)\n",
    "\n",
    "Model kita ini memiliki ketepatan prediksi pelanggan yang akan membatalkan sebesar sebesar 77% (precisionnya), jadi setiap model memprediksi bahwa seorang pelanggan akan melakukan pembatalan, maka kemungkinan tebakannya benar itu sebesar 77% kurang lebih. Maka masih akan ada pelanggan yang sebenarnya tidak membatalkan pemesanan tetapi diprediksi sebagai kandidat yang akan membatalkan sekitar 14% dari keseluruhan kandidat yang tidak tertarik (berdasarkan f1).\n"
   ]
  },
  {
   "cell_type": "markdown",
   "metadata": {},
   "source": [
    "## Recommendation"
   ]
  },
  {
   "cell_type": "markdown",
   "metadata": {},
   "source": [
    "Hal-hal yang bisa dilakukan untuk mengembangkan project dan modelnya lebih baik lagi :\n",
    "\n",
    "1. Mengganti model karena peningkatan apda sebelum dan setelah tuning tidak signifikan\n",
    "1. Menambahkan fitur2 atau kolom2 baru yang kemungkinan bisa berhubungan dengan pembatalan, seperti marital status(untuk mengecek apakah pelanggan ini sudah pernah menikah atau belum karena biasanya orang yang sudah menikah akan lebih banyak berpikir sebelum mengambil keputusan)\n",
    "1. Membuat kebijakan yang mendorong pelanggan untuk melakukan deposit saat melakukan pemesanan hotel, sehingga pelanggan akan berpikir 2 kali untuk melakukan pembatalan\n",
    "1. Menganalisa data-data yang model kita masih salah tebak untuk mengetahui alasannya dan karakteristiknya bagaimana."
   ]
  },
  {
   "cell_type": "markdown",
   "metadata": {},
   "source": []
  }
 ],
 "metadata": {
  "kernelspec": {
   "display_name": "Python 3.10.6 64-bit",
   "language": "python",
   "name": "python3"
  },
  "language_info": {
   "codemirror_mode": {
    "name": "ipython",
    "version": 3
   },
   "file_extension": ".py",
   "mimetype": "text/x-python",
   "name": "python",
   "nbconvert_exporter": "python",
   "pygments_lexer": "ipython3",
   "version": "3.10.6"
  },
  "orig_nbformat": 4,
  "vscode": {
   "interpreter": {
    "hash": "945ba00099661281427cc644a7000ee9eeea5ce6ad3bf937939d3d384b8f3881"
   }
  }
 },
 "nbformat": 4,
 "nbformat_minor": 2
}
